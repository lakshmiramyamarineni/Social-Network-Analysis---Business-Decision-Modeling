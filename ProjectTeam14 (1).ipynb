{
  "nbformat": 4,
  "nbformat_minor": 0,
  "metadata": {
    "colab": {
      "provenance": [],
      "collapsed_sections": [],
      "toc_visible": true
    },
    "kernelspec": {
      "name": "python3",
      "display_name": "Python 3"
    },
    "language_info": {
      "name": "python"
    }
  },
  "cells": [
    {
      "cell_type": "markdown",
      "source": [
        "# PROJECT - Social Network Analysis\n",
        "**OPIM 5641 - Business Decision Modeling**\n"
      ],
      "metadata": {
        "id": "UJVzFeJ5xhYj"
      }
    },
    {
      "cell_type": "markdown",
      "source": [
        "## Group Members:\n",
        "\n",
        "\n",
        "*   Lakshmiramya Marineni\n",
        "*   Anisha Biswal\n",
        "\n"
      ],
      "metadata": {
        "id": "ohLtB24L3DR8"
      }
    },
    {
      "cell_type": "markdown",
      "source": [
        "# 1 (A)\n",
        "\n",
        "One of the main metrics used to describe a social network is the density — that is, the number of links in the network over the number of possible links. What is the density of each network?"
      ],
      "metadata": {
        "id": "a6fmTZIhyDD9"
      }
    },
    {
      "cell_type": "code",
      "source": [
        "# import modules\n",
        "\n",
        "%matplotlib inline\n",
        "from pylab import *\n",
        "\n",
        "import shutil\n",
        "import sys\n",
        "import os.path\n",
        "\n",
        "if not shutil.which(\"pyomo\"):\n",
        "    !pip install -q pyomo\n",
        "    assert(shutil.which(\"pyomo\"))\n",
        "\n",
        "if not (shutil.which(\"cbc\") or os.path.isfile(\"cbc\")):\n",
        "    if \"google.colab\" in sys.modules:\n",
        "        !apt-get install -y -qq coinor-cbc\n",
        "    else:\n",
        "        try:\n",
        "            !conda install -c conda-forge coincbc \n",
        "        except:\n",
        "            pass\n",
        "\n",
        "assert(shutil.which(\"cbc\") or os.path.isfile(\"cbc\"))\n",
        "\n",
        "from pyomo.environ import *\n",
        "import pandas as pd\n",
        "import numpy as np"
      ],
      "metadata": {
        "id": "JNml6gH_N7Vw"
      },
      "execution_count": null,
      "outputs": []
    },
    {
      "cell_type": "code",
      "source": [
        "from google.colab import drive\n",
        "drive.mount('/content/drive')"
      ],
      "metadata": {
        "colab": {
          "base_uri": "https://localhost:8080/"
        },
        "id": "OKfc9K9WsJfT",
        "outputId": "fb7e8326-0790-42ac-e548-6e828f8536ad"
      },
      "execution_count": null,
      "outputs": [
        {
          "output_type": "stream",
          "name": "stdout",
          "text": [
            "Drive already mounted at /content/drive; to attempt to forcibly remount, call drive.mount(\"/content/drive\", force_remount=True).\n"
          ]
        }
      ]
    },
    {
      "cell_type": "code",
      "source": [
        "path_to_input = \"/content/drive/MyDrive/BDM/SocialNetworks.xlsx\" # Change this path to where you file actually is when you re-run this solution"
      ],
      "metadata": {
        "id": "Q2zrEip2sTlk"
      },
      "execution_count": null,
      "outputs": []
    },
    {
      "cell_type": "code",
      "source": [
        "# import package\n",
        "import pandas as pd\n",
        "import numpy as np\n",
        "from scipy import stats"
      ],
      "metadata": {
        "id": "RzjiOJM16P3m"
      },
      "execution_count": null,
      "outputs": []
    },
    {
      "cell_type": "markdown",
      "source": [
        "##Small network"
      ],
      "metadata": {
        "id": "rtT2lbMtFEOE"
      }
    },
    {
      "cell_type": "code",
      "source": [
        "xl = pd.ExcelFile(path_to_input)\n",
        "\n",
        "small_network_df = pd.read_excel(path_to_input,\n",
        "                              sheet_name = \"Small\",\n",
        "                              header = None)\n",
        "large_network_df = pd.read_excel(path_to_input,\n",
        "                              sheet_name = \"Large\",\n",
        "                              header = None)\n",
        "\n",
        "small_network_matrix = np.zeros( shape=(len(small_network_df),len(small_network_df)) )\n",
        "small_network_raw = np.array(small_network_df)\n",
        "\n",
        "# check the possible link for small network \n",
        "for i in range(small_network_raw.shape[0]):\n",
        "  print('\\n Start point:',i+1)\n",
        "  for j in range(2,small_network_raw.shape[1]):\n",
        "    if not pd.isna(small_network_raw[i,j]):\n",
        "      print(\"\\t End point: \", int(small_network_raw[i,j]))\n",
        "      small_network_matrix[i,int(small_network_raw[i,j] - 1)] = 1"
      ],
      "metadata": {
        "colab": {
          "base_uri": "https://localhost:8080/"
        },
        "id": "b2ZC0Hhs6Ndf",
        "outputId": "e61af171-a1bb-4f5d-a581-3dca7165c835"
      },
      "execution_count": null,
      "outputs": [
        {
          "output_type": "stream",
          "name": "stdout",
          "text": [
            "\n",
            " Start point: 1\n",
            "\t End point:  2\n",
            "\t End point:  3\n",
            "\t End point:  9\n",
            "\n",
            " Start point: 2\n",
            "\t End point:  1\n",
            "\t End point:  3\n",
            "\t End point:  10\n",
            "\n",
            " Start point: 3\n",
            "\t End point:  1\n",
            "\t End point:  2\n",
            "\t End point:  4\n",
            "\n",
            " Start point: 4\n",
            "\t End point:  3\n",
            "\t End point:  17\n",
            "\n",
            " Start point: 5\n",
            "\t End point:  6\n",
            "\t End point:  7\n",
            "\t End point:  10\n",
            "\n",
            " Start point: 6\n",
            "\t End point:  5\n",
            "\t End point:  7\n",
            "\t End point:  9\n",
            "\n",
            " Start point: 7\n",
            "\t End point:  5\n",
            "\t End point:  6\n",
            "\t End point:  8\n",
            "\n",
            " Start point: 8\n",
            "\t End point:  7\n",
            "\t End point:  9\n",
            "\n",
            " Start point: 9\n",
            "\t End point:  1\n",
            "\t End point:  6\n",
            "\t End point:  10\n",
            "\t End point:  8\n",
            "\t End point:  12\n",
            "\n",
            " Start point: 10\n",
            "\t End point:  2\n",
            "\t End point:  5\n",
            "\t End point:  9\n",
            "\t End point:  11\n",
            "\t End point:  12\n",
            "\n",
            " Start point: 11\n",
            "\t End point:  10\n",
            "\t End point:  12\n",
            "\n",
            " Start point: 12\n",
            "\t End point:  9\n",
            "\t End point:  10\n",
            "\t End point:  11\n",
            "\n",
            " Start point: 13\n",
            "\t End point:  14\n",
            "\t End point:  20\n",
            "\t End point:  16\n",
            "\t End point:  18\n",
            "\n",
            " Start point: 14\n",
            "\t End point:  13\n",
            "\t End point:  18\n",
            "\t End point:  16\n",
            "\n",
            " Start point: 15\n",
            "\t End point:  16\n",
            "\n",
            " Start point: 16\n",
            "\t End point:  13\n",
            "\t End point:  14\n",
            "\t End point:  15\n",
            "\n",
            " Start point: 17\n",
            "\t End point:  4\n",
            "\t End point:  19\n",
            "\t End point:  20\n",
            "\n",
            " Start point: 18\n",
            "\t End point:  14\n",
            "\t End point:  13\n",
            "\t End point:  20\n",
            "\n",
            " Start point: 19\n",
            "\t End point:  17\n",
            "\t End point:  20\n",
            "\n",
            " Start point: 20\n",
            "\t End point:  13\n",
            "\t End point:  17\n",
            "\t End point:  18\n",
            "\t End point:  19\n"
          ]
        }
      ]
    },
    {
      "cell_type": "code",
      "source": [
        "# Calculate the density for small network\n",
        "n_links_in_small = np.sum(small_network_matrix)/2\n",
        "print('total number of links:',n_links_in_small)\n",
        "\n",
        "n_possible_links_small = len(small_network_matrix) * len(small_network_matrix - 1) / 2\n",
        "print('possible number of links:', n_possible_links_small)\n",
        "\n",
        "density_small = n_links_in_small/n_possible_links_small\n",
        "print('Density', density_small)"
      ],
      "metadata": {
        "colab": {
          "base_uri": "https://localhost:8080/"
        },
        "id": "g6eFsNjWszx7",
        "outputId": "618a1ea3-a52f-449b-889f-6f12a552f748"
      },
      "execution_count": null,
      "outputs": [
        {
          "output_type": "stream",
          "name": "stdout",
          "text": [
            "total number of links: 30.0\n",
            "possible number of links: 200.0\n",
            "Density 0.15\n"
          ]
        }
      ]
    },
    {
      "cell_type": "markdown",
      "source": [
        "##Large network"
      ],
      "metadata": {
        "id": "zNd1TIx7E-Ld"
      }
    },
    {
      "cell_type": "code",
      "source": [
        "# check the possible link for large network \n",
        "large_network_matrix = np.zeros( shape=(len(large_network_df),len(large_network_df)) )\n",
        "large_network_raw = np.array(large_network_df)\n",
        "\n",
        "for i in range(large_network_raw.shape[0]):\n",
        "  print('\\n Start point:',i+1)\n",
        "  for j in range(2,large_network_raw.shape[1]):\n",
        "    if not pd.isna(large_network_raw[i,j]):\n",
        "      print(\"\\t End point: \", int(large_network_raw[i,j]))\n",
        "      large_network_matrix[i,int(large_network_raw[i,j] - 1)] = 1"
      ],
      "metadata": {
        "colab": {
          "base_uri": "https://localhost:8080/"
        },
        "id": "fjMuM22u9NK5",
        "outputId": "5720c762-1a98-499c-a6fa-6ff52a12f138"
      },
      "execution_count": null,
      "outputs": [
        {
          "output_type": "stream",
          "name": "stdout",
          "text": [
            "\n",
            " Start point: 1\n",
            "\t End point:  2\n",
            "\t End point:  3\n",
            "\t End point:  25\n",
            "\t End point:  5\n",
            "\t End point:  47\n",
            "\n",
            " Start point: 2\n",
            "\t End point:  1\n",
            "\t End point:  24\n",
            "\t End point:  16\n",
            "\t End point:  26\n",
            "\n",
            " Start point: 3\n",
            "\t End point:  1\n",
            "\t End point:  4\n",
            "\t End point:  5\n",
            "\n",
            " Start point: 4\n",
            "\t End point:  3\n",
            "\t End point:  5\n",
            "\n",
            " Start point: 5\n",
            "\t End point:  1\n",
            "\t End point:  3\n",
            "\t End point:  4\n",
            "\n",
            " Start point: 6\n",
            "\t End point:  39\n",
            "\t End point:  22\n",
            "\t End point:  32\n",
            "\t End point:  23\n",
            "\n",
            " Start point: 7\n",
            "\t End point:  8\n",
            "\t End point:  9\n",
            "\t End point:  10\n",
            "\n",
            " Start point: 8\n",
            "\t End point:  7\n",
            "\t End point:  9\n",
            "\t End point:  10\n",
            "\n",
            " Start point: 9\n",
            "\t End point:  7\n",
            "\t End point:  8\n",
            "\t End point:  26\n",
            "\t End point:  29\n",
            "\n",
            " Start point: 10\n",
            "\t End point:  7\n",
            "\t End point:  8\n",
            "\t End point:  21\n",
            "\n",
            " Start point: 11\n",
            "\t End point:  12\n",
            "\t End point:  13\n",
            "\t End point:  33\n",
            "\t End point:  22\n",
            "\t End point:  46\n",
            "\n",
            " Start point: 12\n",
            "\t End point:  11\n",
            "\t End point:  13\n",
            "\t End point:  47\n",
            "\t End point:  15\n",
            "\t End point:  17\n",
            "\t End point:  18\n",
            "\t End point:  26\n",
            "\t End point:  27\n",
            "\n",
            " Start point: 13\n",
            "\t End point:  11\n",
            "\t End point:  12\n",
            "\t End point:  14\n",
            "\t End point:  15\n",
            "\n",
            " Start point: 14\n",
            "\t End point:  13\n",
            "\t End point:  15\n",
            "\n",
            " Start point: 15\n",
            "\t End point:  12\n",
            "\t End point:  13\n",
            "\t End point:  14\n",
            "\n",
            " Start point: 16\n",
            "\t End point:  2\n",
            "\t End point:  42\n",
            "\t End point:  27\n",
            "\t End point:  19\n",
            "\t End point:  48\n",
            "\t End point:  26\n",
            "\n",
            " Start point: 17\n",
            "\t End point:  12\n",
            "\t End point:  19\n",
            "\t End point:  20\n",
            "\t End point:  22\n",
            "\n",
            " Start point: 18\n",
            "\t End point:  12\n",
            "\t End point:  20\n",
            "\n",
            " Start point: 19\n",
            "\t End point:  16\n",
            "\t End point:  17\n",
            "\t End point:  36\n",
            "\t End point:  31\n",
            "\n",
            " Start point: 20\n",
            "\t End point:  17\n",
            "\t End point:  18\n",
            "\t End point:  26\n",
            "\t End point:  32\n",
            "\n",
            " Start point: 21\n",
            "\t End point:  22\n",
            "\t End point:  10\n",
            "\t End point:  44\n",
            "\t End point:  25\n",
            "\n",
            " Start point: 22\n",
            "\t End point:  6\n",
            "\t End point:  11\n",
            "\t End point:  21\n",
            "\t End point:  17\n",
            "\t End point:  24\n",
            "\t End point:  25\n",
            "\t End point:  42\n",
            "\n",
            " Start point: 23\n",
            "\t End point:  6\n",
            "\t End point:  24\n",
            "\t End point:  25\n",
            "\t End point:  38\n",
            "\n",
            " Start point: 24\n",
            "\t End point:  2\n",
            "\t End point:  22\n",
            "\t End point:  23\n",
            "\t End point:  25\n",
            "\n",
            " Start point: 25\n",
            "\t End point:  1\n",
            "\t End point:  21\n",
            "\t End point:  22\n",
            "\t End point:  23\n",
            "\t End point:  24\n",
            "\t End point:  31\n",
            "\t End point:  38\n",
            "\t End point:  47\n",
            "\n",
            " Start point: 26\n",
            "\t End point:  2\n",
            "\t End point:  9\n",
            "\t End point:  12\n",
            "\t End point:  28\n",
            "\t End point:  20\n",
            "\t End point:  16\n",
            "\n",
            " Start point: 27\n",
            "\t End point:  16\n",
            "\t End point:  12\n",
            "\t End point:  29\n",
            "\t End point:  30\n",
            "\n",
            " Start point: 28\n",
            "\t End point:  26\n",
            "\t End point:  29\n",
            "\t End point:  30\n",
            "\n",
            " Start point: 29\n",
            "\t End point:  27\n",
            "\t End point:  28\n",
            "\t End point:  9\n",
            "\n",
            " Start point: 30\n",
            "\t End point:  27\n",
            "\t End point:  28\n",
            "\n",
            " Start point: 31\n",
            "\t End point:  32\n",
            "\t End point:  19\n",
            "\t End point:  41\n",
            "\t End point:  25\n",
            "\n",
            " Start point: 32\n",
            "\t End point:  6\n",
            "\t End point:  31\n",
            "\t End point:  33\n",
            "\t End point:  34\n",
            "\t End point:  20\n",
            "\n",
            " Start point: 33\n",
            "\t End point:  11\n",
            "\t End point:  32\n",
            "\t End point:  34\n",
            "\t End point:  35\n",
            "\n",
            " Start point: 34\n",
            "\t End point:  32\n",
            "\t End point:  33\n",
            "\t End point:  35\n",
            "\n",
            " Start point: 35\n",
            "\t End point:  33\n",
            "\t End point:  34\n",
            "\n",
            " Start point: 36\n",
            "\t End point:  19\n",
            "\t End point:  37\n",
            "\t End point:  38\n",
            "\t End point:  39\n",
            "\t End point:  40\n",
            "\n",
            " Start point: 37\n",
            "\t End point:  36\n",
            "\t End point:  38\n",
            "\t End point:  39\n",
            "\t End point:  40\n",
            "\n",
            " Start point: 38\n",
            "\t End point:  36\n",
            "\t End point:  37\n",
            "\t End point:  23\n",
            "\t End point:  25\n",
            "\n",
            " Start point: 39\n",
            "\t End point:  6\n",
            "\t End point:  36\n",
            "\t End point:  37\n",
            "\t End point:  40\n",
            "\n",
            " Start point: 40\n",
            "\t End point:  36\n",
            "\t End point:  37\n",
            "\t End point:  39\n",
            "\n",
            " Start point: 41\n",
            "\t End point:  31\n",
            "\t End point:  42\n",
            "\t End point:  43\n",
            "\t End point:  44\n",
            "\t End point:  45\n",
            "\n",
            " Start point: 42\n",
            "\t End point:  16\n",
            "\t End point:  41\n",
            "\t End point:  43\n",
            "\t End point:  48\n",
            "\t End point:  22\n",
            "\n",
            " Start point: 43\n",
            "\t End point:  41\n",
            "\t End point:  42\n",
            "\t End point:  44\n",
            "\t End point:  45\n",
            "\n",
            " Start point: 44\n",
            "\t End point:  21\n",
            "\t End point:  41\n",
            "\t End point:  43\n",
            "\t End point:  45\n",
            "\n",
            " Start point: 45\n",
            "\t End point:  41\n",
            "\t End point:  43\n",
            "\t End point:  44\n",
            "\n",
            " Start point: 46\n",
            "\t End point:  47\n",
            "\t End point:  11\n",
            "\t End point:  49\n",
            "\t End point:  50\n",
            "\n",
            " Start point: 47\n",
            "\t End point:  12\n",
            "\t End point:  46\n",
            "\t End point:  25\n",
            "\t End point:  1\n",
            "\t End point:  50\n",
            "\n",
            " Start point: 48\n",
            "\t End point:  16\n",
            "\t End point:  42\n",
            "\t End point:  49\n",
            "\t End point:  50\n",
            "\n",
            " Start point: 49\n",
            "\t End point:  46\n",
            "\t End point:  48\n",
            "\t End point:  50\n",
            "\n",
            " Start point: 50\n",
            "\t End point:  46\n",
            "\t End point:  47\n",
            "\t End point:  48\n",
            "\t End point:  49\n"
          ]
        }
      ]
    },
    {
      "cell_type": "code",
      "source": [
        "# Calculate the density for large network\n",
        "n_links_in_large = np.sum(large_network_matrix)/2\n",
        "print('total number of links:', n_links_in_large)\n",
        "n_possible_links_large = len(large_network_matrix) * len(large_network_matrix - 1) / 2\n",
        "print('possible number of links:', n_possible_links_large)\n",
        "density_large = n_links_in_large/n_possible_links_large\n",
        "print('Density', density_large)"
      ],
      "metadata": {
        "colab": {
          "base_uri": "https://localhost:8080/"
        },
        "id": "CNBXGTNMs5Jr",
        "outputId": "4605de61-b189-4761-f7ce-6a072c70f93a"
      },
      "execution_count": null,
      "outputs": [
        {
          "output_type": "stream",
          "name": "stdout",
          "text": [
            "total number of links: 100.0\n",
            "possible number of links: 1250.0\n",
            "Density 0.08\n"
          ]
        }
      ]
    },
    {
      "cell_type": "markdown",
      "source": [
        "# 1 (B) \n",
        "For job seekers, LinkedIn has become an invaluable resource for finding connections at companies they are interested in obtaining a job offer from. The website provides a platform for people to connect with professional contacts. Suppose the networks in the examples are a part of the LinkedIn network and you, the person with index 1, are seeking a job at a company where individual 16 works. What is the fewest number of connections between you and individual 16? What is the path from you to that individuals, in each of the networks?"
      ],
      "metadata": {
        "id": "pqvfzPbHL_IP"
      }
    },
    {
      "cell_type": "code",
      "source": [
        "file_path = \"/content/drive/MyDrive/BDM/SocialNetworks.xlsx\" # change this path to where your excel file is when you re-run this solution\n",
        "\n",
        "# file pointer to excel file\n",
        "fp = pd.ExcelFile(file_path)\n",
        "\n",
        "# print sheet names\n",
        "fp.sheet_names\n",
        "\n",
        "# file pointer to excel file\n",
        "fp = pd.ExcelFile(file_path)\n",
        "\n",
        "# create dataframe for small network\n",
        "small_network_df = np.array( pd.read_excel(file_path, sheet_name = \"Small\", header = None) )\n",
        "\n",
        "# create small network matrix with no connections - initialize to zero\n",
        "small_network_matrix = np.zeros( shape=(len(small_network_df), len(small_network_df)) )\n",
        "\n",
        "# create dataframe for large network\n",
        "large_network_df = np.array( pd.read_excel(file_path,sheet_name = \"Large\", header = None) )\n",
        "\n",
        "# create large network matrix with no connections - initialize to zero\n",
        "large_network_matrix = np.zeros( shape=(len(large_network_df),len(large_network_df)) )"
      ],
      "metadata": {
        "id": "Y77gtAcPNq4b"
      },
      "execution_count": null,
      "outputs": []
    },
    {
      "cell_type": "code",
      "source": [
        "# Fill in small network connections\n",
        "for i in range(small_network_df.shape[0]):\n",
        "  for j in range(2, small_network_df.shape[1]):\n",
        "    if not pd.isna( small_network_df[i,j] ):\n",
        "      small_network_matrix[ i, int(small_network_df[i,j] - 1) ] = 1\n",
        "\n",
        "# Fill in large network connections\n",
        "for i in range(large_network_df.shape[0]):\n",
        "  for j in range(2, large_network_df.shape[1]):\n",
        "    if not pd.isna( large_network_df[i,j] ):\n",
        "      large_network_matrix[ i, int(large_network_df[i,j] - 1) ] = 1"
      ],
      "metadata": {
        "id": "vFh6G7V5L-Dh"
      },
      "execution_count": null,
      "outputs": []
    },
    {
      "cell_type": "markdown",
      "source": [
        "##Small network"
      ],
      "metadata": {
        "id": "tRELZjHyO1bH"
      }
    },
    {
      "cell_type": "code",
      "source": [
        "# check the shape of matrix and extract the number of rows and columns\n",
        "num_rows = small_network_matrix.shape[0]\n",
        "num_columns = small_network_matrix.shape[1]\n",
        "print(\"number of rows: \", num_rows)\n",
        "print(\"number of columns: \", num_columns)"
      ],
      "metadata": {
        "colab": {
          "base_uri": "https://localhost:8080/"
        },
        "id": "Z_5dSIw9Ljfo",
        "outputId": "8b15b71b-555d-4fa7-87e6-cff7c4318b30"
      },
      "execution_count": null,
      "outputs": [
        {
          "output_type": "stream",
          "name": "stdout",
          "text": [
            "number of rows:  20\n",
            "number of columns:  20\n"
          ]
        }
      ]
    },
    {
      "cell_type": "code",
      "source": [
        "# create model\n",
        "model_small = ConcreteModel()\n",
        "\n",
        "# decision\n",
        "model_small.hops = Var( range(num_rows) , range(num_columns) , within = Binary )\n",
        "\n",
        "# The individual 1 in the excel will be index 0 in our array \n",
        "# number of hops to individual 16, which is index 15"
      ],
      "metadata": {
        "id": "xmLLzG8GN1SF"
      },
      "execution_count": null,
      "outputs": []
    },
    {
      "cell_type": "code",
      "source": [
        "# constraints\n",
        "\n",
        "### hops constraints\n",
        "model_small.flow_constraints = ConstraintList()\n",
        "for i in range(num_rows):\n",
        "  if i == 0:\n",
        "    flow_out_expr = 0\n",
        "    for j in range(num_columns):\n",
        "      if small_network_matrix[i,j] > 0:\n",
        "        flow_out_expr += model_small.hops[i,j]\n",
        "    model_small.flow_constraints.add(1 == flow_out_expr)\n",
        "\n",
        "  elif i == 15:\n",
        "    flow_in_expr = 0\n",
        "    for j in range(num_columns):\n",
        "      if small_network_matrix[j,i] > 0:\n",
        "        flow_in_expr += model_small.hops[j,i]\n",
        "    model_small.flow_constraints.add(1 == flow_in_expr)\n",
        "\n",
        "  else:\n",
        "    flow_in_expr = 0\n",
        "    flow_out_expr = 0\n",
        "    for j in range(num_columns):\n",
        "      if small_network_matrix[j,i] > 0:\n",
        "        flow_in_expr += model_small.hops[j,i]\n",
        "    for j in range(1, num_columns):\n",
        "      if small_network_matrix[i,j] > 0:\n",
        "        flow_out_expr += model_small.hops[i,j]\n",
        "    model_small.flow_constraints.add(flow_out_expr == flow_in_expr)\n",
        "\n",
        "# It's totally fine to steal the code from the in-class example, but make sure you understand what they are doing."
      ],
      "metadata": {
        "id": "-yubiQ8mN3Ca"
      },
      "execution_count": null,
      "outputs": []
    },
    {
      "cell_type": "code",
      "source": [
        "### objective\n",
        "\n",
        "total_num_hops = 0\n",
        "for i in range(num_rows):\n",
        "  for j in range(num_columns):\n",
        "    total_num_hops += small_network_matrix[i,j] * model_small.hops[i,j]\n",
        "\n",
        "model_small.objective = Objective(\n",
        "    expr = total_num_hops,\n",
        "    sense = minimize\n",
        ")"
      ],
      "metadata": {
        "id": "zteH5bA0ORuU"
      },
      "execution_count": null,
      "outputs": []
    },
    {
      "cell_type": "code",
      "source": [
        "model_small.pprint()"
      ],
      "metadata": {
        "colab": {
          "base_uri": "https://localhost:8080/"
        },
        "id": "mhDkZ3IuOUIC",
        "outputId": "f2e1cca1-c57d-41da-e307-2a4a6ecd6cb5"
      },
      "execution_count": null,
      "outputs": [
        {
          "output_type": "stream",
          "name": "stdout",
          "text": [
            "4 Set Declarations\n",
            "    flow_constraints_index : Size=1, Index=None, Ordered=Insertion\n",
            "        Key  : Dimen : Domain : Size : Members\n",
            "        None :     1 :    Any :   20 : {1, 2, 3, 4, 5, 6, 7, 8, 9, 10, 11, 12, 13, 14, 15, 16, 17, 18, 19, 20}\n",
            "    hops_index : Size=1, Index=None, Ordered=True\n",
            "        Key  : Dimen : Domain                    : Size : Members\n",
            "        None :     2 : hops_index_0*hops_index_1 :  400 : {(0, 0), (0, 1), (0, 2), (0, 3), (0, 4), (0, 5), (0, 6), (0, 7), (0, 8), (0, 9), (0, 10), (0, 11), (0, 12), (0, 13), (0, 14), (0, 15), (0, 16), (0, 17), (0, 18), (0, 19), (1, 0), (1, 1), (1, 2), (1, 3), (1, 4), (1, 5), (1, 6), (1, 7), (1, 8), (1, 9), (1, 10), (1, 11), (1, 12), (1, 13), (1, 14), (1, 15), (1, 16), (1, 17), (1, 18), (1, 19), (2, 0), (2, 1), (2, 2), (2, 3), (2, 4), (2, 5), (2, 6), (2, 7), (2, 8), (2, 9), (2, 10), (2, 11), (2, 12), (2, 13), (2, 14), (2, 15), (2, 16), (2, 17), (2, 18), (2, 19), (3, 0), (3, 1), (3, 2), (3, 3), (3, 4), (3, 5), (3, 6), (3, 7), (3, 8), (3, 9), (3, 10), (3, 11), (3, 12), (3, 13), (3, 14), (3, 15), (3, 16), (3, 17), (3, 18), (3, 19), (4, 0), (4, 1), (4, 2), (4, 3), (4, 4), (4, 5), (4, 6), (4, 7), (4, 8), (4, 9), (4, 10), (4, 11), (4, 12), (4, 13), (4, 14), (4, 15), (4, 16), (4, 17), (4, 18), (4, 19), (5, 0), (5, 1), (5, 2), (5, 3), (5, 4), (5, 5), (5, 6), (5, 7), (5, 8), (5, 9), (5, 10), (5, 11), (5, 12), (5, 13), (5, 14), (5, 15), (5, 16), (5, 17), (5, 18), (5, 19), (6, 0), (6, 1), (6, 2), (6, 3), (6, 4), (6, 5), (6, 6), (6, 7), (6, 8), (6, 9), (6, 10), (6, 11), (6, 12), (6, 13), (6, 14), (6, 15), (6, 16), (6, 17), (6, 18), (6, 19), (7, 0), (7, 1), (7, 2), (7, 3), (7, 4), (7, 5), (7, 6), (7, 7), (7, 8), (7, 9), (7, 10), (7, 11), (7, 12), (7, 13), (7, 14), (7, 15), (7, 16), (7, 17), (7, 18), (7, 19), (8, 0), (8, 1), (8, 2), (8, 3), (8, 4), (8, 5), (8, 6), (8, 7), (8, 8), (8, 9), (8, 10), (8, 11), (8, 12), (8, 13), (8, 14), (8, 15), (8, 16), (8, 17), (8, 18), (8, 19), (9, 0), (9, 1), (9, 2), (9, 3), (9, 4), (9, 5), (9, 6), (9, 7), (9, 8), (9, 9), (9, 10), (9, 11), (9, 12), (9, 13), (9, 14), (9, 15), (9, 16), (9, 17), (9, 18), (9, 19), (10, 0), (10, 1), (10, 2), (10, 3), (10, 4), (10, 5), (10, 6), (10, 7), (10, 8), (10, 9), (10, 10), (10, 11), (10, 12), (10, 13), (10, 14), (10, 15), (10, 16), (10, 17), (10, 18), (10, 19), (11, 0), (11, 1), (11, 2), (11, 3), (11, 4), (11, 5), (11, 6), (11, 7), (11, 8), (11, 9), (11, 10), (11, 11), (11, 12), (11, 13), (11, 14), (11, 15), (11, 16), (11, 17), (11, 18), (11, 19), (12, 0), (12, 1), (12, 2), (12, 3), (12, 4), (12, 5), (12, 6), (12, 7), (12, 8), (12, 9), (12, 10), (12, 11), (12, 12), (12, 13), (12, 14), (12, 15), (12, 16), (12, 17), (12, 18), (12, 19), (13, 0), (13, 1), (13, 2), (13, 3), (13, 4), (13, 5), (13, 6), (13, 7), (13, 8), (13, 9), (13, 10), (13, 11), (13, 12), (13, 13), (13, 14), (13, 15), (13, 16), (13, 17), (13, 18), (13, 19), (14, 0), (14, 1), (14, 2), (14, 3), (14, 4), (14, 5), (14, 6), (14, 7), (14, 8), (14, 9), (14, 10), (14, 11), (14, 12), (14, 13), (14, 14), (14, 15), (14, 16), (14, 17), (14, 18), (14, 19), (15, 0), (15, 1), (15, 2), (15, 3), (15, 4), (15, 5), (15, 6), (15, 7), (15, 8), (15, 9), (15, 10), (15, 11), (15, 12), (15, 13), (15, 14), (15, 15), (15, 16), (15, 17), (15, 18), (15, 19), (16, 0), (16, 1), (16, 2), (16, 3), (16, 4), (16, 5), (16, 6), (16, 7), (16, 8), (16, 9), (16, 10), (16, 11), (16, 12), (16, 13), (16, 14), (16, 15), (16, 16), (16, 17), (16, 18), (16, 19), (17, 0), (17, 1), (17, 2), (17, 3), (17, 4), (17, 5), (17, 6), (17, 7), (17, 8), (17, 9), (17, 10), (17, 11), (17, 12), (17, 13), (17, 14), (17, 15), (17, 16), (17, 17), (17, 18), (17, 19), (18, 0), (18, 1), (18, 2), (18, 3), (18, 4), (18, 5), (18, 6), (18, 7), (18, 8), (18, 9), (18, 10), (18, 11), (18, 12), (18, 13), (18, 14), (18, 15), (18, 16), (18, 17), (18, 18), (18, 19), (19, 0), (19, 1), (19, 2), (19, 3), (19, 4), (19, 5), (19, 6), (19, 7), (19, 8), (19, 9), (19, 10), (19, 11), (19, 12), (19, 13), (19, 14), (19, 15), (19, 16), (19, 17), (19, 18), (19, 19)}\n",
            "    hops_index_0 : Size=1, Index=None, Ordered=Insertion\n",
            "        Key  : Dimen : Domain : Size : Members\n",
            "        None :     1 :    Any :   20 : {0, 1, 2, 3, 4, 5, 6, 7, 8, 9, 10, 11, 12, 13, 14, 15, 16, 17, 18, 19}\n",
            "    hops_index_1 : Size=1, Index=None, Ordered=Insertion\n",
            "        Key  : Dimen : Domain : Size : Members\n",
            "        None :     1 :    Any :   20 : {0, 1, 2, 3, 4, 5, 6, 7, 8, 9, 10, 11, 12, 13, 14, 15, 16, 17, 18, 19}\n",
            "\n",
            "1 Var Declarations\n",
            "    hops : Size=400, Index=hops_index\n",
            "        Key      : Lower : Value : Upper : Fixed : Stale : Domain\n",
            "          (0, 0) :     0 :  None :     1 : False :  True : Binary\n",
            "          (0, 1) :     0 :  None :     1 : False :  True : Binary\n",
            "          (0, 2) :     0 :  None :     1 : False :  True : Binary\n",
            "          (0, 3) :     0 :  None :     1 : False :  True : Binary\n",
            "          (0, 4) :     0 :  None :     1 : False :  True : Binary\n",
            "          (0, 5) :     0 :  None :     1 : False :  True : Binary\n",
            "          (0, 6) :     0 :  None :     1 : False :  True : Binary\n",
            "          (0, 7) :     0 :  None :     1 : False :  True : Binary\n",
            "          (0, 8) :     0 :  None :     1 : False :  True : Binary\n",
            "          (0, 9) :     0 :  None :     1 : False :  True : Binary\n",
            "         (0, 10) :     0 :  None :     1 : False :  True : Binary\n",
            "         (0, 11) :     0 :  None :     1 : False :  True : Binary\n",
            "         (0, 12) :     0 :  None :     1 : False :  True : Binary\n",
            "         (0, 13) :     0 :  None :     1 : False :  True : Binary\n",
            "         (0, 14) :     0 :  None :     1 : False :  True : Binary\n",
            "         (0, 15) :     0 :  None :     1 : False :  True : Binary\n",
            "         (0, 16) :     0 :  None :     1 : False :  True : Binary\n",
            "         (0, 17) :     0 :  None :     1 : False :  True : Binary\n",
            "         (0, 18) :     0 :  None :     1 : False :  True : Binary\n",
            "         (0, 19) :     0 :  None :     1 : False :  True : Binary\n",
            "          (1, 0) :     0 :  None :     1 : False :  True : Binary\n",
            "          (1, 1) :     0 :  None :     1 : False :  True : Binary\n",
            "          (1, 2) :     0 :  None :     1 : False :  True : Binary\n",
            "          (1, 3) :     0 :  None :     1 : False :  True : Binary\n",
            "          (1, 4) :     0 :  None :     1 : False :  True : Binary\n",
            "          (1, 5) :     0 :  None :     1 : False :  True : Binary\n",
            "          (1, 6) :     0 :  None :     1 : False :  True : Binary\n",
            "          (1, 7) :     0 :  None :     1 : False :  True : Binary\n",
            "          (1, 8) :     0 :  None :     1 : False :  True : Binary\n",
            "          (1, 9) :     0 :  None :     1 : False :  True : Binary\n",
            "         (1, 10) :     0 :  None :     1 : False :  True : Binary\n",
            "         (1, 11) :     0 :  None :     1 : False :  True : Binary\n",
            "         (1, 12) :     0 :  None :     1 : False :  True : Binary\n",
            "         (1, 13) :     0 :  None :     1 : False :  True : Binary\n",
            "         (1, 14) :     0 :  None :     1 : False :  True : Binary\n",
            "         (1, 15) :     0 :  None :     1 : False :  True : Binary\n",
            "         (1, 16) :     0 :  None :     1 : False :  True : Binary\n",
            "         (1, 17) :     0 :  None :     1 : False :  True : Binary\n",
            "         (1, 18) :     0 :  None :     1 : False :  True : Binary\n",
            "         (1, 19) :     0 :  None :     1 : False :  True : Binary\n",
            "          (2, 0) :     0 :  None :     1 : False :  True : Binary\n",
            "          (2, 1) :     0 :  None :     1 : False :  True : Binary\n",
            "          (2, 2) :     0 :  None :     1 : False :  True : Binary\n",
            "          (2, 3) :     0 :  None :     1 : False :  True : Binary\n",
            "          (2, 4) :     0 :  None :     1 : False :  True : Binary\n",
            "          (2, 5) :     0 :  None :     1 : False :  True : Binary\n",
            "          (2, 6) :     0 :  None :     1 : False :  True : Binary\n",
            "          (2, 7) :     0 :  None :     1 : False :  True : Binary\n",
            "          (2, 8) :     0 :  None :     1 : False :  True : Binary\n",
            "          (2, 9) :     0 :  None :     1 : False :  True : Binary\n",
            "         (2, 10) :     0 :  None :     1 : False :  True : Binary\n",
            "         (2, 11) :     0 :  None :     1 : False :  True : Binary\n",
            "         (2, 12) :     0 :  None :     1 : False :  True : Binary\n",
            "         (2, 13) :     0 :  None :     1 : False :  True : Binary\n",
            "         (2, 14) :     0 :  None :     1 : False :  True : Binary\n",
            "         (2, 15) :     0 :  None :     1 : False :  True : Binary\n",
            "         (2, 16) :     0 :  None :     1 : False :  True : Binary\n",
            "         (2, 17) :     0 :  None :     1 : False :  True : Binary\n",
            "         (2, 18) :     0 :  None :     1 : False :  True : Binary\n",
            "         (2, 19) :     0 :  None :     1 : False :  True : Binary\n",
            "          (3, 0) :     0 :  None :     1 : False :  True : Binary\n",
            "          (3, 1) :     0 :  None :     1 : False :  True : Binary\n",
            "          (3, 2) :     0 :  None :     1 : False :  True : Binary\n",
            "          (3, 3) :     0 :  None :     1 : False :  True : Binary\n",
            "          (3, 4) :     0 :  None :     1 : False :  True : Binary\n",
            "          (3, 5) :     0 :  None :     1 : False :  True : Binary\n",
            "          (3, 6) :     0 :  None :     1 : False :  True : Binary\n",
            "          (3, 7) :     0 :  None :     1 : False :  True : Binary\n",
            "          (3, 8) :     0 :  None :     1 : False :  True : Binary\n",
            "          (3, 9) :     0 :  None :     1 : False :  True : Binary\n",
            "         (3, 10) :     0 :  None :     1 : False :  True : Binary\n",
            "         (3, 11) :     0 :  None :     1 : False :  True : Binary\n",
            "         (3, 12) :     0 :  None :     1 : False :  True : Binary\n",
            "         (3, 13) :     0 :  None :     1 : False :  True : Binary\n",
            "         (3, 14) :     0 :  None :     1 : False :  True : Binary\n",
            "         (3, 15) :     0 :  None :     1 : False :  True : Binary\n",
            "         (3, 16) :     0 :  None :     1 : False :  True : Binary\n",
            "         (3, 17) :     0 :  None :     1 : False :  True : Binary\n",
            "         (3, 18) :     0 :  None :     1 : False :  True : Binary\n",
            "         (3, 19) :     0 :  None :     1 : False :  True : Binary\n",
            "          (4, 0) :     0 :  None :     1 : False :  True : Binary\n",
            "          (4, 1) :     0 :  None :     1 : False :  True : Binary\n",
            "          (4, 2) :     0 :  None :     1 : False :  True : Binary\n",
            "          (4, 3) :     0 :  None :     1 : False :  True : Binary\n",
            "          (4, 4) :     0 :  None :     1 : False :  True : Binary\n",
            "          (4, 5) :     0 :  None :     1 : False :  True : Binary\n",
            "          (4, 6) :     0 :  None :     1 : False :  True : Binary\n",
            "          (4, 7) :     0 :  None :     1 : False :  True : Binary\n",
            "          (4, 8) :     0 :  None :     1 : False :  True : Binary\n",
            "          (4, 9) :     0 :  None :     1 : False :  True : Binary\n",
            "         (4, 10) :     0 :  None :     1 : False :  True : Binary\n",
            "         (4, 11) :     0 :  None :     1 : False :  True : Binary\n",
            "         (4, 12) :     0 :  None :     1 : False :  True : Binary\n",
            "         (4, 13) :     0 :  None :     1 : False :  True : Binary\n",
            "         (4, 14) :     0 :  None :     1 : False :  True : Binary\n",
            "         (4, 15) :     0 :  None :     1 : False :  True : Binary\n",
            "         (4, 16) :     0 :  None :     1 : False :  True : Binary\n",
            "         (4, 17) :     0 :  None :     1 : False :  True : Binary\n",
            "         (4, 18) :     0 :  None :     1 : False :  True : Binary\n",
            "         (4, 19) :     0 :  None :     1 : False :  True : Binary\n",
            "          (5, 0) :     0 :  None :     1 : False :  True : Binary\n",
            "          (5, 1) :     0 :  None :     1 : False :  True : Binary\n",
            "          (5, 2) :     0 :  None :     1 : False :  True : Binary\n",
            "          (5, 3) :     0 :  None :     1 : False :  True : Binary\n",
            "          (5, 4) :     0 :  None :     1 : False :  True : Binary\n",
            "          (5, 5) :     0 :  None :     1 : False :  True : Binary\n",
            "          (5, 6) :     0 :  None :     1 : False :  True : Binary\n",
            "          (5, 7) :     0 :  None :     1 : False :  True : Binary\n",
            "          (5, 8) :     0 :  None :     1 : False :  True : Binary\n",
            "          (5, 9) :     0 :  None :     1 : False :  True : Binary\n",
            "         (5, 10) :     0 :  None :     1 : False :  True : Binary\n",
            "         (5, 11) :     0 :  None :     1 : False :  True : Binary\n",
            "         (5, 12) :     0 :  None :     1 : False :  True : Binary\n",
            "         (5, 13) :     0 :  None :     1 : False :  True : Binary\n",
            "         (5, 14) :     0 :  None :     1 : False :  True : Binary\n",
            "         (5, 15) :     0 :  None :     1 : False :  True : Binary\n",
            "         (5, 16) :     0 :  None :     1 : False :  True : Binary\n",
            "         (5, 17) :     0 :  None :     1 : False :  True : Binary\n",
            "         (5, 18) :     0 :  None :     1 : False :  True : Binary\n",
            "         (5, 19) :     0 :  None :     1 : False :  True : Binary\n",
            "          (6, 0) :     0 :  None :     1 : False :  True : Binary\n",
            "          (6, 1) :     0 :  None :     1 : False :  True : Binary\n",
            "          (6, 2) :     0 :  None :     1 : False :  True : Binary\n",
            "          (6, 3) :     0 :  None :     1 : False :  True : Binary\n",
            "          (6, 4) :     0 :  None :     1 : False :  True : Binary\n",
            "          (6, 5) :     0 :  None :     1 : False :  True : Binary\n",
            "          (6, 6) :     0 :  None :     1 : False :  True : Binary\n",
            "          (6, 7) :     0 :  None :     1 : False :  True : Binary\n",
            "          (6, 8) :     0 :  None :     1 : False :  True : Binary\n",
            "          (6, 9) :     0 :  None :     1 : False :  True : Binary\n",
            "         (6, 10) :     0 :  None :     1 : False :  True : Binary\n",
            "         (6, 11) :     0 :  None :     1 : False :  True : Binary\n",
            "         (6, 12) :     0 :  None :     1 : False :  True : Binary\n",
            "         (6, 13) :     0 :  None :     1 : False :  True : Binary\n",
            "         (6, 14) :     0 :  None :     1 : False :  True : Binary\n",
            "         (6, 15) :     0 :  None :     1 : False :  True : Binary\n",
            "         (6, 16) :     0 :  None :     1 : False :  True : Binary\n",
            "         (6, 17) :     0 :  None :     1 : False :  True : Binary\n",
            "         (6, 18) :     0 :  None :     1 : False :  True : Binary\n",
            "         (6, 19) :     0 :  None :     1 : False :  True : Binary\n",
            "          (7, 0) :     0 :  None :     1 : False :  True : Binary\n",
            "          (7, 1) :     0 :  None :     1 : False :  True : Binary\n",
            "          (7, 2) :     0 :  None :     1 : False :  True : Binary\n",
            "          (7, 3) :     0 :  None :     1 : False :  True : Binary\n",
            "          (7, 4) :     0 :  None :     1 : False :  True : Binary\n",
            "          (7, 5) :     0 :  None :     1 : False :  True : Binary\n",
            "          (7, 6) :     0 :  None :     1 : False :  True : Binary\n",
            "          (7, 7) :     0 :  None :     1 : False :  True : Binary\n",
            "          (7, 8) :     0 :  None :     1 : False :  True : Binary\n",
            "          (7, 9) :     0 :  None :     1 : False :  True : Binary\n",
            "         (7, 10) :     0 :  None :     1 : False :  True : Binary\n",
            "         (7, 11) :     0 :  None :     1 : False :  True : Binary\n",
            "         (7, 12) :     0 :  None :     1 : False :  True : Binary\n",
            "         (7, 13) :     0 :  None :     1 : False :  True : Binary\n",
            "         (7, 14) :     0 :  None :     1 : False :  True : Binary\n",
            "         (7, 15) :     0 :  None :     1 : False :  True : Binary\n",
            "         (7, 16) :     0 :  None :     1 : False :  True : Binary\n",
            "         (7, 17) :     0 :  None :     1 : False :  True : Binary\n",
            "         (7, 18) :     0 :  None :     1 : False :  True : Binary\n",
            "         (7, 19) :     0 :  None :     1 : False :  True : Binary\n",
            "          (8, 0) :     0 :  None :     1 : False :  True : Binary\n",
            "          (8, 1) :     0 :  None :     1 : False :  True : Binary\n",
            "          (8, 2) :     0 :  None :     1 : False :  True : Binary\n",
            "          (8, 3) :     0 :  None :     1 : False :  True : Binary\n",
            "          (8, 4) :     0 :  None :     1 : False :  True : Binary\n",
            "          (8, 5) :     0 :  None :     1 : False :  True : Binary\n",
            "          (8, 6) :     0 :  None :     1 : False :  True : Binary\n",
            "          (8, 7) :     0 :  None :     1 : False :  True : Binary\n",
            "          (8, 8) :     0 :  None :     1 : False :  True : Binary\n",
            "          (8, 9) :     0 :  None :     1 : False :  True : Binary\n",
            "         (8, 10) :     0 :  None :     1 : False :  True : Binary\n",
            "         (8, 11) :     0 :  None :     1 : False :  True : Binary\n",
            "         (8, 12) :     0 :  None :     1 : False :  True : Binary\n",
            "         (8, 13) :     0 :  None :     1 : False :  True : Binary\n",
            "         (8, 14) :     0 :  None :     1 : False :  True : Binary\n",
            "         (8, 15) :     0 :  None :     1 : False :  True : Binary\n",
            "         (8, 16) :     0 :  None :     1 : False :  True : Binary\n",
            "         (8, 17) :     0 :  None :     1 : False :  True : Binary\n",
            "         (8, 18) :     0 :  None :     1 : False :  True : Binary\n",
            "         (8, 19) :     0 :  None :     1 : False :  True : Binary\n",
            "          (9, 0) :     0 :  None :     1 : False :  True : Binary\n",
            "          (9, 1) :     0 :  None :     1 : False :  True : Binary\n",
            "          (9, 2) :     0 :  None :     1 : False :  True : Binary\n",
            "          (9, 3) :     0 :  None :     1 : False :  True : Binary\n",
            "          (9, 4) :     0 :  None :     1 : False :  True : Binary\n",
            "          (9, 5) :     0 :  None :     1 : False :  True : Binary\n",
            "          (9, 6) :     0 :  None :     1 : False :  True : Binary\n",
            "          (9, 7) :     0 :  None :     1 : False :  True : Binary\n",
            "          (9, 8) :     0 :  None :     1 : False :  True : Binary\n",
            "          (9, 9) :     0 :  None :     1 : False :  True : Binary\n",
            "         (9, 10) :     0 :  None :     1 : False :  True : Binary\n",
            "         (9, 11) :     0 :  None :     1 : False :  True : Binary\n",
            "         (9, 12) :     0 :  None :     1 : False :  True : Binary\n",
            "         (9, 13) :     0 :  None :     1 : False :  True : Binary\n",
            "         (9, 14) :     0 :  None :     1 : False :  True : Binary\n",
            "         (9, 15) :     0 :  None :     1 : False :  True : Binary\n",
            "         (9, 16) :     0 :  None :     1 : False :  True : Binary\n",
            "         (9, 17) :     0 :  None :     1 : False :  True : Binary\n",
            "         (9, 18) :     0 :  None :     1 : False :  True : Binary\n",
            "         (9, 19) :     0 :  None :     1 : False :  True : Binary\n",
            "         (10, 0) :     0 :  None :     1 : False :  True : Binary\n",
            "         (10, 1) :     0 :  None :     1 : False :  True : Binary\n",
            "         (10, 2) :     0 :  None :     1 : False :  True : Binary\n",
            "         (10, 3) :     0 :  None :     1 : False :  True : Binary\n",
            "         (10, 4) :     0 :  None :     1 : False :  True : Binary\n",
            "         (10, 5) :     0 :  None :     1 : False :  True : Binary\n",
            "         (10, 6) :     0 :  None :     1 : False :  True : Binary\n",
            "         (10, 7) :     0 :  None :     1 : False :  True : Binary\n",
            "         (10, 8) :     0 :  None :     1 : False :  True : Binary\n",
            "         (10, 9) :     0 :  None :     1 : False :  True : Binary\n",
            "        (10, 10) :     0 :  None :     1 : False :  True : Binary\n",
            "        (10, 11) :     0 :  None :     1 : False :  True : Binary\n",
            "        (10, 12) :     0 :  None :     1 : False :  True : Binary\n",
            "        (10, 13) :     0 :  None :     1 : False :  True : Binary\n",
            "        (10, 14) :     0 :  None :     1 : False :  True : Binary\n",
            "        (10, 15) :     0 :  None :     1 : False :  True : Binary\n",
            "        (10, 16) :     0 :  None :     1 : False :  True : Binary\n",
            "        (10, 17) :     0 :  None :     1 : False :  True : Binary\n",
            "        (10, 18) :     0 :  None :     1 : False :  True : Binary\n",
            "        (10, 19) :     0 :  None :     1 : False :  True : Binary\n",
            "         (11, 0) :     0 :  None :     1 : False :  True : Binary\n",
            "         (11, 1) :     0 :  None :     1 : False :  True : Binary\n",
            "         (11, 2) :     0 :  None :     1 : False :  True : Binary\n",
            "         (11, 3) :     0 :  None :     1 : False :  True : Binary\n",
            "         (11, 4) :     0 :  None :     1 : False :  True : Binary\n",
            "         (11, 5) :     0 :  None :     1 : False :  True : Binary\n",
            "         (11, 6) :     0 :  None :     1 : False :  True : Binary\n",
            "         (11, 7) :     0 :  None :     1 : False :  True : Binary\n",
            "         (11, 8) :     0 :  None :     1 : False :  True : Binary\n",
            "         (11, 9) :     0 :  None :     1 : False :  True : Binary\n",
            "        (11, 10) :     0 :  None :     1 : False :  True : Binary\n",
            "        (11, 11) :     0 :  None :     1 : False :  True : Binary\n",
            "        (11, 12) :     0 :  None :     1 : False :  True : Binary\n",
            "        (11, 13) :     0 :  None :     1 : False :  True : Binary\n",
            "        (11, 14) :     0 :  None :     1 : False :  True : Binary\n",
            "        (11, 15) :     0 :  None :     1 : False :  True : Binary\n",
            "        (11, 16) :     0 :  None :     1 : False :  True : Binary\n",
            "        (11, 17) :     0 :  None :     1 : False :  True : Binary\n",
            "        (11, 18) :     0 :  None :     1 : False :  True : Binary\n",
            "        (11, 19) :     0 :  None :     1 : False :  True : Binary\n",
            "         (12, 0) :     0 :  None :     1 : False :  True : Binary\n",
            "         (12, 1) :     0 :  None :     1 : False :  True : Binary\n",
            "         (12, 2) :     0 :  None :     1 : False :  True : Binary\n",
            "         (12, 3) :     0 :  None :     1 : False :  True : Binary\n",
            "         (12, 4) :     0 :  None :     1 : False :  True : Binary\n",
            "         (12, 5) :     0 :  None :     1 : False :  True : Binary\n",
            "         (12, 6) :     0 :  None :     1 : False :  True : Binary\n",
            "         (12, 7) :     0 :  None :     1 : False :  True : Binary\n",
            "         (12, 8) :     0 :  None :     1 : False :  True : Binary\n",
            "         (12, 9) :     0 :  None :     1 : False :  True : Binary\n",
            "        (12, 10) :     0 :  None :     1 : False :  True : Binary\n",
            "        (12, 11) :     0 :  None :     1 : False :  True : Binary\n",
            "        (12, 12) :     0 :  None :     1 : False :  True : Binary\n",
            "        (12, 13) :     0 :  None :     1 : False :  True : Binary\n",
            "        (12, 14) :     0 :  None :     1 : False :  True : Binary\n",
            "        (12, 15) :     0 :  None :     1 : False :  True : Binary\n",
            "        (12, 16) :     0 :  None :     1 : False :  True : Binary\n",
            "        (12, 17) :     0 :  None :     1 : False :  True : Binary\n",
            "        (12, 18) :     0 :  None :     1 : False :  True : Binary\n",
            "        (12, 19) :     0 :  None :     1 : False :  True : Binary\n",
            "         (13, 0) :     0 :  None :     1 : False :  True : Binary\n",
            "         (13, 1) :     0 :  None :     1 : False :  True : Binary\n",
            "         (13, 2) :     0 :  None :     1 : False :  True : Binary\n",
            "         (13, 3) :     0 :  None :     1 : False :  True : Binary\n",
            "         (13, 4) :     0 :  None :     1 : False :  True : Binary\n",
            "         (13, 5) :     0 :  None :     1 : False :  True : Binary\n",
            "         (13, 6) :     0 :  None :     1 : False :  True : Binary\n",
            "         (13, 7) :     0 :  None :     1 : False :  True : Binary\n",
            "         (13, 8) :     0 :  None :     1 : False :  True : Binary\n",
            "         (13, 9) :     0 :  None :     1 : False :  True : Binary\n",
            "        (13, 10) :     0 :  None :     1 : False :  True : Binary\n",
            "        (13, 11) :     0 :  None :     1 : False :  True : Binary\n",
            "        (13, 12) :     0 :  None :     1 : False :  True : Binary\n",
            "        (13, 13) :     0 :  None :     1 : False :  True : Binary\n",
            "        (13, 14) :     0 :  None :     1 : False :  True : Binary\n",
            "        (13, 15) :     0 :  None :     1 : False :  True : Binary\n",
            "        (13, 16) :     0 :  None :     1 : False :  True : Binary\n",
            "        (13, 17) :     0 :  None :     1 : False :  True : Binary\n",
            "        (13, 18) :     0 :  None :     1 : False :  True : Binary\n",
            "        (13, 19) :     0 :  None :     1 : False :  True : Binary\n",
            "         (14, 0) :     0 :  None :     1 : False :  True : Binary\n",
            "         (14, 1) :     0 :  None :     1 : False :  True : Binary\n",
            "         (14, 2) :     0 :  None :     1 : False :  True : Binary\n",
            "         (14, 3) :     0 :  None :     1 : False :  True : Binary\n",
            "         (14, 4) :     0 :  None :     1 : False :  True : Binary\n",
            "         (14, 5) :     0 :  None :     1 : False :  True : Binary\n",
            "         (14, 6) :     0 :  None :     1 : False :  True : Binary\n",
            "         (14, 7) :     0 :  None :     1 : False :  True : Binary\n",
            "         (14, 8) :     0 :  None :     1 : False :  True : Binary\n",
            "         (14, 9) :     0 :  None :     1 : False :  True : Binary\n",
            "        (14, 10) :     0 :  None :     1 : False :  True : Binary\n",
            "        (14, 11) :     0 :  None :     1 : False :  True : Binary\n",
            "        (14, 12) :     0 :  None :     1 : False :  True : Binary\n",
            "        (14, 13) :     0 :  None :     1 : False :  True : Binary\n",
            "        (14, 14) :     0 :  None :     1 : False :  True : Binary\n",
            "        (14, 15) :     0 :  None :     1 : False :  True : Binary\n",
            "        (14, 16) :     0 :  None :     1 : False :  True : Binary\n",
            "        (14, 17) :     0 :  None :     1 : False :  True : Binary\n",
            "        (14, 18) :     0 :  None :     1 : False :  True : Binary\n",
            "        (14, 19) :     0 :  None :     1 : False :  True : Binary\n",
            "         (15, 0) :     0 :  None :     1 : False :  True : Binary\n",
            "         (15, 1) :     0 :  None :     1 : False :  True : Binary\n",
            "         (15, 2) :     0 :  None :     1 : False :  True : Binary\n",
            "         (15, 3) :     0 :  None :     1 : False :  True : Binary\n",
            "         (15, 4) :     0 :  None :     1 : False :  True : Binary\n",
            "         (15, 5) :     0 :  None :     1 : False :  True : Binary\n",
            "         (15, 6) :     0 :  None :     1 : False :  True : Binary\n",
            "         (15, 7) :     0 :  None :     1 : False :  True : Binary\n",
            "         (15, 8) :     0 :  None :     1 : False :  True : Binary\n",
            "         (15, 9) :     0 :  None :     1 : False :  True : Binary\n",
            "        (15, 10) :     0 :  None :     1 : False :  True : Binary\n",
            "        (15, 11) :     0 :  None :     1 : False :  True : Binary\n",
            "        (15, 12) :     0 :  None :     1 : False :  True : Binary\n",
            "        (15, 13) :     0 :  None :     1 : False :  True : Binary\n",
            "        (15, 14) :     0 :  None :     1 : False :  True : Binary\n",
            "        (15, 15) :     0 :  None :     1 : False :  True : Binary\n",
            "        (15, 16) :     0 :  None :     1 : False :  True : Binary\n",
            "        (15, 17) :     0 :  None :     1 : False :  True : Binary\n",
            "        (15, 18) :     0 :  None :     1 : False :  True : Binary\n",
            "        (15, 19) :     0 :  None :     1 : False :  True : Binary\n",
            "         (16, 0) :     0 :  None :     1 : False :  True : Binary\n",
            "         (16, 1) :     0 :  None :     1 : False :  True : Binary\n",
            "         (16, 2) :     0 :  None :     1 : False :  True : Binary\n",
            "         (16, 3) :     0 :  None :     1 : False :  True : Binary\n",
            "         (16, 4) :     0 :  None :     1 : False :  True : Binary\n",
            "         (16, 5) :     0 :  None :     1 : False :  True : Binary\n",
            "         (16, 6) :     0 :  None :     1 : False :  True : Binary\n",
            "         (16, 7) :     0 :  None :     1 : False :  True : Binary\n",
            "         (16, 8) :     0 :  None :     1 : False :  True : Binary\n",
            "         (16, 9) :     0 :  None :     1 : False :  True : Binary\n",
            "        (16, 10) :     0 :  None :     1 : False :  True : Binary\n",
            "        (16, 11) :     0 :  None :     1 : False :  True : Binary\n",
            "        (16, 12) :     0 :  None :     1 : False :  True : Binary\n",
            "        (16, 13) :     0 :  None :     1 : False :  True : Binary\n",
            "        (16, 14) :     0 :  None :     1 : False :  True : Binary\n",
            "        (16, 15) :     0 :  None :     1 : False :  True : Binary\n",
            "        (16, 16) :     0 :  None :     1 : False :  True : Binary\n",
            "        (16, 17) :     0 :  None :     1 : False :  True : Binary\n",
            "        (16, 18) :     0 :  None :     1 : False :  True : Binary\n",
            "        (16, 19) :     0 :  None :     1 : False :  True : Binary\n",
            "         (17, 0) :     0 :  None :     1 : False :  True : Binary\n",
            "         (17, 1) :     0 :  None :     1 : False :  True : Binary\n",
            "         (17, 2) :     0 :  None :     1 : False :  True : Binary\n",
            "         (17, 3) :     0 :  None :     1 : False :  True : Binary\n",
            "         (17, 4) :     0 :  None :     1 : False :  True : Binary\n",
            "         (17, 5) :     0 :  None :     1 : False :  True : Binary\n",
            "         (17, 6) :     0 :  None :     1 : False :  True : Binary\n",
            "         (17, 7) :     0 :  None :     1 : False :  True : Binary\n",
            "         (17, 8) :     0 :  None :     1 : False :  True : Binary\n",
            "         (17, 9) :     0 :  None :     1 : False :  True : Binary\n",
            "        (17, 10) :     0 :  None :     1 : False :  True : Binary\n",
            "        (17, 11) :     0 :  None :     1 : False :  True : Binary\n",
            "        (17, 12) :     0 :  None :     1 : False :  True : Binary\n",
            "        (17, 13) :     0 :  None :     1 : False :  True : Binary\n",
            "        (17, 14) :     0 :  None :     1 : False :  True : Binary\n",
            "        (17, 15) :     0 :  None :     1 : False :  True : Binary\n",
            "        (17, 16) :     0 :  None :     1 : False :  True : Binary\n",
            "        (17, 17) :     0 :  None :     1 : False :  True : Binary\n",
            "        (17, 18) :     0 :  None :     1 : False :  True : Binary\n",
            "        (17, 19) :     0 :  None :     1 : False :  True : Binary\n",
            "         (18, 0) :     0 :  None :     1 : False :  True : Binary\n",
            "         (18, 1) :     0 :  None :     1 : False :  True : Binary\n",
            "         (18, 2) :     0 :  None :     1 : False :  True : Binary\n",
            "         (18, 3) :     0 :  None :     1 : False :  True : Binary\n",
            "         (18, 4) :     0 :  None :     1 : False :  True : Binary\n",
            "         (18, 5) :     0 :  None :     1 : False :  True : Binary\n",
            "         (18, 6) :     0 :  None :     1 : False :  True : Binary\n",
            "         (18, 7) :     0 :  None :     1 : False :  True : Binary\n",
            "         (18, 8) :     0 :  None :     1 : False :  True : Binary\n",
            "         (18, 9) :     0 :  None :     1 : False :  True : Binary\n",
            "        (18, 10) :     0 :  None :     1 : False :  True : Binary\n",
            "        (18, 11) :     0 :  None :     1 : False :  True : Binary\n",
            "        (18, 12) :     0 :  None :     1 : False :  True : Binary\n",
            "        (18, 13) :     0 :  None :     1 : False :  True : Binary\n",
            "        (18, 14) :     0 :  None :     1 : False :  True : Binary\n",
            "        (18, 15) :     0 :  None :     1 : False :  True : Binary\n",
            "        (18, 16) :     0 :  None :     1 : False :  True : Binary\n",
            "        (18, 17) :     0 :  None :     1 : False :  True : Binary\n",
            "        (18, 18) :     0 :  None :     1 : False :  True : Binary\n",
            "        (18, 19) :     0 :  None :     1 : False :  True : Binary\n",
            "         (19, 0) :     0 :  None :     1 : False :  True : Binary\n",
            "         (19, 1) :     0 :  None :     1 : False :  True : Binary\n",
            "         (19, 2) :     0 :  None :     1 : False :  True : Binary\n",
            "         (19, 3) :     0 :  None :     1 : False :  True : Binary\n",
            "         (19, 4) :     0 :  None :     1 : False :  True : Binary\n",
            "         (19, 5) :     0 :  None :     1 : False :  True : Binary\n",
            "         (19, 6) :     0 :  None :     1 : False :  True : Binary\n",
            "         (19, 7) :     0 :  None :     1 : False :  True : Binary\n",
            "         (19, 8) :     0 :  None :     1 : False :  True : Binary\n",
            "         (19, 9) :     0 :  None :     1 : False :  True : Binary\n",
            "        (19, 10) :     0 :  None :     1 : False :  True : Binary\n",
            "        (19, 11) :     0 :  None :     1 : False :  True : Binary\n",
            "        (19, 12) :     0 :  None :     1 : False :  True : Binary\n",
            "        (19, 13) :     0 :  None :     1 : False :  True : Binary\n",
            "        (19, 14) :     0 :  None :     1 : False :  True : Binary\n",
            "        (19, 15) :     0 :  None :     1 : False :  True : Binary\n",
            "        (19, 16) :     0 :  None :     1 : False :  True : Binary\n",
            "        (19, 17) :     0 :  None :     1 : False :  True : Binary\n",
            "        (19, 18) :     0 :  None :     1 : False :  True : Binary\n",
            "        (19, 19) :     0 :  None :     1 : False :  True : Binary\n",
            "\n",
            "1 Objective Declarations\n",
            "    objective : Size=1, Index=None, Active=True\n",
            "        Key  : Active : Sense    : Expression\n",
            "        None :   True : minimize : hops[0,1] + hops[0,2] + hops[0,8] + hops[1,0] + hops[1,2] + hops[1,9] + hops[2,0] + hops[2,1] + hops[2,3] + hops[3,2] + hops[3,16] + hops[4,5] + hops[4,6] + hops[4,9] + hops[5,4] + hops[5,6] + hops[5,8] + hops[6,4] + hops[6,5] + hops[6,7] + hops[7,6] + hops[7,8] + hops[8,0] + hops[8,5] + hops[8,7] + hops[8,9] + hops[8,11] + hops[9,1] + hops[9,4] + hops[9,8] + hops[9,10] + hops[9,11] + hops[10,9] + hops[10,11] + hops[11,8] + hops[11,9] + hops[11,10] + hops[12,13] + hops[12,15] + hops[12,17] + hops[12,19] + hops[13,12] + hops[13,15] + hops[13,17] + hops[14,15] + hops[15,12] + hops[15,13] + hops[15,14] + hops[16,3] + hops[16,18] + hops[16,19] + hops[17,12] + hops[17,13] + hops[17,19] + hops[18,16] + hops[18,19] + hops[19,12] + hops[19,16] + hops[19,17] + hops[19,18]\n",
            "\n",
            "1 Constraint Declarations\n",
            "    flow_constraints : Size=20, Index=flow_constraints_index, Active=True\n",
            "        Key : Lower : Body                                                                                                                        : Upper : Active\n",
            "          1 :   1.0 :                                                                                           hops[0,1] + hops[0,2] + hops[0,8] :   1.0 :   True\n",
            "          2 :   0.0 :                                                                 hops[1,2] + hops[1,9] - (hops[0,1] + hops[2,1] + hops[9,1]) :   0.0 :   True\n",
            "          3 :   0.0 :                                                                 hops[2,1] + hops[2,3] - (hops[0,2] + hops[1,2] + hops[3,2]) :   0.0 :   True\n",
            "          4 :   0.0 :                                                                           hops[3,2] + hops[3,16] - (hops[2,3] + hops[16,3]) :   0.0 :   True\n",
            "          5 :   0.0 :                                                     hops[4,5] + hops[4,6] + hops[4,9] - (hops[5,4] + hops[6,4] + hops[9,4]) :   0.0 :   True\n",
            "          6 :   0.0 :                                                     hops[5,4] + hops[5,6] + hops[5,8] - (hops[4,5] + hops[6,5] + hops[8,5]) :   0.0 :   True\n",
            "          7 :   0.0 :                                                     hops[6,4] + hops[6,5] + hops[6,7] - (hops[4,6] + hops[5,6] + hops[7,6]) :   0.0 :   True\n",
            "          8 :   0.0 :                                                                             hops[7,6] + hops[7,8] - (hops[6,7] + hops[8,7]) :   0.0 :   True\n",
            "          9 :   0.0 :               hops[8,5] + hops[8,7] + hops[8,9] + hops[8,11] - (hops[0,8] + hops[5,8] + hops[7,8] + hops[9,8] + hops[11,8]) :   0.0 :   True\n",
            "         10 :   0.0 : hops[9,1] + hops[9,4] + hops[9,8] + hops[9,10] + hops[9,11] - (hops[1,9] + hops[4,9] + hops[8,9] + hops[10,9] + hops[11,9]) :   0.0 :   True\n",
            "         11 :   0.0 :                                                                       hops[10,9] + hops[10,11] - (hops[9,10] + hops[11,10]) :   0.0 :   True\n",
            "         12 :   0.0 :                                             hops[11,8] + hops[11,9] + hops[11,10] - (hops[8,11] + hops[9,11] + hops[10,11]) :   0.0 :   True\n",
            "         13 :   0.0 :             hops[12,13] + hops[12,15] + hops[12,17] + hops[12,19] - (hops[13,12] + hops[15,12] + hops[17,12] + hops[19,12]) :   0.0 :   True\n",
            "         14 :   0.0 :                                         hops[13,12] + hops[13,15] + hops[13,17] - (hops[12,13] + hops[15,13] + hops[17,13]) :   0.0 :   True\n",
            "         15 :   0.0 :                                                                                                   hops[14,15] - hops[15,14] :   0.0 :   True\n",
            "         16 :   1.0 :                                                                                     hops[12,15] + hops[13,15] + hops[14,15] :   1.0 :   True\n",
            "         17 :   0.0 :                                           hops[16,3] + hops[16,18] + hops[16,19] - (hops[3,16] + hops[18,16] + hops[19,16]) :   0.0 :   True\n",
            "         18 :   0.0 :                                         hops[17,12] + hops[17,13] + hops[17,19] - (hops[12,17] + hops[13,17] + hops[19,17]) :   0.0 :   True\n",
            "         19 :   0.0 :                                                                     hops[18,16] + hops[18,19] - (hops[16,18] + hops[19,18]) :   0.0 :   True\n",
            "         20 :   0.0 :             hops[19,12] + hops[19,16] + hops[19,17] + hops[19,18] - (hops[12,19] + hops[16,19] + hops[17,19] + hops[18,19]) :   0.0 :   True\n",
            "\n",
            "7 Declarations: hops_index_0 hops_index_1 hops_index hops flow_constraints_index flow_constraints objective\n"
          ]
        }
      ]
    },
    {
      "cell_type": "code",
      "source": [
        "opt = SolverFactory('cbc')\n",
        "opt_success = opt.solve(model_small,tee=True,timelimit=60)"
      ],
      "metadata": {
        "colab": {
          "base_uri": "https://localhost:8080/"
        },
        "id": "IK9lMVddOeMV",
        "outputId": "3c584dd8-f8c9-4a3c-a72f-7343fffc2691"
      },
      "execution_count": null,
      "outputs": [
        {
          "output_type": "stream",
          "name": "stdout",
          "text": [
            "Welcome to the CBC MILP Solver \n",
            "Version: 2.9.9 \n",
            "Build Date: Aug 21 2017 \n",
            "\n",
            "command line - /usr/bin/cbc -sec 60 -timeMode elapsed -printingOptions all -import /tmp/tmp2hvybub1.pyomo.lp -stat=1 -solve -solu /tmp/tmp2hvybub1.pyomo.soln (default strategy 1)\n",
            "seconds was changed from 1e+100 to 60\n",
            "Option for timeMode changed from cpu to elapsed\n",
            "Option for printingOptions changed from normal to all\n",
            "Presolve 19 (-2) rows, 56 (-5) columns and 109 (-3) elements\n",
            "Statistics for presolved model\n",
            "Original problem has 60 integers (60 of which binary)\n",
            "Presolved problem has 56 integers (56 of which binary)\n",
            "==== 0 zero objective 2 different\n",
            "55 variables have objective of 1\n",
            "1 variables have objective of 2\n",
            "==== absolute objective values 2 different\n",
            "55 variables have objective of 1\n",
            "1 variables have objective of 2\n",
            "==== for integers 0 zero objective 2 different\n",
            "55 variables have objective of 1\n",
            "1 variables have objective of 2\n",
            "==== for integers absolute objective values 2 different\n",
            "55 variables have objective of 1\n",
            "1 variables have objective of 2\n",
            "===== end objective counts\n",
            "\n",
            "\n",
            "Problem has 19 rows, 56 columns (56 with objective) and 109 elements\n",
            "There are 3 singletons with objective \n",
            "Column breakdown:\n",
            "0 of type 0.0->inf, 0 of type 0.0->up, 0 of type lo->inf, \n",
            "0 of type lo->up, 0 of type free, 0 of type fixed, \n",
            "0 of type -inf->0.0, 0 of type -inf->up, 56 of type 0.0->1.0 \n",
            "Row breakdown:\n",
            "17 of type E 0.0, 2 of type E 1.0, 0 of type E -1.0, \n",
            "0 of type E other, 0 of type G 0.0, 0 of type G 1.0, \n",
            "0 of type G other, 0 of type L 0.0, 0 of type L 1.0, \n",
            "0 of type L other, 0 of type Range 0.0->1.0, 0 of type Range other, \n",
            "0 of type Free \n",
            "Continuous objective value is 6 - 0.00 seconds\n",
            "Cgl0004I processed model has 19 rows, 56 columns (56 integer (56 of which binary)) and 109 elements\n",
            "Cutoff increment increased from 1e-05 to 0.9999\n",
            "Cbc0038I Initial state - 0 integers unsatisfied sum - 0\n",
            "Cbc0038I Solution found of 6\n",
            "Cbc0038I Before mini branch and bound, 56 integers at bound fixed and 0 continuous\n",
            "Cbc0038I Mini branch and bound did not improve solution (0.00 seconds)\n",
            "Cbc0038I After 0.00 seconds - Feasibility pump exiting with objective of 6 - took 0.00 seconds\n",
            "Cbc0012I Integer solution of 6 found by feasibility pump after 0 iterations and 0 nodes (0.00 seconds)\n",
            "Cbc0001I Search completed - best objective 6, took 0 iterations and 0 nodes (0.00 seconds)\n",
            "Cbc0035I Maximum depth 0, 0 variables fixed on reduced cost\n",
            "Cuts at root node changed objective from 6 to 6\n",
            "Probing was tried 0 times and created 0 cuts of which 0 were active after adding rounds of cuts (0.000 seconds)\n",
            "Gomory was tried 0 times and created 0 cuts of which 0 were active after adding rounds of cuts (0.000 seconds)\n",
            "Knapsack was tried 0 times and created 0 cuts of which 0 were active after adding rounds of cuts (0.000 seconds)\n",
            "Clique was tried 0 times and created 0 cuts of which 0 were active after adding rounds of cuts (0.000 seconds)\n",
            "MixedIntegerRounding2 was tried 0 times and created 0 cuts of which 0 were active after adding rounds of cuts (0.000 seconds)\n",
            "FlowCover was tried 0 times and created 0 cuts of which 0 were active after adding rounds of cuts (0.000 seconds)\n",
            "TwoMirCuts was tried 0 times and created 0 cuts of which 0 were active after adding rounds of cuts (0.000 seconds)\n",
            "\n",
            "Result - Optimal solution found\n",
            "\n",
            "Objective value:                6.00000000\n",
            "Enumerated nodes:               0\n",
            "Total iterations:               0\n",
            "Time (CPU seconds):             0.00\n",
            "Time (Wallclock seconds):       0.00\n",
            "\n",
            "Total time (CPU seconds):       0.00   (Wallclock seconds):       0.01\n",
            "\n"
          ]
        }
      ]
    },
    {
      "cell_type": "code",
      "source": [
        "for i in range(num_rows):\n",
        "  for j in range(num_columns):\n",
        "    if small_network_matrix[i,j] > 0:\n",
        "      if value(model_small.hops[i,j]):\n",
        "        print(\"\\tindividual: \", i+1, \"---> individual:\", j+1) # Again, visualization is important."
      ],
      "metadata": {
        "colab": {
          "base_uri": "https://localhost:8080/"
        },
        "id": "vEFBRFjnOjFr",
        "outputId": "29544fab-2cb9-4685-bc95-0e0875181f08"
      },
      "execution_count": null,
      "outputs": [
        {
          "output_type": "stream",
          "name": "stdout",
          "text": [
            "\tindividual:  1 ---> individual: 3\n",
            "\tindividual:  3 ---> individual: 4\n",
            "\tindividual:  4 ---> individual: 17\n",
            "\tindividual:  13 ---> individual: 16\n",
            "\tindividual:  17 ---> individual: 20\n",
            "\tindividual:  20 ---> individual: 13\n"
          ]
        }
      ]
    },
    {
      "cell_type": "code",
      "source": [
        "print(\"minimum number of hops for small network: \", value(model_small.objective))"
      ],
      "metadata": {
        "colab": {
          "base_uri": "https://localhost:8080/"
        },
        "id": "iKfk8oWQOmKi",
        "outputId": "db399ffd-3a6d-4839-8a19-ee041119de9d"
      },
      "execution_count": null,
      "outputs": [
        {
          "output_type": "stream",
          "name": "stdout",
          "text": [
            "minimum number of hops for small network:  6.0\n"
          ]
        }
      ]
    },
    {
      "cell_type": "markdown",
      "source": [
        "## Large network"
      ],
      "metadata": {
        "id": "SemCe-MYOqcv"
      }
    },
    {
      "cell_type": "code",
      "source": [
        "num_dimension = large_network_matrix.shape[0]\n",
        "print(\"number of rows and columns: \", num_dimension)"
      ],
      "metadata": {
        "colab": {
          "base_uri": "https://localhost:8080/"
        },
        "id": "ZtteEPxyOntG",
        "outputId": "8a701412-6bca-449f-8dae-43efcc0efaec"
      },
      "execution_count": null,
      "outputs": [
        {
          "output_type": "stream",
          "name": "stdout",
          "text": [
            "number of rows and columns:  50\n"
          ]
        }
      ]
    },
    {
      "cell_type": "code",
      "source": [
        "# create model\n",
        "model_large = ConcreteModel()\n",
        "\n",
        "# decision\n",
        "model_large.hops = Var( range(num_dimension) , range(num_dimension) , within = Binary )\n",
        "\n",
        "# I am person at individual 1, which is index 0\n",
        "# number of hops to individual 16, which is index 15\n",
        "# constraints\n",
        "\n",
        "### hops constraints\n",
        "model_large.flow_constraints = ConstraintList()\n",
        "for i in range(num_dimension):\n",
        "  if i == 0:\n",
        "    flow_out_expr = 0\n",
        "    for j in range(num_columns):\n",
        "      if large_network_matrix[i,j] > 0:\n",
        "        flow_out_expr += model_large.hops[i,j]\n",
        "    model_large.flow_constraints.add(1 == flow_out_expr)\n",
        "\n",
        "  elif i == 15:\n",
        "    flow_in_expr = 0\n",
        "    for j in range(num_columns):\n",
        "      if large_network_matrix[j,i] > 0:\n",
        "        flow_in_expr += model_large.hops[j,i]\n",
        "    model_large.flow_constraints.add(1 == flow_in_expr)\n",
        "\n",
        "  else:\n",
        "    flow_in_expr = 0\n",
        "    flow_out_expr = 0\n",
        "    for j in range(num_dimension):\n",
        "      if large_network_matrix[j,i] > 0:\n",
        "        flow_in_expr += model_large.hops[j,i]\n",
        "    for j in range(1, num_dimension):\n",
        "      if large_network_matrix[i,j] > 0:\n",
        "        flow_out_expr += model_large.hops[i,j]\n",
        "    model_large.flow_constraints.add(flow_out_expr == flow_in_expr)\n",
        "\n",
        "\n",
        "### objective\n",
        "total_num_hops = 0\n",
        "for i in range(num_dimension):\n",
        "  for j in range(num_dimension):\n",
        "    total_num_hops += large_network_matrix[i,j] * model_large.hops[i,j]\n",
        "\n",
        "model_large.objective = Objective(\n",
        "    expr = total_num_hops,\n",
        "    sense = minimize\n",
        ")"
      ],
      "metadata": {
        "id": "6N-7B862O-30"
      },
      "execution_count": null,
      "outputs": []
    },
    {
      "cell_type": "code",
      "source": [
        "opt = SolverFactory('cbc')\n",
        "opt_success = opt.solve(model_large,tee=True,timelimit=60)"
      ],
      "metadata": {
        "colab": {
          "base_uri": "https://localhost:8080/"
        },
        "id": "75KBUV3GPAY0",
        "outputId": "81a3a067-ceb0-48fc-9881-f41149a49346"
      },
      "execution_count": null,
      "outputs": [
        {
          "output_type": "stream",
          "name": "stdout",
          "text": [
            "Welcome to the CBC MILP Solver \n",
            "Version: 2.9.9 \n",
            "Build Date: Aug 21 2017 \n",
            "\n",
            "command line - /usr/bin/cbc -sec 60 -timeMode elapsed -printingOptions all -import /tmp/tmp2odjavh7.pyomo.lp -stat=1 -solve -solu /tmp/tmp2odjavh7.pyomo.soln (default strategy 1)\n",
            "seconds was changed from 1e+100 to 60\n",
            "Option for timeMode changed from cpu to elapsed\n",
            "Option for printingOptions changed from normal to all\n",
            "Presolve 49 (-2) rows, 194 (-7) columns and 376 (-3) elements\n",
            "Statistics for presolved model\n",
            "Original problem has 200 integers (200 of which binary)\n",
            "Presolved problem has 194 integers (194 of which binary)\n",
            "==== 1 zero objective 2 different\n",
            "1 variables have objective of 0\n",
            "193 variables have objective of 1\n",
            "==== absolute objective values 2 different\n",
            "1 variables have objective of 0\n",
            "193 variables have objective of 1\n",
            "==== for integers 1 zero objective 2 different\n",
            "1 variables have objective of 0\n",
            "193 variables have objective of 1\n",
            "==== for integers absolute objective values 2 different\n",
            "1 variables have objective of 0\n",
            "193 variables have objective of 1\n",
            "===== end objective counts\n",
            "\n",
            "\n",
            "Problem has 49 rows, 194 columns (193 with objective) and 376 elements\n",
            "There are 12 singletons with objective \n",
            "Column breakdown:\n",
            "0 of type 0.0->inf, 0 of type 0.0->up, 0 of type lo->inf, \n",
            "0 of type lo->up, 0 of type free, 0 of type fixed, \n",
            "0 of type -inf->0.0, 0 of type -inf->up, 194 of type 0.0->1.0 \n",
            "Row breakdown:\n",
            "47 of type E 0.0, 1 of type E 1.0, 1 of type E -1.0, \n",
            "0 of type E other, 0 of type G 0.0, 0 of type G 1.0, \n",
            "0 of type G other, 0 of type L 0.0, 0 of type L 1.0, \n",
            "0 of type L other, 0 of type Range 0.0->1.0, 0 of type Range other, \n",
            "0 of type Free \n",
            "Continuous objective value is 2 - 0.00 seconds\n",
            "Cgl0004I processed model has 49 rows, 194 columns (194 integer (194 of which binary)) and 376 elements\n",
            "Cutoff increment increased from 1e-05 to 0.9999\n",
            "Cbc0038I Initial state - 0 integers unsatisfied sum - 0\n",
            "Cbc0038I Solution found of 2\n",
            "Cbc0038I Before mini branch and bound, 194 integers at bound fixed and 0 continuous\n",
            "Cbc0038I Mini branch and bound did not improve solution (0.01 seconds)\n",
            "Cbc0038I After 0.01 seconds - Feasibility pump exiting with objective of 2 - took 0.00 seconds\n",
            "Cbc0012I Integer solution of 2 found by feasibility pump after 0 iterations and 0 nodes (0.01 seconds)\n",
            "Cbc0001I Search completed - best objective 2, took 0 iterations and 0 nodes (0.01 seconds)\n",
            "Cbc0035I Maximum depth 0, 0 variables fixed on reduced cost\n",
            "Cuts at root node changed objective from 2 to 2\n",
            "Probing was tried 0 times and created 0 cuts of which 0 were active after adding rounds of cuts (0.000 seconds)\n",
            "Gomory was tried 0 times and created 0 cuts of which 0 were active after adding rounds of cuts (0.000 seconds)\n",
            "Knapsack was tried 0 times and created 0 cuts of which 0 were active after adding rounds of cuts (0.000 seconds)\n",
            "Clique was tried 0 times and created 0 cuts of which 0 were active after adding rounds of cuts (0.000 seconds)\n",
            "MixedIntegerRounding2 was tried 0 times and created 0 cuts of which 0 were active after adding rounds of cuts (0.000 seconds)\n",
            "FlowCover was tried 0 times and created 0 cuts of which 0 were active after adding rounds of cuts (0.000 seconds)\n",
            "TwoMirCuts was tried 0 times and created 0 cuts of which 0 were active after adding rounds of cuts (0.000 seconds)\n",
            "\n",
            "Result - Optimal solution found\n",
            "\n",
            "Objective value:                2.00000000\n",
            "Enumerated nodes:               0\n",
            "Total iterations:               0\n",
            "Time (CPU seconds):             0.01\n",
            "Time (Wallclock seconds):       0.01\n",
            "\n",
            "Total time (CPU seconds):       0.01   (Wallclock seconds):       0.01\n",
            "\n"
          ]
        }
      ]
    },
    {
      "cell_type": "code",
      "source": [
        "for i in range(num_dimension):\n",
        "  for j in range(num_dimension):\n",
        "    if large_network_matrix[i,j] > 0:\n",
        "      if value(model_large.hops[i,j]):\n",
        "        print(\"\\tindividual: \", i+1, \"---> individual:\", j+1)\n",
        "\n",
        "print(\"minimum number of hops for large network: \", value(model_large.objective))"
      ],
      "metadata": {
        "colab": {
          "base_uri": "https://localhost:8080/"
        },
        "id": "CvVJLd06PDCv",
        "outputId": "63e219a0-e901-4625-b774-55026b84086c"
      },
      "execution_count": null,
      "outputs": [
        {
          "output_type": "stream",
          "name": "stdout",
          "text": [
            "\tindividual:  1 ---> individual: 2\n",
            "\tindividual:  2 ---> individual: 16\n",
            "minimum number of hops for large network:  2.0\n"
          ]
        }
      ]
    },
    {
      "cell_type": "markdown",
      "source": [
        "# 1 (C)"
      ],
      "metadata": {
        "id": "BrXM7XusPrRW"
      }
    },
    {
      "cell_type": "markdown",
      "source": [
        "##Small network"
      ],
      "metadata": {
        "id": "W8ztdc3LD_bf"
      }
    },
    {
      "cell_type": "code",
      "source": [
        "model = ConcreteModel()\n",
        "\n",
        "n_locations = 20 # Define the total length , which is 0 to 19, including 0\n",
        "\n",
        "for location in range(n_locations):\n",
        "  small_network_matrix[location,location] = 1 # Map the small network matrix\n",
        "\n",
        "model.select_location = Var( range(n_locations)  , within=Binary )\n",
        "\n",
        "#constraints\n",
        "model.covering_constraints = ConstraintList()\n",
        "\n",
        "\n",
        "for location in range(n_locations):\n",
        "  cover_expr = 0\n",
        "  for cover_location in range(n_locations):\n",
        "    if small_network_matrix[location,cover_location] > 0.9:\n",
        "      cover_expr += model.select_location[cover_location]\n",
        "  model.covering_constraints.add( cover_expr <= 1 ) #it selects a point with no interconnected networks.\n",
        "\n",
        "no_people_not_networked = 0 # Intinialize the variable with 0\n",
        "for i in range(n_locations):\n",
        " for j in range(n_locations):\n",
        "   no_people_not_networked  += (model.select_location[i]*(1-small_network_matrix[i,j]))\n",
        "\n",
        "# define objective\n",
        "model.objective = Objective(\n",
        "    expr = no_people_not_networked ,\n",
        "    sense = maximize # maximize the objective function\n",
        ")"
      ],
      "metadata": {
        "id": "cbIFXhzIPVg0"
      },
      "execution_count": null,
      "outputs": []
    },
    {
      "cell_type": "code",
      "source": [
        "model.pprint() # Print the model"
      ],
      "metadata": {
        "colab": {
          "base_uri": "https://localhost:8080/"
        },
        "id": "SawabCVS9ukF",
        "outputId": "53d0a7f8-0a6f-40fd-fd5e-deebcb7982c8"
      },
      "execution_count": null,
      "outputs": [
        {
          "output_type": "stream",
          "name": "stdout",
          "text": [
            "2 Set Declarations\n",
            "    covering_constraints_index : Size=1, Index=None, Ordered=Insertion\n",
            "        Key  : Dimen : Domain : Size : Members\n",
            "        None :     1 :    Any :   20 : {1, 2, 3, 4, 5, 6, 7, 8, 9, 10, 11, 12, 13, 14, 15, 16, 17, 18, 19, 20}\n",
            "    select_location_index : Size=1, Index=None, Ordered=Insertion\n",
            "        Key  : Dimen : Domain : Size : Members\n",
            "        None :     1 :    Any :   20 : {0, 1, 2, 3, 4, 5, 6, 7, 8, 9, 10, 11, 12, 13, 14, 15, 16, 17, 18, 19}\n",
            "\n",
            "1 Var Declarations\n",
            "    select_location : Size=20, Index=select_location_index\n",
            "        Key : Lower : Value : Upper : Fixed : Stale : Domain\n",
            "          0 :     0 :  None :     1 : False :  True : Binary\n",
            "          1 :     0 :  None :     1 : False :  True : Binary\n",
            "          2 :     0 :  None :     1 : False :  True : Binary\n",
            "          3 :     0 :  None :     1 : False :  True : Binary\n",
            "          4 :     0 :  None :     1 : False :  True : Binary\n",
            "          5 :     0 :  None :     1 : False :  True : Binary\n",
            "          6 :     0 :  None :     1 : False :  True : Binary\n",
            "          7 :     0 :  None :     1 : False :  True : Binary\n",
            "          8 :     0 :  None :     1 : False :  True : Binary\n",
            "          9 :     0 :  None :     1 : False :  True : Binary\n",
            "         10 :     0 :  None :     1 : False :  True : Binary\n",
            "         11 :     0 :  None :     1 : False :  True : Binary\n",
            "         12 :     0 :  None :     1 : False :  True : Binary\n",
            "         13 :     0 :  None :     1 : False :  True : Binary\n",
            "         14 :     0 :  None :     1 : False :  True : Binary\n",
            "         15 :     0 :  None :     1 : False :  True : Binary\n",
            "         16 :     0 :  None :     1 : False :  True : Binary\n",
            "         17 :     0 :  None :     1 : False :  True : Binary\n",
            "         18 :     0 :  None :     1 : False :  True : Binary\n",
            "         19 :     0 :  None :     1 : False :  True : Binary\n",
            "\n",
            "1 Objective Declarations\n",
            "    objective : Size=1, Index=None, Active=True\n",
            "        Key  : Active : Sense    : Expression\n",
            "        None :   True : maximize : select_location[0] + select_location[0] + select_location[0] + select_location[0] + select_location[0] + select_location[0] + select_location[0] + select_location[0] + select_location[0] + select_location[0] + select_location[0] + select_location[0] + select_location[0] + select_location[0] + select_location[0] + select_location[0] + select_location[1] + select_location[1] + select_location[1] + select_location[1] + select_location[1] + select_location[1] + select_location[1] + select_location[1] + select_location[1] + select_location[1] + select_location[1] + select_location[1] + select_location[1] + select_location[1] + select_location[1] + select_location[1] + select_location[2] + select_location[2] + select_location[2] + select_location[2] + select_location[2] + select_location[2] + select_location[2] + select_location[2] + select_location[2] + select_location[2] + select_location[2] + select_location[2] + select_location[2] + select_location[2] + select_location[2] + select_location[2] + select_location[3] + select_location[3] + select_location[3] + select_location[3] + select_location[3] + select_location[3] + select_location[3] + select_location[3] + select_location[3] + select_location[3] + select_location[3] + select_location[3] + select_location[3] + select_location[3] + select_location[3] + select_location[3] + select_location[3] + select_location[4] + select_location[4] + select_location[4] + select_location[4] + select_location[4] + select_location[4] + select_location[4] + select_location[4] + select_location[4] + select_location[4] + select_location[4] + select_location[4] + select_location[4] + select_location[4] + select_location[4] + select_location[4] + select_location[5] + select_location[5] + select_location[5] + select_location[5] + select_location[5] + select_location[5] + select_location[5] + select_location[5] + select_location[5] + select_location[5] + select_location[5] + select_location[5] + select_location[5] + select_location[5] + select_location[5] + select_location[5] + select_location[6] + select_location[6] + select_location[6] + select_location[6] + select_location[6] + select_location[6] + select_location[6] + select_location[6] + select_location[6] + select_location[6] + select_location[6] + select_location[6] + select_location[6] + select_location[6] + select_location[6] + select_location[6] + select_location[7] + select_location[7] + select_location[7] + select_location[7] + select_location[7] + select_location[7] + select_location[7] + select_location[7] + select_location[7] + select_location[7] + select_location[7] + select_location[7] + select_location[7] + select_location[7] + select_location[7] + select_location[7] + select_location[7] + select_location[8] + select_location[8] + select_location[8] + select_location[8] + select_location[8] + select_location[8] + select_location[8] + select_location[8] + select_location[8] + select_location[8] + select_location[8] + select_location[8] + select_location[8] + select_location[8] + select_location[9] + select_location[9] + select_location[9] + select_location[9] + select_location[9] + select_location[9] + select_location[9] + select_location[9] + select_location[9] + select_location[9] + select_location[9] + select_location[9] + select_location[9] + select_location[9] + select_location[10] + select_location[10] + select_location[10] + select_location[10] + select_location[10] + select_location[10] + select_location[10] + select_location[10] + select_location[10] + select_location[10] + select_location[10] + select_location[10] + select_location[10] + select_location[10] + select_location[10] + select_location[10] + select_location[10] + select_location[11] + select_location[11] + select_location[11] + select_location[11] + select_location[11] + select_location[11] + select_location[11] + select_location[11] + select_location[11] + select_location[11] + select_location[11] + select_location[11] + select_location[11] + select_location[11] + select_location[11] + select_location[11] + select_location[12] + select_location[12] + select_location[12] + select_location[12] + select_location[12] + select_location[12] + select_location[12] + select_location[12] + select_location[12] + select_location[12] + select_location[12] + select_location[12] + select_location[12] + select_location[12] + select_location[12] + select_location[13] + select_location[13] + select_location[13] + select_location[13] + select_location[13] + select_location[13] + select_location[13] + select_location[13] + select_location[13] + select_location[13] + select_location[13] + select_location[13] + select_location[13] + select_location[13] + select_location[13] + select_location[13] + select_location[14] + select_location[14] + select_location[14] + select_location[14] + select_location[14] + select_location[14] + select_location[14] + select_location[14] + select_location[14] + select_location[14] + select_location[14] + select_location[14] + select_location[14] + select_location[14] + select_location[14] + select_location[14] + select_location[14] + select_location[14] + select_location[15] + select_location[15] + select_location[15] + select_location[15] + select_location[15] + select_location[15] + select_location[15] + select_location[15] + select_location[15] + select_location[15] + select_location[15] + select_location[15] + select_location[15] + select_location[15] + select_location[15] + select_location[15] + select_location[16] + select_location[16] + select_location[16] + select_location[16] + select_location[16] + select_location[16] + select_location[16] + select_location[16] + select_location[16] + select_location[16] + select_location[16] + select_location[16] + select_location[16] + select_location[16] + select_location[16] + select_location[16] + select_location[17] + select_location[17] + select_location[17] + select_location[17] + select_location[17] + select_location[17] + select_location[17] + select_location[17] + select_location[17] + select_location[17] + select_location[17] + select_location[17] + select_location[17] + select_location[17] + select_location[17] + select_location[17] + select_location[18] + select_location[18] + select_location[18] + select_location[18] + select_location[18] + select_location[18] + select_location[18] + select_location[18] + select_location[18] + select_location[18] + select_location[18] + select_location[18] + select_location[18] + select_location[18] + select_location[18] + select_location[18] + select_location[18] + select_location[19] + select_location[19] + select_location[19] + select_location[19] + select_location[19] + select_location[19] + select_location[19] + select_location[19] + select_location[19] + select_location[19] + select_location[19] + select_location[19] + select_location[19] + select_location[19] + select_location[19]\n",
            "\n",
            "1 Constraint Declarations\n",
            "    covering_constraints : Size=20, Index=covering_constraints_index, Active=True\n",
            "        Key : Lower : Body                                                                                                                          : Upper : Active\n",
            "          1 :  -Inf :                                             select_location[0] + select_location[1] + select_location[2] + select_location[8] :   1.0 :   True\n",
            "          2 :  -Inf :                                             select_location[0] + select_location[1] + select_location[2] + select_location[9] :   1.0 :   True\n",
            "          3 :  -Inf :                                             select_location[0] + select_location[1] + select_location[2] + select_location[3] :   1.0 :   True\n",
            "          4 :  -Inf :                                                                 select_location[2] + select_location[3] + select_location[16] :   1.0 :   True\n",
            "          5 :  -Inf :                                             select_location[4] + select_location[5] + select_location[6] + select_location[9] :   1.0 :   True\n",
            "          6 :  -Inf :                                             select_location[4] + select_location[5] + select_location[6] + select_location[8] :   1.0 :   True\n",
            "          7 :  -Inf :                                             select_location[4] + select_location[5] + select_location[6] + select_location[7] :   1.0 :   True\n",
            "          8 :  -Inf :                                                                  select_location[6] + select_location[7] + select_location[8] :   1.0 :   True\n",
            "          9 :  -Inf :  select_location[0] + select_location[5] + select_location[7] + select_location[8] + select_location[9] + select_location[11] :   1.0 :   True\n",
            "         10 :  -Inf : select_location[1] + select_location[4] + select_location[8] + select_location[9] + select_location[10] + select_location[11] :   1.0 :   True\n",
            "         11 :  -Inf :                                                                select_location[9] + select_location[10] + select_location[11] :   1.0 :   True\n",
            "         12 :  -Inf :                                           select_location[8] + select_location[9] + select_location[10] + select_location[11] :   1.0 :   True\n",
            "         13 :  -Inf :                   select_location[12] + select_location[13] + select_location[15] + select_location[17] + select_location[19] :   1.0 :   True\n",
            "         14 :  -Inf :                                         select_location[12] + select_location[13] + select_location[15] + select_location[17] :   1.0 :   True\n",
            "         15 :  -Inf :                                                                                     select_location[14] + select_location[15] :   1.0 :   True\n",
            "         16 :  -Inf :                                         select_location[12] + select_location[13] + select_location[14] + select_location[15] :   1.0 :   True\n",
            "         17 :  -Inf :                                          select_location[3] + select_location[16] + select_location[18] + select_location[19] :   1.0 :   True\n",
            "         18 :  -Inf :                                         select_location[12] + select_location[13] + select_location[17] + select_location[19] :   1.0 :   True\n",
            "         19 :  -Inf :                                                               select_location[16] + select_location[18] + select_location[19] :   1.0 :   True\n",
            "         20 :  -Inf :                   select_location[12] + select_location[16] + select_location[17] + select_location[18] + select_location[19] :   1.0 :   True\n",
            "\n",
            "5 Declarations: select_location_index select_location covering_constraints_index covering_constraints objective\n"
          ]
        }
      ]
    },
    {
      "cell_type": "code",
      "source": [
        "opt = SolverFactory('cbc')\n",
        "opt_success = opt.solve(model,tee=True,timelimit=60)"
      ],
      "metadata": {
        "colab": {
          "base_uri": "https://localhost:8080/"
        },
        "id": "Cmj8v07SIZLq",
        "outputId": "183ad2f0-1e31-42a2-8105-8913a73589a4"
      },
      "execution_count": null,
      "outputs": [
        {
          "output_type": "stream",
          "name": "stdout",
          "text": [
            "Welcome to the CBC MILP Solver \n",
            "Version: 2.9.9 \n",
            "Build Date: Aug 21 2017 \n",
            "\n",
            "command line - /usr/bin/cbc -sec 60 -timeMode elapsed -printingOptions all -import /tmp/tmpvlaf_6k8.pyomo.lp -stat=1 -solve -solu /tmp/tmpvlaf_6k8.pyomo.soln (default strategy 1)\n",
            "seconds was changed from 1e+100 to 60\n",
            "Option for timeMode changed from cpu to elapsed\n",
            "Option for printingOptions changed from normal to all\n",
            " CoinLpIO::readLp(): Maximization problem reformulated as minimization\n",
            "Presolve 20 (-1) rows, 20 (-1) columns and 80 (-1) elements\n",
            "Statistics for presolved model\n",
            "Original problem has 20 integers (20 of which binary)\n",
            "Presolved problem has 20 integers (20 of which binary)\n",
            "==== 0 zero objective 5 different\n",
            "1 variables have objective of -18\n",
            "4 variables have objective of -17\n",
            "11 variables have objective of -16\n",
            "2 variables have objective of -15\n",
            "2 variables have objective of -14\n",
            "==== absolute objective values 5 different\n",
            "2 variables have objective of 14\n",
            "2 variables have objective of 15\n",
            "11 variables have objective of 16\n",
            "4 variables have objective of 17\n",
            "1 variables have objective of 18\n",
            "==== for integers 0 zero objective 5 different\n",
            "1 variables have objective of -18\n",
            "4 variables have objective of -17\n",
            "11 variables have objective of -16\n",
            "2 variables have objective of -15\n",
            "2 variables have objective of -14\n",
            "==== for integers absolute objective values 5 different\n",
            "2 variables have objective of 14\n",
            "2 variables have objective of 15\n",
            "11 variables have objective of 16\n",
            "4 variables have objective of 17\n",
            "1 variables have objective of 18\n",
            "===== end objective counts\n",
            "\n",
            "\n",
            "Problem has 20 rows, 20 columns (20 with objective) and 80 elements\n",
            "Column breakdown:\n",
            "0 of type 0.0->inf, 0 of type 0.0->up, 0 of type lo->inf, \n",
            "0 of type lo->up, 0 of type free, 0 of type fixed, \n",
            "0 of type -inf->0.0, 0 of type -inf->up, 20 of type 0.0->1.0 \n",
            "Row breakdown:\n",
            "0 of type E 0.0, 0 of type E 1.0, 0 of type E -1.0, \n",
            "0 of type E other, 0 of type G 0.0, 0 of type G 1.0, \n",
            "0 of type G other, 0 of type L 0.0, 20 of type L 1.0, \n",
            "0 of type L other, 0 of type Range 0.0->1.0, 0 of type Range other, \n",
            "0 of type Free \n",
            "Continuous objective value is -85 - 0.00 seconds\n",
            "Cgl0003I 0 fixed, 0 tightened bounds, 9 strengthened rows, 0 substitutions\n",
            "Cgl0003I 0 fixed, 0 tightened bounds, 9 strengthened rows, 0 substitutions\n",
            "Cgl0003I 0 fixed, 1 tightened bounds, 2 strengthened rows, 0 substitutions\n",
            "Cgl0003I 0 fixed, 0 tightened bounds, 1 strengthened rows, 0 substitutions\n",
            "Cgl0003I 0 fixed, 0 tightened bounds, 1 strengthened rows, 0 substitutions\n",
            "Cgl0003I 0 fixed, 1 tightened bounds, 0 strengthened rows, 0 substitutions\n",
            "Cgl0004I processed model has 10 rows, 17 columns (17 integer (17 of which binary)) and 40 elements\n",
            "Cutoff increment increased from 1e-05 to 0.9999\n",
            "Cbc0038I Initial state - 0 integers unsatisfied sum - 0\n",
            "Cbc0038I Solution found of -85\n",
            "Cbc0038I Before mini branch and bound, 17 integers at bound fixed and 0 continuous\n",
            "Cbc0038I Mini branch and bound did not improve solution (0.01 seconds)\n",
            "Cbc0038I After 0.01 seconds - Feasibility pump exiting with objective of -85 - took 0.00 seconds\n",
            "Cbc0012I Integer solution of -85 found by feasibility pump after 0 iterations and 0 nodes (0.01 seconds)\n",
            "Cbc0001I Search completed - best objective -85, took 0 iterations and 0 nodes (0.01 seconds)\n",
            "Cbc0035I Maximum depth 0, 0 variables fixed on reduced cost\n",
            "Cuts at root node changed objective from -85 to -85\n",
            "Probing was tried 0 times and created 0 cuts of which 0 were active after adding rounds of cuts (0.000 seconds)\n",
            "Gomory was tried 0 times and created 0 cuts of which 0 were active after adding rounds of cuts (0.000 seconds)\n",
            "Knapsack was tried 0 times and created 0 cuts of which 0 were active after adding rounds of cuts (0.000 seconds)\n",
            "Clique was tried 0 times and created 0 cuts of which 0 were active after adding rounds of cuts (0.000 seconds)\n",
            "MixedIntegerRounding2 was tried 0 times and created 0 cuts of which 0 were active after adding rounds of cuts (0.000 seconds)\n",
            "FlowCover was tried 0 times and created 0 cuts of which 0 were active after adding rounds of cuts (0.000 seconds)\n",
            "TwoMirCuts was tried 0 times and created 0 cuts of which 0 were active after adding rounds of cuts (0.000 seconds)\n",
            "\n",
            "Result - Optimal solution found\n",
            "\n",
            "Objective value:                -85.00000000\n",
            "Enumerated nodes:               0\n",
            "Total iterations:               0\n",
            "Time (CPU seconds):             0.01\n",
            "Time (Wallclock seconds):       0.01\n",
            "\n",
            "Total time (CPU seconds):       0.01   (Wallclock seconds):       0.01\n",
            "\n"
          ]
        }
      ]
    },
    {
      "cell_type": "code",
      "source": [
        "count = 0    \n",
        "print(\"target: \")\n",
        "for location in range(n_locations):\n",
        "  if value(model.select_location[location]) > 0:\n",
        "    print(\"\\t   \", location + 1)\n",
        "    count = count+1;\n",
        "print(\"Model objective: \", value(model.objective))"
      ],
      "metadata": {
        "colab": {
          "base_uri": "https://localhost:8080/"
        },
        "id": "9CLImxZ8Il0F",
        "outputId": "ddb94705-3c5b-4e10-c8d2-119356903a99"
      },
      "execution_count": null,
      "outputs": [
        {
          "output_type": "stream",
          "name": "stdout",
          "text": [
            "target: \n",
            "\t    3\n",
            "\t    8\n",
            "\t    11\n",
            "\t    15\n",
            "\t    19\n",
            "Model objective:  85.0\n"
          ]
        }
      ]
    },
    {
      "cell_type": "code",
      "source": [
        "# From the above locations, it can be said that the index of the locations are 2,7,10,14,18\n",
        "for i in [2,7,10,14,18]:\n",
        "  for j in range(20):\n",
        "    if small_network_matrix[i,j] >0.9:\n",
        "      print(j)"
      ],
      "metadata": {
        "colab": {
          "base_uri": "https://localhost:8080/"
        },
        "id": "fIwckcJaLoxA",
        "outputId": "280d24b4-7aee-43dd-c744-ba621250bcca"
      },
      "execution_count": null,
      "outputs": [
        {
          "output_type": "stream",
          "name": "stdout",
          "text": [
            "0\n",
            "1\n",
            "2\n",
            "3\n",
            "6\n",
            "7\n",
            "8\n",
            "9\n",
            "10\n",
            "11\n",
            "14\n",
            "15\n",
            "16\n",
            "18\n",
            "19\n"
          ]
        }
      ]
    },
    {
      "cell_type": "markdown",
      "source": [
        "No two of which are connected to each other. Here for the 20 locations indexes are from 0 to 19. So from the above it can be said that the largest network , where no two are connected as : [3, 8, 11, 15, 19]"
      ],
      "metadata": {
        "id": "cUlR3z93L_JA"
      }
    },
    {
      "cell_type": "markdown",
      "source": [
        "##Large network"
      ],
      "metadata": {
        "id": "3GcXHGW6EF03"
      }
    },
    {
      "cell_type": "code",
      "source": [
        "model = ConcreteModel()\n",
        "\n",
        "n_locations = 50 # Define the matrix.\n",
        "\n",
        "\n",
        "for location in range(n_locations):\n",
        "  large_network_matrix[location,location] = 1 #Map the matrix\n",
        "\n",
        "model.select_location = Var( range(n_locations)  , within=Binary )\n",
        "\n",
        "#constraints\n",
        "model.covering_constraints = ConstraintList()\n",
        "\n",
        "\n",
        "for location in range(n_locations):\n",
        "  cover_expr = 0\n",
        "  for cover_location in range(n_locations):\n",
        "    if large_network_matrix[location,cover_location] > 0.9:\n",
        "      cover_expr += model.select_location[cover_location]\n",
        "  model.covering_constraints.add( cover_expr <= 1 ) # Select a point with no interconnected networks.\n",
        "\n",
        "no_people_not_networked = 0\n",
        "for i in range(n_locations):\n",
        " for j in range(n_locations):\n",
        "   no_people_not_networked  += (model.select_location[i]*(1-large_network_matrix[i,j]))\n",
        "\n",
        "# Define objective function\n",
        "model.objective = Objective(\n",
        "    expr = no_people_not_networked ,\n",
        "    sense = maximize # maximize the objective function\n",
        ")\n",
        "\n",
        "model.pprint()"
      ],
      "metadata": {
        "colab": {
          "base_uri": "https://localhost:8080/"
        },
        "id": "FNv7M5Uh-207",
        "outputId": "bd4891f0-3407-47e9-f5eb-ae652e4a60c1"
      },
      "execution_count": null,
      "outputs": [
        {
          "output_type": "stream",
          "name": "stdout",
          "text": [
            "2 Set Declarations\n",
            "    covering_constraints_index : Size=1, Index=None, Ordered=Insertion\n",
            "        Key  : Dimen : Domain : Size : Members\n",
            "        None :     1 :    Any :   50 : {1, 2, 3, 4, 5, 6, 7, 8, 9, 10, 11, 12, 13, 14, 15, 16, 17, 18, 19, 20, 21, 22, 23, 24, 25, 26, 27, 28, 29, 30, 31, 32, 33, 34, 35, 36, 37, 38, 39, 40, 41, 42, 43, 44, 45, 46, 47, 48, 49, 50}\n",
            "    select_location_index : Size=1, Index=None, Ordered=Insertion\n",
            "        Key  : Dimen : Domain : Size : Members\n",
            "        None :     1 :    Any :   50 : {0, 1, 2, 3, 4, 5, 6, 7, 8, 9, 10, 11, 12, 13, 14, 15, 16, 17, 18, 19, 20, 21, 22, 23, 24, 25, 26, 27, 28, 29, 30, 31, 32, 33, 34, 35, 36, 37, 38, 39, 40, 41, 42, 43, 44, 45, 46, 47, 48, 49}\n",
            "\n",
            "1 Var Declarations\n",
            "    select_location : Size=50, Index=select_location_index\n",
            "        Key : Lower : Value : Upper : Fixed : Stale : Domain\n",
            "          0 :     0 :  None :     1 : False :  True : Binary\n",
            "          1 :     0 :  None :     1 : False :  True : Binary\n",
            "          2 :     0 :  None :     1 : False :  True : Binary\n",
            "          3 :     0 :  None :     1 : False :  True : Binary\n",
            "          4 :     0 :  None :     1 : False :  True : Binary\n",
            "          5 :     0 :  None :     1 : False :  True : Binary\n",
            "          6 :     0 :  None :     1 : False :  True : Binary\n",
            "          7 :     0 :  None :     1 : False :  True : Binary\n",
            "          8 :     0 :  None :     1 : False :  True : Binary\n",
            "          9 :     0 :  None :     1 : False :  True : Binary\n",
            "         10 :     0 :  None :     1 : False :  True : Binary\n",
            "         11 :     0 :  None :     1 : False :  True : Binary\n",
            "         12 :     0 :  None :     1 : False :  True : Binary\n",
            "         13 :     0 :  None :     1 : False :  True : Binary\n",
            "         14 :     0 :  None :     1 : False :  True : Binary\n",
            "         15 :     0 :  None :     1 : False :  True : Binary\n",
            "         16 :     0 :  None :     1 : False :  True : Binary\n",
            "         17 :     0 :  None :     1 : False :  True : Binary\n",
            "         18 :     0 :  None :     1 : False :  True : Binary\n",
            "         19 :     0 :  None :     1 : False :  True : Binary\n",
            "         20 :     0 :  None :     1 : False :  True : Binary\n",
            "         21 :     0 :  None :     1 : False :  True : Binary\n",
            "         22 :     0 :  None :     1 : False :  True : Binary\n",
            "         23 :     0 :  None :     1 : False :  True : Binary\n",
            "         24 :     0 :  None :     1 : False :  True : Binary\n",
            "         25 :     0 :  None :     1 : False :  True : Binary\n",
            "         26 :     0 :  None :     1 : False :  True : Binary\n",
            "         27 :     0 :  None :     1 : False :  True : Binary\n",
            "         28 :     0 :  None :     1 : False :  True : Binary\n",
            "         29 :     0 :  None :     1 : False :  True : Binary\n",
            "         30 :     0 :  None :     1 : False :  True : Binary\n",
            "         31 :     0 :  None :     1 : False :  True : Binary\n",
            "         32 :     0 :  None :     1 : False :  True : Binary\n",
            "         33 :     0 :  None :     1 : False :  True : Binary\n",
            "         34 :     0 :  None :     1 : False :  True : Binary\n",
            "         35 :     0 :  None :     1 : False :  True : Binary\n",
            "         36 :     0 :  None :     1 : False :  True : Binary\n",
            "         37 :     0 :  None :     1 : False :  True : Binary\n",
            "         38 :     0 :  None :     1 : False :  True : Binary\n",
            "         39 :     0 :  None :     1 : False :  True : Binary\n",
            "         40 :     0 :  None :     1 : False :  True : Binary\n",
            "         41 :     0 :  None :     1 : False :  True : Binary\n",
            "         42 :     0 :  None :     1 : False :  True : Binary\n",
            "         43 :     0 :  None :     1 : False :  True : Binary\n",
            "         44 :     0 :  None :     1 : False :  True : Binary\n",
            "         45 :     0 :  None :     1 : False :  True : Binary\n",
            "         46 :     0 :  None :     1 : False :  True : Binary\n",
            "         47 :     0 :  None :     1 : False :  True : Binary\n",
            "         48 :     0 :  None :     1 : False :  True : Binary\n",
            "         49 :     0 :  None :     1 : False :  True : Binary\n",
            "\n",
            "1 Objective Declarations\n",
            "    objective : Size=1, Index=None, Active=True\n",
            "        Key  : Active : Sense    : Expression\n",
            "        None :   True : maximize : select_location[0] + select_location[0] + select_location[0] + select_location[0] + select_location[0] + select_location[0] + select_location[0] + select_location[0] + select_location[0] + select_location[0] + select_location[0] + select_location[0] + select_location[0] + select_location[0] + select_location[0] + select_location[0] + select_location[0] + select_location[0] + select_location[0] + select_location[0] + select_location[0] + select_location[0] + select_location[0] + select_location[0] + select_location[0] + select_location[0] + select_location[0] + select_location[0] + select_location[0] + select_location[0] + select_location[0] + select_location[0] + select_location[0] + select_location[0] + select_location[0] + select_location[0] + select_location[0] + select_location[0] + select_location[0] + select_location[0] + select_location[0] + select_location[0] + select_location[0] + select_location[0] + select_location[1] + select_location[1] + select_location[1] + select_location[1] + select_location[1] + select_location[1] + select_location[1] + select_location[1] + select_location[1] + select_location[1] + select_location[1] + select_location[1] + select_location[1] + select_location[1] + select_location[1] + select_location[1] + select_location[1] + select_location[1] + select_location[1] + select_location[1] + select_location[1] + select_location[1] + select_location[1] + select_location[1] + select_location[1] + select_location[1] + select_location[1] + select_location[1] + select_location[1] + select_location[1] + select_location[1] + select_location[1] + select_location[1] + select_location[1] + select_location[1] + select_location[1] + select_location[1] + select_location[1] + select_location[1] + select_location[1] + select_location[1] + select_location[1] + select_location[1] + select_location[1] + select_location[1] + select_location[2] + select_location[2] + select_location[2] + select_location[2] + select_location[2] + select_location[2] + select_location[2] + select_location[2] + select_location[2] + select_location[2] + select_location[2] + select_location[2] + select_location[2] + select_location[2] + select_location[2] + select_location[2] + select_location[2] + select_location[2] + select_location[2] + select_location[2] + select_location[2] + select_location[2] + select_location[2] + select_location[2] + select_location[2] + select_location[2] + select_location[2] + select_location[2] + select_location[2] + select_location[2] + select_location[2] + select_location[2] + select_location[2] + select_location[2] + select_location[2] + select_location[2] + select_location[2] + select_location[2] + select_location[2] + select_location[2] + select_location[2] + select_location[2] + select_location[2] + select_location[2] + select_location[2] + select_location[2] + select_location[3] + select_location[3] + select_location[3] + select_location[3] + select_location[3] + select_location[3] + select_location[3] + select_location[3] + select_location[3] + select_location[3] + select_location[3] + select_location[3] + select_location[3] + select_location[3] + select_location[3] + select_location[3] + select_location[3] + select_location[3] + select_location[3] + select_location[3] + select_location[3] + select_location[3] + select_location[3] + select_location[3] + select_location[3] + select_location[3] + select_location[3] + select_location[3] + select_location[3] + select_location[3] + select_location[3] + select_location[3] + select_location[3] + select_location[3] + select_location[3] + select_location[3] + select_location[3] + select_location[3] + select_location[3] + select_location[3] + select_location[3] + select_location[3] + select_location[3] + select_location[3] + select_location[3] + select_location[3] + select_location[3] + select_location[4] + select_location[4] + select_location[4] + select_location[4] + select_location[4] + select_location[4] + select_location[4] + select_location[4] + select_location[4] + select_location[4] + select_location[4] + select_location[4] + select_location[4] + select_location[4] + select_location[4] + select_location[4] + select_location[4] + select_location[4] + select_location[4] + select_location[4] + select_location[4] + select_location[4] + select_location[4] + select_location[4] + select_location[4] + select_location[4] + select_location[4] + select_location[4] + select_location[4] + select_location[4] + select_location[4] + select_location[4] + select_location[4] + select_location[4] + select_location[4] + select_location[4] + select_location[4] + select_location[4] + select_location[4] + select_location[4] + select_location[4] + select_location[4] + select_location[4] + select_location[4] + select_location[4] + select_location[4] + select_location[5] + select_location[5] + select_location[5] + select_location[5] + select_location[5] + select_location[5] + select_location[5] + select_location[5] + select_location[5] + select_location[5] + select_location[5] + select_location[5] + select_location[5] + select_location[5] + select_location[5] + select_location[5] + select_location[5] + select_location[5] + select_location[5] + select_location[5] + select_location[5] + select_location[5] + select_location[5] + select_location[5] + select_location[5] + select_location[5] + select_location[5] + select_location[5] + select_location[5] + select_location[5] + select_location[5] + select_location[5] + select_location[5] + select_location[5] + select_location[5] + select_location[5] + select_location[5] + select_location[5] + select_location[5] + select_location[5] + select_location[5] + select_location[5] + select_location[5] + select_location[5] + select_location[5] + select_location[6] + select_location[6] + select_location[6] + select_location[6] + select_location[6] + select_location[6] + select_location[6] + select_location[6] + select_location[6] + select_location[6] + select_location[6] + select_location[6] + select_location[6] + select_location[6] + select_location[6] + select_location[6] + select_location[6] + select_location[6] + select_location[6] + select_location[6] + select_location[6] + select_location[6] + select_location[6] + select_location[6] + select_location[6] + select_location[6] + select_location[6] + select_location[6] + select_location[6] + select_location[6] + select_location[6] + select_location[6] + select_location[6] + select_location[6] + select_location[6] + select_location[6] + select_location[6] + select_location[6] + select_location[6] + select_location[6] + select_location[6] + select_location[6] + select_location[6] + select_location[6] + select_location[6] + select_location[6] + select_location[7] + select_location[7] + select_location[7] + select_location[7] + select_location[7] + select_location[7] + select_location[7] + select_location[7] + select_location[7] + select_location[7] + select_location[7] + select_location[7] + select_location[7] + select_location[7] + select_location[7] + select_location[7] + select_location[7] + select_location[7] + select_location[7] + select_location[7] + select_location[7] + select_location[7] + select_location[7] + select_location[7] + select_location[7] + select_location[7] + select_location[7] + select_location[7] + select_location[7] + select_location[7] + select_location[7] + select_location[7] + select_location[7] + select_location[7] + select_location[7] + select_location[7] + select_location[7] + select_location[7] + select_location[7] + select_location[7] + select_location[7] + select_location[7] + select_location[7] + select_location[7] + select_location[7] + select_location[7] + select_location[8] + select_location[8] + select_location[8] + select_location[8] + select_location[8] + select_location[8] + select_location[8] + select_location[8] + select_location[8] + select_location[8] + select_location[8] + select_location[8] + select_location[8] + select_location[8] + select_location[8] + select_location[8] + select_location[8] + select_location[8] + select_location[8] + select_location[8] + select_location[8] + select_location[8] + select_location[8] + select_location[8] + select_location[8] + select_location[8] + select_location[8] + select_location[8] + select_location[8] + select_location[8] + select_location[8] + select_location[8] + select_location[8] + select_location[8] + select_location[8] + select_location[8] + select_location[8] + select_location[8] + select_location[8] + select_location[8] + select_location[8] + select_location[8] + select_location[8] + select_location[8] + select_location[8] + select_location[9] + select_location[9] + select_location[9] + select_location[9] + select_location[9] + select_location[9] + select_location[9] + select_location[9] + select_location[9] + select_location[9] + select_location[9] + select_location[9] + select_location[9] + select_location[9] + select_location[9] + select_location[9] + select_location[9] + select_location[9] + select_location[9] + select_location[9] + select_location[9] + select_location[9] + select_location[9] + select_location[9] + select_location[9] + select_location[9] + select_location[9] + select_location[9] + select_location[9] + select_location[9] + select_location[9] + select_location[9] + select_location[9] + select_location[9] + select_location[9] + select_location[9] + select_location[9] + select_location[9] + select_location[9] + select_location[9] + select_location[9] + select_location[9] + select_location[9] + select_location[9] + select_location[9] + select_location[9] + select_location[10] + select_location[10] + select_location[10] + select_location[10] + select_location[10] + select_location[10] + select_location[10] + select_location[10] + select_location[10] + select_location[10] + select_location[10] + select_location[10] + select_location[10] + select_location[10] + select_location[10] + select_location[10] + select_location[10] + select_location[10] + select_location[10] + select_location[10] + select_location[10] + select_location[10] + select_location[10] + select_location[10] + select_location[10] + select_location[10] + select_location[10] + select_location[10] + select_location[10] + select_location[10] + select_location[10] + select_location[10] + select_location[10] + select_location[10] + select_location[10] + select_location[10] + select_location[10] + select_location[10] + select_location[10] + select_location[10] + select_location[10] + select_location[10] + select_location[10] + select_location[10] + select_location[11] + select_location[11] + select_location[11] + select_location[11] + select_location[11] + select_location[11] + select_location[11] + select_location[11] + select_location[11] + select_location[11] + select_location[11] + select_location[11] + select_location[11] + select_location[11] + select_location[11] + select_location[11] + select_location[11] + select_location[11] + select_location[11] + select_location[11] + select_location[11] + select_location[11] + select_location[11] + select_location[11] + select_location[11] + select_location[11] + select_location[11] + select_location[11] + select_location[11] + select_location[11] + select_location[11] + select_location[11] + select_location[11] + select_location[11] + select_location[11] + select_location[11] + select_location[11] + select_location[11] + select_location[11] + select_location[11] + select_location[11] + select_location[12] + select_location[12] + select_location[12] + select_location[12] + select_location[12] + select_location[12] + select_location[12] + select_location[12] + select_location[12] + select_location[12] + select_location[12] + select_location[12] + select_location[12] + select_location[12] + select_location[12] + select_location[12] + select_location[12] + select_location[12] + select_location[12] + select_location[12] + select_location[12] + select_location[12] + select_location[12] + select_location[12] + select_location[12] + select_location[12] + select_location[12] + select_location[12] + select_location[12] + select_location[12] + select_location[12] + select_location[12] + select_location[12] + select_location[12] + select_location[12] + select_location[12] + select_location[12] + select_location[12] + select_location[12] + select_location[12] + select_location[12] + select_location[12] + select_location[12] + select_location[12] + select_location[12] + select_location[13] + select_location[13] + select_location[13] + select_location[13] + select_location[13] + select_location[13] + select_location[13] + select_location[13] + select_location[13] + select_location[13] + select_location[13] + select_location[13] + select_location[13] + select_location[13] + select_location[13] + select_location[13] + select_location[13] + select_location[13] + select_location[13] + select_location[13] + select_location[13] + select_location[13] + select_location[13] + select_location[13] + select_location[13] + select_location[13] + select_location[13] + select_location[13] + select_location[13] + select_location[13] + select_location[13] + select_location[13] + select_location[13] + select_location[13] + select_location[13] + select_location[13] + select_location[13] + select_location[13] + select_location[13] + select_location[13] + select_location[13] + select_location[13] + select_location[13] + select_location[13] + select_location[13] + select_location[13] + select_location[13] + select_location[14] + select_location[14] + select_location[14] + select_location[14] + select_location[14] + select_location[14] + select_location[14] + select_location[14] + select_location[14] + select_location[14] + select_location[14] + select_location[14] + select_location[14] + select_location[14] + select_location[14] + select_location[14] + select_location[14] + select_location[14] + select_location[14] + select_location[14] + select_location[14] + select_location[14] + select_location[14] + select_location[14] + select_location[14] + select_location[14] + select_location[14] + select_location[14] + select_location[14] + select_location[14] + select_location[14] + select_location[14] + select_location[14] + select_location[14] + select_location[14] + select_location[14] + select_location[14] + select_location[14] + select_location[14] + select_location[14] + select_location[14] + select_location[14] + select_location[14] + select_location[14] + select_location[14] + select_location[14] + select_location[15] + select_location[15] + select_location[15] + select_location[15] + select_location[15] + select_location[15] + select_location[15] + select_location[15] + select_location[15] + select_location[15] + select_location[15] + select_location[15] + select_location[15] + select_location[15] + select_location[15] + select_location[15] + select_location[15] + select_location[15] + select_location[15] + select_location[15] + select_location[15] + select_location[15] + select_location[15] + select_location[15] + select_location[15] + select_location[15] + select_location[15] + select_location[15] + select_location[15] + select_location[15] + select_location[15] + select_location[15] + select_location[15] + select_location[15] + select_location[15] + select_location[15] + select_location[15] + select_location[15] + select_location[15] + select_location[15] + select_location[15] + select_location[15] + select_location[15] + select_location[16] + select_location[16] + select_location[16] + select_location[16] + select_location[16] + select_location[16] + select_location[16] + select_location[16] + select_location[16] + select_location[16] + select_location[16] + select_location[16] + select_location[16] + select_location[16] + select_location[16] + select_location[16] + select_location[16] + select_location[16] + select_location[16] + select_location[16] + select_location[16] + select_location[16] + select_location[16] + select_location[16] + select_location[16] + select_location[16] + select_location[16] + select_location[16] + select_location[16] + select_location[16] + select_location[16] + select_location[16] + select_location[16] + select_location[16] + select_location[16] + select_location[16] + select_location[16] + select_location[16] + select_location[16] + select_location[16] + select_location[16] + select_location[16] + select_location[16] + select_location[16] + select_location[16] + select_location[17] + select_location[17] + select_location[17] + select_location[17] + select_location[17] + select_location[17] + select_location[17] + select_location[17] + select_location[17] + select_location[17] + select_location[17] + select_location[17] + select_location[17] + select_location[17] + select_location[17] + select_location[17] + select_location[17] + select_location[17] + select_location[17] + select_location[17] + select_location[17] + select_location[17] + select_location[17] + select_location[17] + select_location[17] + select_location[17] + select_location[17] + select_location[17] + select_location[17] + select_location[17] + select_location[17] + select_location[17] + select_location[17] + select_location[17] + select_location[17] + select_location[17] + select_location[17] + select_location[17] + select_location[17] + select_location[17] + select_location[17] + select_location[17] + select_location[17] + select_location[17] + select_location[17] + select_location[17] + select_location[17] + select_location[18] + select_location[18] + select_location[18] + select_location[18] + select_location[18] + select_location[18] + select_location[18] + select_location[18] + select_location[18] + select_location[18] + select_location[18] + select_location[18] + select_location[18] + select_location[18] + select_location[18] + select_location[18] + select_location[18] + select_location[18] + select_location[18] + select_location[18] + select_location[18] + select_location[18] + select_location[18] + select_location[18] + select_location[18] + select_location[18] + select_location[18] + select_location[18] + select_location[18] + select_location[18] + select_location[18] + select_location[18] + select_location[18] + select_location[18] + select_location[18] + select_location[18] + select_location[18] + select_location[18] + select_location[18] + select_location[18] + select_location[18] + select_location[18] + select_location[18] + select_location[18] + select_location[18] + select_location[19] + select_location[19] + select_location[19] + select_location[19] + select_location[19] + select_location[19] + select_location[19] + select_location[19] + select_location[19] + select_location[19] + select_location[19] + select_location[19] + select_location[19] + select_location[19] + select_location[19] + select_location[19] + select_location[19] + select_location[19] + select_location[19] + select_location[19] + select_location[19] + select_location[19] + select_location[19] + select_location[19] + select_location[19] + select_location[19] + select_location[19] + select_location[19] + select_location[19] + select_location[19] + select_location[19] + select_location[19] + select_location[19] + select_location[19] + select_location[19] + select_location[19] + select_location[19] + select_location[19] + select_location[19] + select_location[19] + select_location[19] + select_location[19] + select_location[19] + select_location[19] + select_location[19] + select_location[20] + select_location[20] + select_location[20] + select_location[20] + select_location[20] + select_location[20] + select_location[20] + select_location[20] + select_location[20] + select_location[20] + select_location[20] + select_location[20] + select_location[20] + select_location[20] + select_location[20] + select_location[20] + select_location[20] + select_location[20] + select_location[20] + select_location[20] + select_location[20] + select_location[20] + select_location[20] + select_location[20] + select_location[20] + select_location[20] + select_location[20] + select_location[20] + select_location[20] + select_location[20] + select_location[20] + select_location[20] + select_location[20] + select_location[20] + select_location[20] + select_location[20] + select_location[20] + select_location[20] + select_location[20] + select_location[20] + select_location[20] + select_location[20] + select_location[20] + select_location[20] + select_location[20] + select_location[21] + select_location[21] + select_location[21] + select_location[21] + select_location[21] + select_location[21] + select_location[21] + select_location[21] + select_location[21] + select_location[21] + select_location[21] + select_location[21] + select_location[21] + select_location[21] + select_location[21] + select_location[21] + select_location[21] + select_location[21] + select_location[21] + select_location[21] + select_location[21] + select_location[21] + select_location[21] + select_location[21] + select_location[21] + select_location[21] + select_location[21] + select_location[21] + select_location[21] + select_location[21] + select_location[21] + select_location[21] + select_location[21] + select_location[21] + select_location[21] + select_location[21] + select_location[21] + select_location[21] + select_location[21] + select_location[21] + select_location[21] + select_location[21] + select_location[22] + select_location[22] + select_location[22] + select_location[22] + select_location[22] + select_location[22] + select_location[22] + select_location[22] + select_location[22] + select_location[22] + select_location[22] + select_location[22] + select_location[22] + select_location[22] + select_location[22] + select_location[22] + select_location[22] + select_location[22] + select_location[22] + select_location[22] + select_location[22] + select_location[22] + select_location[22] + select_location[22] + select_location[22] + select_location[22] + select_location[22] + select_location[22] + select_location[22] + select_location[22] + select_location[22] + select_location[22] + select_location[22] + select_location[22] + select_location[22] + select_location[22] + select_location[22] + select_location[22] + select_location[22] + select_location[22] + select_location[22] + select_location[22] + select_location[22] + select_location[22] + select_location[22] + select_location[23] + select_location[23] + select_location[23] + select_location[23] + select_location[23] + select_location[23] + select_location[23] + select_location[23] + select_location[23] + select_location[23] + select_location[23] + select_location[23] + select_location[23] + select_location[23] + select_location[23] + select_location[23] + select_location[23] + select_location[23] + select_location[23] + select_location[23] + select_location[23] + select_location[23] + select_location[23] + select_location[23] + select_location[23] + select_location[23] + select_location[23] + select_location[23] + select_location[23] + select_location[23] + select_location[23] + select_location[23] + select_location[23] + select_location[23] + select_location[23] + select_location[23] + select_location[23] + select_location[23] + select_location[23] + select_location[23] + select_location[23] + select_location[23] + select_location[23] + select_location[23] + select_location[23] + select_location[24] + select_location[24] + select_location[24] + select_location[24] + select_location[24] + select_location[24] + select_location[24] + select_location[24] + select_location[24] + select_location[24] + select_location[24] + select_location[24] + select_location[24] + select_location[24] + select_location[24] + select_location[24] + select_location[24] + select_location[24] + select_location[24] + select_location[24] + select_location[24] + select_location[24] + select_location[24] + select_location[24] + select_location[24] + select_location[24] + select_location[24] + select_location[24] + select_location[24] + select_location[24] + select_location[24] + select_location[24] + select_location[24] + select_location[24] + select_location[24] + select_location[24] + select_location[24] + select_location[24] + select_location[24] + select_location[24] + select_location[24] + select_location[25] + select_location[25] + select_location[25] + select_location[25] + select_location[25] + select_location[25] + select_location[25] + select_location[25] + select_location[25] + select_location[25] + select_location[25] + select_location[25] + select_location[25] + select_location[25] + select_location[25] + select_location[25] + select_location[25] + select_location[25] + select_location[25] + select_location[25] + select_location[25] + select_location[25] + select_location[25] + select_location[25] + select_location[25] + select_location[25] + select_location[25] + select_location[25] + select_location[25] + select_location[25] + select_location[25] + select_location[25] + select_location[25] + select_location[25] + select_location[25] + select_location[25] + select_location[25] + select_location[25] + select_location[25] + select_location[25] + select_location[25] + select_location[25] + select_location[25] + select_location[26] + select_location[26] + select_location[26] + select_location[26] + select_location[26] + select_location[26] + select_location[26] + select_location[26] + select_location[26] + select_location[26] + select_location[26] + select_location[26] + select_location[26] + select_location[26] + select_location[26] + select_location[26] + select_location[26] + select_location[26] + select_location[26] + select_location[26] + select_location[26] + select_location[26] + select_location[26] + select_location[26] + select_location[26] + select_location[26] + select_location[26] + select_location[26] + select_location[26] + select_location[26] + select_location[26] + select_location[26] + select_location[26] + select_location[26] + select_location[26] + select_location[26] + select_location[26] + select_location[26] + select_location[26] + select_location[26] + select_location[26] + select_location[26] + select_location[26] + select_location[26] + select_location[26] + select_location[27] + select_location[27] + select_location[27] + select_location[27] + select_location[27] + select_location[27] + select_location[27] + select_location[27] + select_location[27] + select_location[27] + select_location[27] + select_location[27] + select_location[27] + select_location[27] + select_location[27] + select_location[27] + select_location[27] + select_location[27] + select_location[27] + select_location[27] + select_location[27] + select_location[27] + select_location[27] + select_location[27] + select_location[27] + select_location[27] + select_location[27] + select_location[27] + select_location[27] + select_location[27] + select_location[27] + select_location[27] + select_location[27] + select_location[27] + select_location[27] + select_location[27] + select_location[27] + select_location[27] + select_location[27] + select_location[27] + select_location[27] + select_location[27] + select_location[27] + select_location[27] + select_location[27] + select_location[27] + select_location[28] + select_location[28] + select_location[28] + select_location[28] + select_location[28] + select_location[28] + select_location[28] + select_location[28] + select_location[28] + select_location[28] + select_location[28] + select_location[28] + select_location[28] + select_location[28] + select_location[28] + select_location[28] + select_location[28] + select_location[28] + select_location[28] + select_location[28] + select_location[28] + select_location[28] + select_location[28] + select_location[28] + select_location[28] + select_location[28] + select_location[28] + select_location[28] + select_location[28] + select_location[28] + select_location[28] + select_location[28] + select_location[28] + select_location[28] + select_location[28] + select_location[28] + select_location[28] + select_location[28] + select_location[28] + select_location[28] + select_location[28] + select_location[28] + select_location[28] + select_location[28] + select_location[28] + select_location[28] + select_location[29] + select_location[29] + select_location[29] + select_location[29] + select_location[29] + select_location[29] + select_location[29] + select_location[29] + select_location[29] + select_location[29] + select_location[29] + select_location[29] + select_location[29] + select_location[29] + select_location[29] + select_location[29] + select_location[29] + select_location[29] + select_location[29] + select_location[29] + select_location[29] + select_location[29] + select_location[29] + select_location[29] + select_location[29] + select_location[29] + select_location[29] + select_location[29] + select_location[29] + select_location[29] + select_location[29] + select_location[29] + select_location[29] + select_location[29] + select_location[29] + select_location[29] + select_location[29] + select_location[29] + select_location[29] + select_location[29] + select_location[29] + select_location[29] + select_location[29] + select_location[29] + select_location[29] + select_location[29] + select_location[29] + select_location[30] + select_location[30] + select_location[30] + select_location[30] + select_location[30] + select_location[30] + select_location[30] + select_location[30] + select_location[30] + select_location[30] + select_location[30] + select_location[30] + select_location[30] + select_location[30] + select_location[30] + select_location[30] + select_location[30] + select_location[30] + select_location[30] + select_location[30] + select_location[30] + select_location[30] + select_location[30] + select_location[30] + select_location[30] + select_location[30] + select_location[30] + select_location[30] + select_location[30] + select_location[30] + select_location[30] + select_location[30] + select_location[30] + select_location[30] + select_location[30] + select_location[30] + select_location[30] + select_location[30] + select_location[30] + select_location[30] + select_location[30] + select_location[30] + select_location[30] + select_location[30] + select_location[30] + select_location[31] + select_location[31] + select_location[31] + select_location[31] + select_location[31] + select_location[31] + select_location[31] + select_location[31] + select_location[31] + select_location[31] + select_location[31] + select_location[31] + select_location[31] + select_location[31] + select_location[31] + select_location[31] + select_location[31] + select_location[31] + select_location[31] + select_location[31] + select_location[31] + select_location[31] + select_location[31] + select_location[31] + select_location[31] + select_location[31] + select_location[31] + select_location[31] + select_location[31] + select_location[31] + select_location[31] + select_location[31] + select_location[31] + select_location[31] + select_location[31] + select_location[31] + select_location[31] + select_location[31] + select_location[31] + select_location[31] + select_location[31] + select_location[31] + select_location[31] + select_location[31] + select_location[32] + select_location[32] + select_location[32] + select_location[32] + select_location[32] + select_location[32] + select_location[32] + select_location[32] + select_location[32] + select_location[32] + select_location[32] + select_location[32] + select_location[32] + select_location[32] + select_location[32] + select_location[32] + select_location[32] + select_location[32] + select_location[32] + select_location[32] + select_location[32] + select_location[32] + select_location[32] + select_location[32] + select_location[32] + select_location[32] + select_location[32] + select_location[32] + select_location[32] + select_location[32] + select_location[32] + select_location[32] + select_location[32] + select_location[32] + select_location[32] + select_location[32] + select_location[32] + select_location[32] + select_location[32] + select_location[32] + select_location[32] + select_location[32] + select_location[32] + select_location[32] + select_location[32] + select_location[33] + select_location[33] + select_location[33] + select_location[33] + select_location[33] + select_location[33] + select_location[33] + select_location[33] + select_location[33] + select_location[33] + select_location[33] + select_location[33] + select_location[33] + select_location[33] + select_location[33] + select_location[33] + select_location[33] + select_location[33] + select_location[33] + select_location[33] + select_location[33] + select_location[33] + select_location[33] + select_location[33] + select_location[33] + select_location[33] + select_location[33] + select_location[33] + select_location[33] + select_location[33] + select_location[33] + select_location[33] + select_location[33] + select_location[33] + select_location[33] + select_location[33] + select_location[33] + select_location[33] + select_location[33] + select_location[33] + select_location[33] + select_location[33] + select_location[33] + select_location[33] + select_location[33] + select_location[33] + select_location[34] + select_location[34] + select_location[34] + select_location[34] + select_location[34] + select_location[34] + select_location[34] + select_location[34] + select_location[34] + select_location[34] + select_location[34] + select_location[34] + select_location[34] + select_location[34] + select_location[34] + select_location[34] + select_location[34] + select_location[34] + select_location[34] + select_location[34] + select_location[34] + select_location[34] + select_location[34] + select_location[34] + select_location[34] + select_location[34] + select_location[34] + select_location[34] + select_location[34] + select_location[34] + select_location[34] + select_location[34] + select_location[34] + select_location[34] + select_location[34] + select_location[34] + select_location[34] + select_location[34] + select_location[34] + select_location[34] + select_location[34] + select_location[34] + select_location[34] + select_location[34] + select_location[34] + select_location[34] + select_location[34] + select_location[35] + select_location[35] + select_location[35] + select_location[35] + select_location[35] + select_location[35] + select_location[35] + select_location[35] + select_location[35] + select_location[35] + select_location[35] + select_location[35] + select_location[35] + select_location[35] + select_location[35] + select_location[35] + select_location[35] + select_location[35] + select_location[35] + select_location[35] + select_location[35] + select_location[35] + select_location[35] + select_location[35] + select_location[35] + select_location[35] + select_location[35] + select_location[35] + select_location[35] + select_location[35] + select_location[35] + select_location[35] + select_location[35] + select_location[35] + select_location[35] + select_location[35] + select_location[35] + select_location[35] + select_location[35] + select_location[35] + select_location[35] + select_location[35] + select_location[35] + select_location[35] + select_location[36] + select_location[36] + select_location[36] + select_location[36] + select_location[36] + select_location[36] + select_location[36] + select_location[36] + select_location[36] + select_location[36] + select_location[36] + select_location[36] + select_location[36] + select_location[36] + select_location[36] + select_location[36] + select_location[36] + select_location[36] + select_location[36] + select_location[36] + select_location[36] + select_location[36] + select_location[36] + select_location[36] + select_location[36] + select_location[36] + select_location[36] + select_location[36] + select_location[36] + select_location[36] + select_location[36] + select_location[36] + select_location[36] + select_location[36] + select_location[36] + select_location[36] + select_location[36] + select_location[36] + select_location[36] + select_location[36] + select_location[36] + select_location[36] + select_location[36] + select_location[36] + select_location[36] + select_location[37] + select_location[37] + select_location[37] + select_location[37] + select_location[37] + select_location[37] + select_location[37] + select_location[37] + select_location[37] + select_location[37] + select_location[37] + select_location[37] + select_location[37] + select_location[37] + select_location[37] + select_location[37] + select_location[37] + select_location[37] + select_location[37] + select_location[37] + select_location[37] + select_location[37] + select_location[37] + select_location[37] + select_location[37] + select_location[37] + select_location[37] + select_location[37] + select_location[37] + select_location[37] + select_location[37] + select_location[37] + select_location[37] + select_location[37] + select_location[37] + select_location[37] + select_location[37] + select_location[37] + select_location[37] + select_location[37] + select_location[37] + select_location[37] + select_location[37] + select_location[37] + select_location[37] + select_location[38] + select_location[38] + select_location[38] + select_location[38] + select_location[38] + select_location[38] + select_location[38] + select_location[38] + select_location[38] + select_location[38] + select_location[38] + select_location[38] + select_location[38] + select_location[38] + select_location[38] + select_location[38] + select_location[38] + select_location[38] + select_location[38] + select_location[38] + select_location[38] + select_location[38] + select_location[38] + select_location[38] + select_location[38] + select_location[38] + select_location[38] + select_location[38] + select_location[38] + select_location[38] + select_location[38] + select_location[38] + select_location[38] + select_location[38] + select_location[38] + select_location[38] + select_location[38] + select_location[38] + select_location[38] + select_location[38] + select_location[38] + select_location[38] + select_location[38] + select_location[38] + select_location[38] + select_location[39] + select_location[39] + select_location[39] + select_location[39] + select_location[39] + select_location[39] + select_location[39] + select_location[39] + select_location[39] + select_location[39] + select_location[39] + select_location[39] + select_location[39] + select_location[39] + select_location[39] + select_location[39] + select_location[39] + select_location[39] + select_location[39] + select_location[39] + select_location[39] + select_location[39] + select_location[39] + select_location[39] + select_location[39] + select_location[39] + select_location[39] + select_location[39] + select_location[39] + select_location[39] + select_location[39] + select_location[39] + select_location[39] + select_location[39] + select_location[39] + select_location[39] + select_location[39] + select_location[39] + select_location[39] + select_location[39] + select_location[39] + select_location[39] + select_location[39] + select_location[39] + select_location[39] + select_location[39] + select_location[40] + select_location[40] + select_location[40] + select_location[40] + select_location[40] + select_location[40] + select_location[40] + select_location[40] + select_location[40] + select_location[40] + select_location[40] + select_location[40] + select_location[40] + select_location[40] + select_location[40] + select_location[40] + select_location[40] + select_location[40] + select_location[40] + select_location[40] + select_location[40] + select_location[40] + select_location[40] + select_location[40] + select_location[40] + select_location[40] + select_location[40] + select_location[40] + select_location[40] + select_location[40] + select_location[40] + select_location[40] + select_location[40] + select_location[40] + select_location[40] + select_location[40] + select_location[40] + select_location[40] + select_location[40] + select_location[40] + select_location[40] + select_location[40] + select_location[40] + select_location[40] + select_location[41] + select_location[41] + select_location[41] + select_location[41] + select_location[41] + select_location[41] + select_location[41] + select_location[41] + select_location[41] + select_location[41] + select_location[41] + select_location[41] + select_location[41] + select_location[41] + select_location[41] + select_location[41] + select_location[41] + select_location[41] + select_location[41] + select_location[41] + select_location[41] + select_location[41] + select_location[41] + select_location[41] + select_location[41] + select_location[41] + select_location[41] + select_location[41] + select_location[41] + select_location[41] + select_location[41] + select_location[41] + select_location[41] + select_location[41] + select_location[41] + select_location[41] + select_location[41] + select_location[41] + select_location[41] + select_location[41] + select_location[41] + select_location[41] + select_location[41] + select_location[41] + select_location[42] + select_location[42] + select_location[42] + select_location[42] + select_location[42] + select_location[42] + select_location[42] + select_location[42] + select_location[42] + select_location[42] + select_location[42] + select_location[42] + select_location[42] + select_location[42] + select_location[42] + select_location[42] + select_location[42] + select_location[42] + select_location[42] + select_location[42] + select_location[42] + select_location[42] + select_location[42] + select_location[42] + select_location[42] + select_location[42] + select_location[42] + select_location[42] + select_location[42] + select_location[42] + select_location[42] + select_location[42] + select_location[42] + select_location[42] + select_location[42] + select_location[42] + select_location[42] + select_location[42] + select_location[42] + select_location[42] + select_location[42] + select_location[42] + select_location[42] + select_location[42] + select_location[42] + select_location[43] + select_location[43] + select_location[43] + select_location[43] + select_location[43] + select_location[43] + select_location[43] + select_location[43] + select_location[43] + select_location[43] + select_location[43] + select_location[43] + select_location[43] + select_location[43] + select_location[43] + select_location[43] + select_location[43] + select_location[43] + select_location[43] + select_location[43] + select_location[43] + select_location[43] + select_location[43] + select_location[43] + select_location[43] + select_location[43] + select_location[43] + select_location[43] + select_location[43] + select_location[43] + select_location[43] + select_location[43] + select_location[43] + select_location[43] + select_location[43] + select_location[43] + select_location[43] + select_location[43] + select_location[43] + select_location[43] + select_location[43] + select_location[43] + select_location[43] + select_location[43] + select_location[43] + select_location[44] + select_location[44] + select_location[44] + select_location[44] + select_location[44] + select_location[44] + select_location[44] + select_location[44] + select_location[44] + select_location[44] + select_location[44] + select_location[44] + select_location[44] + select_location[44] + select_location[44] + select_location[44] + select_location[44] + select_location[44] + select_location[44] + select_location[44] + select_location[44] + select_location[44] + select_location[44] + select_location[44] + select_location[44] + select_location[44] + select_location[44] + select_location[44] + select_location[44] + select_location[44] + select_location[44] + select_location[44] + select_location[44] + select_location[44] + select_location[44] + select_location[44] + select_location[44] + select_location[44] + select_location[44] + select_location[44] + select_location[44] + select_location[44] + select_location[44] + select_location[44] + select_location[44] + select_location[44] + select_location[45] + select_location[45] + select_location[45] + select_location[45] + select_location[45] + select_location[45] + select_location[45] + select_location[45] + select_location[45] + select_location[45] + select_location[45] + select_location[45] + select_location[45] + select_location[45] + select_location[45] + select_location[45] + select_location[45] + select_location[45] + select_location[45] + select_location[45] + select_location[45] + select_location[45] + select_location[45] + select_location[45] + select_location[45] + select_location[45] + select_location[45] + select_location[45] + select_location[45] + select_location[45] + select_location[45] + select_location[45] + select_location[45] + select_location[45] + select_location[45] + select_location[45] + select_location[45] + select_location[45] + select_location[45] + select_location[45] + select_location[45] + select_location[45] + select_location[45] + select_location[45] + select_location[45] + select_location[46] + select_location[46] + select_location[46] + select_location[46] + select_location[46] + select_location[46] + select_location[46] + select_location[46] + select_location[46] + select_location[46] + select_location[46] + select_location[46] + select_location[46] + select_location[46] + select_location[46] + select_location[46] + select_location[46] + select_location[46] + select_location[46] + select_location[46] + select_location[46] + select_location[46] + select_location[46] + select_location[46] + select_location[46] + select_location[46] + select_location[46] + select_location[46] + select_location[46] + select_location[46] + select_location[46] + select_location[46] + select_location[46] + select_location[46] + select_location[46] + select_location[46] + select_location[46] + select_location[46] + select_location[46] + select_location[46] + select_location[46] + select_location[46] + select_location[46] + select_location[46] + select_location[47] + select_location[47] + select_location[47] + select_location[47] + select_location[47] + select_location[47] + select_location[47] + select_location[47] + select_location[47] + select_location[47] + select_location[47] + select_location[47] + select_location[47] + select_location[47] + select_location[47] + select_location[47] + select_location[47] + select_location[47] + select_location[47] + select_location[47] + select_location[47] + select_location[47] + select_location[47] + select_location[47] + select_location[47] + select_location[47] + select_location[47] + select_location[47] + select_location[47] + select_location[47] + select_location[47] + select_location[47] + select_location[47] + select_location[47] + select_location[47] + select_location[47] + select_location[47] + select_location[47] + select_location[47] + select_location[47] + select_location[47] + select_location[47] + select_location[47] + select_location[47] + select_location[47] + select_location[48] + select_location[48] + select_location[48] + select_location[48] + select_location[48] + select_location[48] + select_location[48] + select_location[48] + select_location[48] + select_location[48] + select_location[48] + select_location[48] + select_location[48] + select_location[48] + select_location[48] + select_location[48] + select_location[48] + select_location[48] + select_location[48] + select_location[48] + select_location[48] + select_location[48] + select_location[48] + select_location[48] + select_location[48] + select_location[48] + select_location[48] + select_location[48] + select_location[48] + select_location[48] + select_location[48] + select_location[48] + select_location[48] + select_location[48] + select_location[48] + select_location[48] + select_location[48] + select_location[48] + select_location[48] + select_location[48] + select_location[48] + select_location[48] + select_location[48] + select_location[48] + select_location[48] + select_location[48] + select_location[49] + select_location[49] + select_location[49] + select_location[49] + select_location[49] + select_location[49] + select_location[49] + select_location[49] + select_location[49] + select_location[49] + select_location[49] + select_location[49] + select_location[49] + select_location[49] + select_location[49] + select_location[49] + select_location[49] + select_location[49] + select_location[49] + select_location[49] + select_location[49] + select_location[49] + select_location[49] + select_location[49] + select_location[49] + select_location[49] + select_location[49] + select_location[49] + select_location[49] + select_location[49] + select_location[49] + select_location[49] + select_location[49] + select_location[49] + select_location[49] + select_location[49] + select_location[49] + select_location[49] + select_location[49] + select_location[49] + select_location[49] + select_location[49] + select_location[49] + select_location[49] + select_location[49]\n",
            "\n",
            "1 Constraint Declarations\n",
            "    covering_constraints : Size=50, Index=covering_constraints_index, Active=True\n",
            "        Key : Lower : Body                                                                                                                                                                                                : Upper : Active\n",
            "          1 :  -Inf :                                                                       select_location[0] + select_location[1] + select_location[2] + select_location[4] + select_location[24] + select_location[46] :   1.0 :   True\n",
            "          2 :  -Inf :                                                                                           select_location[0] + select_location[1] + select_location[15] + select_location[23] + select_location[25] :   1.0 :   True\n",
            "          3 :  -Inf :                                                                                                                   select_location[0] + select_location[2] + select_location[3] + select_location[4] :   1.0 :   True\n",
            "          4 :  -Inf :                                                                                                                                        select_location[2] + select_location[3] + select_location[4] :   1.0 :   True\n",
            "          5 :  -Inf :                                                                                                                   select_location[0] + select_location[2] + select_location[3] + select_location[4] :   1.0 :   True\n",
            "          6 :  -Inf :                                                                                          select_location[5] + select_location[21] + select_location[22] + select_location[31] + select_location[38] :   1.0 :   True\n",
            "          7 :  -Inf :                                                                                                                   select_location[6] + select_location[7] + select_location[8] + select_location[9] :   1.0 :   True\n",
            "          8 :  -Inf :                                                                                                                   select_location[6] + select_location[7] + select_location[8] + select_location[9] :   1.0 :   True\n",
            "          9 :  -Inf :                                                                                            select_location[6] + select_location[7] + select_location[8] + select_location[25] + select_location[28] :   1.0 :   True\n",
            "         10 :  -Inf :                                                                                                                  select_location[6] + select_location[7] + select_location[9] + select_location[20] :   1.0 :   True\n",
            "         11 :  -Inf :                                                                   select_location[10] + select_location[11] + select_location[12] + select_location[21] + select_location[32] + select_location[45] :   1.0 :   True\n",
            "         12 :  -Inf : select_location[10] + select_location[11] + select_location[12] + select_location[14] + select_location[16] + select_location[17] + select_location[25] + select_location[26] + select_location[46] :   1.0 :   True\n",
            "         13 :  -Inf :                                                                                         select_location[10] + select_location[11] + select_location[12] + select_location[13] + select_location[14] :   1.0 :   True\n",
            "         14 :  -Inf :                                                                                                                                     select_location[12] + select_location[13] + select_location[14] :   1.0 :   True\n",
            "         15 :  -Inf :                                                                                                               select_location[11] + select_location[12] + select_location[13] + select_location[14] :   1.0 :   True\n",
            "         16 :  -Inf :                                              select_location[1] + select_location[15] + select_location[18] + select_location[25] + select_location[26] + select_location[41] + select_location[47] :   1.0 :   True\n",
            "         17 :  -Inf :                                                                                         select_location[11] + select_location[16] + select_location[18] + select_location[19] + select_location[21] :   1.0 :   True\n",
            "         18 :  -Inf :                                                                                                                                     select_location[11] + select_location[17] + select_location[19] :   1.0 :   True\n",
            "         19 :  -Inf :                                                                                         select_location[15] + select_location[16] + select_location[18] + select_location[30] + select_location[35] :   1.0 :   True\n",
            "         20 :  -Inf :                                                                                         select_location[16] + select_location[17] + select_location[19] + select_location[25] + select_location[31] :   1.0 :   True\n",
            "         21 :  -Inf :                                                                                          select_location[9] + select_location[20] + select_location[21] + select_location[24] + select_location[43] :   1.0 :   True\n",
            "         22 :  -Inf :                        select_location[5] + select_location[10] + select_location[16] + select_location[20] + select_location[21] + select_location[23] + select_location[24] + select_location[41] :   1.0 :   True\n",
            "         23 :  -Inf :                                                                                          select_location[5] + select_location[22] + select_location[23] + select_location[24] + select_location[37] :   1.0 :   True\n",
            "         24 :  -Inf :                                                                                          select_location[1] + select_location[21] + select_location[22] + select_location[23] + select_location[24] :   1.0 :   True\n",
            "         25 :  -Inf :  select_location[0] + select_location[20] + select_location[21] + select_location[22] + select_location[23] + select_location[24] + select_location[30] + select_location[37] + select_location[46] :   1.0 :   True\n",
            "         26 :  -Inf :                                               select_location[1] + select_location[8] + select_location[11] + select_location[15] + select_location[19] + select_location[25] + select_location[27] :   1.0 :   True\n",
            "         27 :  -Inf :                                                                                         select_location[11] + select_location[15] + select_location[26] + select_location[28] + select_location[29] :   1.0 :   True\n",
            "         28 :  -Inf :                                                                                                               select_location[25] + select_location[27] + select_location[28] + select_location[29] :   1.0 :   True\n",
            "         29 :  -Inf :                                                                                                                select_location[8] + select_location[26] + select_location[27] + select_location[28] :   1.0 :   True\n",
            "         30 :  -Inf :                                                                                                                                     select_location[26] + select_location[27] + select_location[29] :   1.0 :   True\n",
            "         31 :  -Inf :                                                                                         select_location[18] + select_location[24] + select_location[30] + select_location[31] + select_location[40] :   1.0 :   True\n",
            "         32 :  -Inf :                                                                    select_location[5] + select_location[19] + select_location[30] + select_location[31] + select_location[32] + select_location[33] :   1.0 :   True\n",
            "         33 :  -Inf :                                                                                         select_location[10] + select_location[31] + select_location[32] + select_location[33] + select_location[34] :   1.0 :   True\n",
            "         34 :  -Inf :                                                                                                               select_location[31] + select_location[32] + select_location[33] + select_location[34] :   1.0 :   True\n",
            "         35 :  -Inf :                                                                                                                                     select_location[32] + select_location[33] + select_location[34] :   1.0 :   True\n",
            "         36 :  -Inf :                                                                   select_location[18] + select_location[35] + select_location[36] + select_location[37] + select_location[38] + select_location[39] :   1.0 :   True\n",
            "         37 :  -Inf :                                                                                         select_location[35] + select_location[36] + select_location[37] + select_location[38] + select_location[39] :   1.0 :   True\n",
            "         38 :  -Inf :                                                                                         select_location[22] + select_location[24] + select_location[35] + select_location[36] + select_location[37] :   1.0 :   True\n",
            "         39 :  -Inf :                                                                                          select_location[5] + select_location[35] + select_location[36] + select_location[38] + select_location[39] :   1.0 :   True\n",
            "         40 :  -Inf :                                                                                                               select_location[35] + select_location[36] + select_location[38] + select_location[39] :   1.0 :   True\n",
            "         41 :  -Inf :                                                                   select_location[30] + select_location[40] + select_location[41] + select_location[42] + select_location[43] + select_location[44] :   1.0 :   True\n",
            "         42 :  -Inf :                                                                   select_location[15] + select_location[21] + select_location[40] + select_location[41] + select_location[42] + select_location[47] :   1.0 :   True\n",
            "         43 :  -Inf :                                                                                         select_location[40] + select_location[41] + select_location[42] + select_location[43] + select_location[44] :   1.0 :   True\n",
            "         44 :  -Inf :                                                                                         select_location[20] + select_location[40] + select_location[42] + select_location[43] + select_location[44] :   1.0 :   True\n",
            "         45 :  -Inf :                                                                                                               select_location[40] + select_location[42] + select_location[43] + select_location[44] :   1.0 :   True\n",
            "         46 :  -Inf :                                                                                         select_location[10] + select_location[45] + select_location[46] + select_location[48] + select_location[49] :   1.0 :   True\n",
            "         47 :  -Inf :                                                                    select_location[0] + select_location[11] + select_location[24] + select_location[45] + select_location[46] + select_location[49] :   1.0 :   True\n",
            "         48 :  -Inf :                                                                                         select_location[15] + select_location[41] + select_location[47] + select_location[48] + select_location[49] :   1.0 :   True\n",
            "         49 :  -Inf :                                                                                                               select_location[45] + select_location[47] + select_location[48] + select_location[49] :   1.0 :   True\n",
            "         50 :  -Inf :                                                                                         select_location[45] + select_location[46] + select_location[47] + select_location[48] + select_location[49] :   1.0 :   True\n",
            "\n",
            "5 Declarations: select_location_index select_location covering_constraints_index covering_constraints objective\n"
          ]
        }
      ]
    },
    {
      "cell_type": "code",
      "source": [
        "opt = SolverFactory('cbc')\n",
        "opt_success = opt.solve(model,tee=True,timelimit=60)"
      ],
      "metadata": {
        "colab": {
          "base_uri": "https://localhost:8080/"
        },
        "id": "1QelpZcRMSyl",
        "outputId": "1f15d070-3377-4c31-92a9-e2fb3d09d46f"
      },
      "execution_count": null,
      "outputs": [
        {
          "output_type": "stream",
          "name": "stdout",
          "text": [
            "Welcome to the CBC MILP Solver \n",
            "Version: 2.9.9 \n",
            "Build Date: Aug 21 2017 \n",
            "\n",
            "command line - /usr/bin/cbc -sec 60 -timeMode elapsed -printingOptions all -import /tmp/tmp_2d8t0fb.pyomo.lp -stat=1 -solve -solu /tmp/tmp_2d8t0fb.pyomo.soln (default strategy 1)\n",
            "seconds was changed from 1e+100 to 60\n",
            "Option for timeMode changed from cpu to elapsed\n",
            "Option for printingOptions changed from normal to all\n",
            " CoinLpIO::readLp(): Maximization problem reformulated as minimization\n",
            "Presolve 48 (-3) rows, 50 (-1) columns and 242 (-9) elements\n",
            "Statistics for presolved model\n",
            "Original problem has 50 integers (50 of which binary)\n",
            "Presolved problem has 50 integers (50 of which binary)\n",
            "==== 0 zero objective 7 different\n",
            "5 variables have objective of -47\n",
            "12 variables have objective of -46\n",
            "21 variables have objective of -45\n",
            "7 variables have objective of -44\n",
            "2 variables have objective of -43\n",
            "1 variables have objective of -42\n",
            "2 variables have objective of -41\n",
            "==== absolute objective values 7 different\n",
            "2 variables have objective of 41\n",
            "1 variables have objective of 42\n",
            "2 variables have objective of 43\n",
            "7 variables have objective of 44\n",
            "21 variables have objective of 45\n",
            "12 variables have objective of 46\n",
            "5 variables have objective of 47\n",
            "==== for integers 0 zero objective 7 different\n",
            "5 variables have objective of -47\n",
            "12 variables have objective of -46\n",
            "21 variables have objective of -45\n",
            "7 variables have objective of -44\n",
            "2 variables have objective of -43\n",
            "1 variables have objective of -42\n",
            "2 variables have objective of -41\n",
            "==== for integers absolute objective values 7 different\n",
            "2 variables have objective of 41\n",
            "1 variables have objective of 42\n",
            "2 variables have objective of 43\n",
            "7 variables have objective of 44\n",
            "21 variables have objective of 45\n",
            "12 variables have objective of 46\n",
            "5 variables have objective of 47\n",
            "===== end objective counts\n",
            "\n",
            "\n",
            "Problem has 48 rows, 50 columns (50 with objective) and 242 elements\n",
            "Column breakdown:\n",
            "0 of type 0.0->inf, 0 of type 0.0->up, 0 of type lo->inf, \n",
            "0 of type lo->up, 0 of type free, 0 of type fixed, \n",
            "0 of type -inf->0.0, 0 of type -inf->up, 50 of type 0.0->1.0 \n",
            "Row breakdown:\n",
            "0 of type E 0.0, 0 of type E 1.0, 0 of type E -1.0, \n",
            "0 of type E other, 0 of type G 0.0, 0 of type G 1.0, \n",
            "0 of type G other, 0 of type L 0.0, 48 of type L 1.0, \n",
            "0 of type L other, 0 of type Range 0.0->1.0, 0 of type Range other, \n",
            "0 of type Free \n",
            "Continuous objective value is -501.333 - 0.00 seconds\n",
            "Cgl0003I 0 fixed, 0 tightened bounds, 23 strengthened rows, 0 substitutions\n",
            "Cgl0003I 0 fixed, 0 tightened bounds, 12 strengthened rows, 0 substitutions\n",
            "Cgl0003I 0 fixed, 0 tightened bounds, 5 strengthened rows, 0 substitutions\n",
            "Cgl0003I 0 fixed, 0 tightened bounds, 2 strengthened rows, 0 substitutions\n",
            "Cgl0004I processed model has 35 rows, 48 columns (48 integer (48 of which binary)) and 203 elements\n",
            "Cutoff increment increased from 1e-05 to 0.9999\n",
            "Cbc0038I Initial state - 5 integers unsatisfied sum - 2.5\n",
            "Cbc0038I Solution found of -373\n",
            "Cbc0038I Before mini branch and bound, 43 integers at bound fixed and 0 continuous\n",
            "Cbc0038I Full problem 35 rows 48 columns, reduced to 5 rows 5 columns\n",
            "Cbc0038I Mini branch and bound improved solution from -373 to -464 (0.02 seconds)\n",
            "Cbc0038I Round again with cutoff of -467.1\n",
            "Cbc0038I Reduced cost fixing fixed 12 variables on major pass 2\n",
            "Cbc0038I Pass   1: suminf.    0.44564 (5) obj. -467.1 iterations 18\n",
            "Cbc0038I Pass   2: suminf.    0.44564 (5) obj. -467.1 iterations 5\n",
            "Cbc0038I Pass   3: suminf.    0.35226 (5) obj. -467.1 iterations 14\n",
            "Cbc0038I Pass   4: suminf.    0.35226 (5) obj. -467.1 iterations 1\n",
            "Cbc0038I Pass   5: suminf.    0.44564 (5) obj. -467.1 iterations 5\n",
            "Cbc0038I Pass   6: suminf.    0.44564 (5) obj. -467.1 iterations 1\n",
            "Cbc0038I Pass   7: suminf.    0.35226 (5) obj. -467.1 iterations 10\n",
            "Cbc0038I Pass   8: suminf.    0.35226 (5) obj. -467.1 iterations 5\n",
            "Cbc0038I Pass   9: suminf.    0.35226 (5) obj. -467.1 iterations 3\n",
            "Cbc0038I Pass  10: suminf.    0.44564 (5) obj. -467.1 iterations 4\n",
            "Cbc0038I Pass  11: suminf.    0.44564 (5) obj. -467.1 iterations 1\n",
            "Cbc0038I Pass  12: suminf.    0.35226 (5) obj. -467.1 iterations 10\n",
            "Cbc0038I Pass  13: suminf.    0.35226 (5) obj. -467.1 iterations 1\n",
            "Cbc0038I Pass  14: suminf.    0.63776 (7) obj. -467.1 iterations 2\n",
            "Cbc0038I Pass  15: suminf.    0.63776 (7) obj. -467.1 iterations 0\n",
            "Cbc0038I Pass  16: suminf.    0.44564 (5) obj. -467.1 iterations 9\n",
            "Cbc0038I Pass  17: suminf.    0.44564 (5) obj. -467.1 iterations 1\n",
            "Cbc0038I Pass  18: suminf.    0.35226 (5) obj. -467.1 iterations 10\n",
            "Cbc0038I Pass  19: suminf.    0.35226 (5) obj. -467.1 iterations 2\n",
            "Cbc0038I Pass  20: suminf.    0.35226 (5) obj. -467.1 iterations 2\n",
            "Cbc0038I Pass  21: suminf.    0.35226 (5) obj. -467.1 iterations 0\n",
            "Cbc0038I Pass  22: suminf.    0.44564 (5) obj. -467.1 iterations 4\n",
            "Cbc0038I Pass  23: suminf.    0.44564 (5) obj. -467.1 iterations 1\n",
            "Cbc0038I Pass  24: suminf.    0.35226 (5) obj. -467.1 iterations 7\n",
            "Cbc0038I Pass  25: suminf.    0.35226 (5) obj. -467.1 iterations 2\n",
            "Cbc0038I Pass  26: suminf.    0.35226 (5) obj. -467.1 iterations 1\n",
            "Cbc0038I Pass  27: suminf.    0.35226 (5) obj. -467.1 iterations 0\n",
            "Cbc0038I Pass  28: suminf.    0.44564 (5) obj. -467.1 iterations 11\n",
            "Cbc0038I Pass  29: suminf.    0.44564 (5) obj. -467.1 iterations 1\n",
            "Cbc0038I Pass  30: suminf.    0.35226 (5) obj. -467.1 iterations 10\n",
            "Cbc0038I No solution found this major pass\n",
            "Cbc0038I Before mini branch and bound, 38 integers at bound fixed and 0 continuous\n",
            "Cbc0038I Full problem 35 rows 48 columns, reduced to 9 rows 6 columns\n",
            "Cbc0038I Mini branch and bound did not improve solution (0.05 seconds)\n",
            "Cbc0038I After 0.05 seconds - Feasibility pump exiting with objective of -464 - took 0.02 seconds\n",
            "Cbc0012I Integer solution of -464 found by feasibility pump after 0 iterations and 0 nodes (0.05 seconds)\n",
            "Cbc0038I Full problem 35 rows 48 columns, reduced to 5 rows 5 columns\n",
            "Cbc0031I 1 added rows had average density of 15\n",
            "Cbc0013I At root node, 2 cuts changed objective from -486 to -464 in 1 passes\n",
            "Cbc0014I Cut generator 0 (Probing) - 0 row cuts average 0.0 elements, 0 column cuts (0 active)  in 0.000 seconds - new frequency is -100\n",
            "Cbc0014I Cut generator 1 (Gomory) - 1 row cuts average 15.0 elements, 0 column cuts (0 active)  in 0.000 seconds - new frequency is 1\n",
            "Cbc0014I Cut generator 2 (Knapsack) - 0 row cuts average 0.0 elements, 0 column cuts (0 active)  in 0.000 seconds - new frequency is -100\n",
            "Cbc0014I Cut generator 3 (Clique) - 0 row cuts average 0.0 elements, 0 column cuts (0 active)  in 0.000 seconds - new frequency is -100\n",
            "Cbc0014I Cut generator 4 (MixedIntegerRounding2) - 0 row cuts average 0.0 elements, 0 column cuts (0 active)  in 0.000 seconds - new frequency is -100\n",
            "Cbc0014I Cut generator 5 (FlowCover) - 0 row cuts average 0.0 elements, 0 column cuts (0 active)  in 0.000 seconds - new frequency is -100\n",
            "Cbc0014I Cut generator 6 (TwoMirCuts) - 1 row cuts average 15.0 elements, 0 column cuts (0 active)  in 0.000 seconds - new frequency is -100\n",
            "Cbc0001I Search completed - best objective -464, took 0 iterations and 0 nodes (0.06 seconds)\n",
            "Cbc0035I Maximum depth 0, 12 variables fixed on reduced cost\n",
            "Cuts at root node changed objective from -486 to -464\n",
            "Probing was tried 1 times and created 0 cuts of which 0 were active after adding rounds of cuts (0.000 seconds)\n",
            "Gomory was tried 1 times and created 1 cuts of which 0 were active after adding rounds of cuts (0.000 seconds)\n",
            "Knapsack was tried 1 times and created 0 cuts of which 0 were active after adding rounds of cuts (0.000 seconds)\n",
            "Clique was tried 1 times and created 0 cuts of which 0 were active after adding rounds of cuts (0.000 seconds)\n",
            "MixedIntegerRounding2 was tried 1 times and created 0 cuts of which 0 were active after adding rounds of cuts (0.000 seconds)\n",
            "FlowCover was tried 1 times and created 0 cuts of which 0 were active after adding rounds of cuts (0.000 seconds)\n",
            "TwoMirCuts was tried 1 times and created 1 cuts of which 0 were active after adding rounds of cuts (0.000 seconds)\n",
            "\n",
            "Result - Optimal solution found\n",
            "\n",
            "Objective value:                -464.00000000\n",
            "Enumerated nodes:               0\n",
            "Total iterations:               0\n",
            "Time (CPU seconds):             0.04\n",
            "Time (Wallclock seconds):       0.06\n",
            "\n",
            "Total time (CPU seconds):       0.04   (Wallclock seconds):       0.06\n",
            "\n"
          ]
        }
      ]
    },
    {
      "cell_type": "code",
      "source": [
        "count = 0    \n",
        "print(\"person to be targeted: \")\n",
        "for location in range(n_locations):\n",
        "  if value(model.select_location[location]) > 0:\n",
        "    print(\"\\t   \", location + 1)\n",
        "    count = count+1;\n",
        "print(\"Model objective: \", value(model.objective))"
      ],
      "metadata": {
        "id": "6ZKsicYJ-9bY",
        "colab": {
          "base_uri": "https://localhost:8080/"
        },
        "outputId": "f845dda9-9651-40d1-d68f-f84b1436219c"
      },
      "execution_count": null,
      "outputs": [
        {
          "output_type": "stream",
          "name": "stdout",
          "text": [
            "person to be targeted: \n",
            "\t    4\n",
            "\t    10\n",
            "\t    14\n",
            "\t    18\n",
            "\t    24\n",
            "\t    30\n",
            "\t    35\n",
            "\t    40\n",
            "\t    45\n",
            "\t    49\n",
            "Model objective:  464.0\n"
          ]
        }
      ]
    },
    {
      "cell_type": "code",
      "source": [
        "# display 3,9,13,17,23,29,34,39,44 and 48(These are indexes)\n",
        "for i in [3,9,13,17,23,29,34,39,44,48]:\n",
        "  for j in range(50):\n",
        "    if large_network_matrix[i,j] >0.9:\n",
        "      print(j)"
      ],
      "metadata": {
        "colab": {
          "base_uri": "https://localhost:8080/"
        },
        "id": "qDnQMYlUMgCd",
        "outputId": "bb1c7f9d-bdd8-4ea9-c9e4-92cfd5f09dfd"
      },
      "execution_count": null,
      "outputs": [
        {
          "output_type": "stream",
          "name": "stdout",
          "text": [
            "2\n",
            "3\n",
            "4\n",
            "6\n",
            "7\n",
            "9\n",
            "20\n",
            "12\n",
            "13\n",
            "14\n",
            "11\n",
            "17\n",
            "19\n",
            "1\n",
            "21\n",
            "22\n",
            "23\n",
            "24\n",
            "26\n",
            "27\n",
            "29\n",
            "32\n",
            "33\n",
            "34\n",
            "35\n",
            "36\n",
            "38\n",
            "39\n",
            "40\n",
            "42\n",
            "43\n",
            "44\n",
            "45\n",
            "47\n",
            "48\n",
            "49\n"
          ]
        }
      ]
    },
    {
      "cell_type": "markdown",
      "source": [
        "No two of which are connected to each other. Here for the 50 locations indexes are from 0 to 49. So from the above it can be said that the largest network , largest group consists of 36 locations,where no two are connected as : [2,3,4,6,7,9,20,12,13,14,11,17,19,1,21,22,23,24,26,27,29,32,33,34,35,36,38,39,40,42,43,44,45,47,48,49]"
      ],
      "metadata": {
        "id": "nqTs0fX_MWeT"
      }
    },
    {
      "cell_type": "markdown",
      "source": [
        "# 1 (D)"
      ],
      "metadata": {
        "id": "RSmIfgmtPzU-"
      }
    },
    {
      "cell_type": "markdown",
      "source": [
        "##Small network"
      ],
      "metadata": {
        "id": "A2w_JsfxNkPN"
      }
    },
    {
      "cell_type": "code",
      "source": [
        "n_locations = 20 # Define the matrix"
      ],
      "metadata": {
        "id": "hekQsQlIP1Fc"
      },
      "execution_count": null,
      "outputs": []
    },
    {
      "cell_type": "code",
      "source": [
        "model = ConcreteModel()\n",
        "\n",
        "model.select_cliques = Var( range(n_locations) , within = Binary )\n",
        "\n",
        "#Constraints\n",
        "model.covering_constraints = ConstraintList()\n",
        "\n",
        "for location in range(n_locations):\n",
        "  cover_expr = 0\n",
        "  for cover_location in range(n_locations):\n",
        "    if small_network_matrix[location,cover_location] > 0.9:\n",
        "      cover_expr += model.select_cliques[cover_location]\n",
        "  model.covering_constraints.add( cover_expr >= 1 )\n",
        "\n",
        "no_network_selected = 0\n",
        "for location in range(n_locations):\n",
        "  no_network_selected += model.select_cliques[location]\n",
        "\n",
        "# Define objective function\n",
        "model.objective = Objective(\n",
        "    expr = no_network_selected,\n",
        "    sense = minimize # manimize objective function\n",
        ")\n",
        "\n",
        "model.pprint()"
      ],
      "metadata": {
        "id": "2SNIqZkQP1r_",
        "colab": {
          "base_uri": "https://localhost:8080/"
        },
        "outputId": "0eea8ba9-6cb1-4a2f-a761-fae59769cd3c"
      },
      "execution_count": null,
      "outputs": [
        {
          "output_type": "stream",
          "name": "stdout",
          "text": [
            "2 Set Declarations\n",
            "    covering_constraints_index : Size=1, Index=None, Ordered=Insertion\n",
            "        Key  : Dimen : Domain : Size : Members\n",
            "        None :     1 :    Any :   20 : {1, 2, 3, 4, 5, 6, 7, 8, 9, 10, 11, 12, 13, 14, 15, 16, 17, 18, 19, 20}\n",
            "    select_cliques_index : Size=1, Index=None, Ordered=Insertion\n",
            "        Key  : Dimen : Domain : Size : Members\n",
            "        None :     1 :    Any :   20 : {0, 1, 2, 3, 4, 5, 6, 7, 8, 9, 10, 11, 12, 13, 14, 15, 16, 17, 18, 19}\n",
            "\n",
            "1 Var Declarations\n",
            "    select_cliques : Size=20, Index=select_cliques_index\n",
            "        Key : Lower : Value : Upper : Fixed : Stale : Domain\n",
            "          0 :     0 :  None :     1 : False :  True : Binary\n",
            "          1 :     0 :  None :     1 : False :  True : Binary\n",
            "          2 :     0 :  None :     1 : False :  True : Binary\n",
            "          3 :     0 :  None :     1 : False :  True : Binary\n",
            "          4 :     0 :  None :     1 : False :  True : Binary\n",
            "          5 :     0 :  None :     1 : False :  True : Binary\n",
            "          6 :     0 :  None :     1 : False :  True : Binary\n",
            "          7 :     0 :  None :     1 : False :  True : Binary\n",
            "          8 :     0 :  None :     1 : False :  True : Binary\n",
            "          9 :     0 :  None :     1 : False :  True : Binary\n",
            "         10 :     0 :  None :     1 : False :  True : Binary\n",
            "         11 :     0 :  None :     1 : False :  True : Binary\n",
            "         12 :     0 :  None :     1 : False :  True : Binary\n",
            "         13 :     0 :  None :     1 : False :  True : Binary\n",
            "         14 :     0 :  None :     1 : False :  True : Binary\n",
            "         15 :     0 :  None :     1 : False :  True : Binary\n",
            "         16 :     0 :  None :     1 : False :  True : Binary\n",
            "         17 :     0 :  None :     1 : False :  True : Binary\n",
            "         18 :     0 :  None :     1 : False :  True : Binary\n",
            "         19 :     0 :  None :     1 : False :  True : Binary\n",
            "\n",
            "1 Objective Declarations\n",
            "    objective : Size=1, Index=None, Active=True\n",
            "        Key  : Active : Sense    : Expression\n",
            "        None :   True : minimize : select_cliques[0] + select_cliques[1] + select_cliques[2] + select_cliques[3] + select_cliques[4] + select_cliques[5] + select_cliques[6] + select_cliques[7] + select_cliques[8] + select_cliques[9] + select_cliques[10] + select_cliques[11] + select_cliques[12] + select_cliques[13] + select_cliques[14] + select_cliques[15] + select_cliques[16] + select_cliques[17] + select_cliques[18] + select_cliques[19]\n",
            "\n",
            "1 Constraint Declarations\n",
            "    covering_constraints : Size=20, Index=covering_constraints_index, Active=True\n",
            "        Key : Lower : Body                                                                                                                    : Upper : Active\n",
            "          1 :   1.0 :                                           select_cliques[0] + select_cliques[1] + select_cliques[2] + select_cliques[8] :  +Inf :   True\n",
            "          2 :   1.0 :                                           select_cliques[0] + select_cliques[1] + select_cliques[2] + select_cliques[9] :  +Inf :   True\n",
            "          3 :   1.0 :                                           select_cliques[0] + select_cliques[1] + select_cliques[2] + select_cliques[3] :  +Inf :   True\n",
            "          4 :   1.0 :                                                              select_cliques[2] + select_cliques[3] + select_cliques[16] :  +Inf :   True\n",
            "          5 :   1.0 :                                           select_cliques[4] + select_cliques[5] + select_cliques[6] + select_cliques[9] :  +Inf :   True\n",
            "          6 :   1.0 :                                           select_cliques[4] + select_cliques[5] + select_cliques[6] + select_cliques[8] :  +Inf :   True\n",
            "          7 :   1.0 :                                           select_cliques[4] + select_cliques[5] + select_cliques[6] + select_cliques[7] :  +Inf :   True\n",
            "          8 :   1.0 :                                                               select_cliques[6] + select_cliques[7] + select_cliques[8] :  +Inf :   True\n",
            "          9 :   1.0 :  select_cliques[0] + select_cliques[5] + select_cliques[7] + select_cliques[8] + select_cliques[9] + select_cliques[11] :  +Inf :   True\n",
            "         10 :   1.0 : select_cliques[1] + select_cliques[4] + select_cliques[8] + select_cliques[9] + select_cliques[10] + select_cliques[11] :  +Inf :   True\n",
            "         11 :   1.0 :                                                             select_cliques[9] + select_cliques[10] + select_cliques[11] :  +Inf :   True\n",
            "         12 :   1.0 :                                         select_cliques[8] + select_cliques[9] + select_cliques[10] + select_cliques[11] :  +Inf :   True\n",
            "         13 :   1.0 :                  select_cliques[12] + select_cliques[13] + select_cliques[15] + select_cliques[17] + select_cliques[19] :  +Inf :   True\n",
            "         14 :   1.0 :                                       select_cliques[12] + select_cliques[13] + select_cliques[15] + select_cliques[17] :  +Inf :   True\n",
            "         15 :   1.0 :                                                                                 select_cliques[14] + select_cliques[15] :  +Inf :   True\n",
            "         16 :   1.0 :                                       select_cliques[12] + select_cliques[13] + select_cliques[14] + select_cliques[15] :  +Inf :   True\n",
            "         17 :   1.0 :                                        select_cliques[3] + select_cliques[16] + select_cliques[18] + select_cliques[19] :  +Inf :   True\n",
            "         18 :   1.0 :                                       select_cliques[12] + select_cliques[13] + select_cliques[17] + select_cliques[19] :  +Inf :   True\n",
            "         19 :   1.0 :                                                            select_cliques[16] + select_cliques[18] + select_cliques[19] :  +Inf :   True\n",
            "         20 :   1.0 :                  select_cliques[12] + select_cliques[16] + select_cliques[17] + select_cliques[18] + select_cliques[19] :  +Inf :   True\n",
            "\n",
            "5 Declarations: select_cliques_index select_cliques covering_constraints_index covering_constraints objective\n"
          ]
        }
      ]
    },
    {
      "cell_type": "code",
      "source": [
        "opt = SolverFactory('cbc')\n",
        "opt_success = opt.solve(model,tee=False,timelimit=60)"
      ],
      "metadata": {
        "id": "XJ_nXhbH_lW3"
      },
      "execution_count": null,
      "outputs": []
    },
    {
      "cell_type": "code",
      "source": [
        "print(\"Cliques selected: \")\n",
        "for location in range(n_locations):\n",
        "  if value(model.select_cliques[location]) > 0.9:\n",
        "    print(\"\\t\", location + 1)\n",
        "print(\"Model objective: \", value(model.objective))"
      ],
      "metadata": {
        "colab": {
          "base_uri": "https://localhost:8080/"
        },
        "id": "lKqtoshD_rEz",
        "outputId": "015d2a12-c455-4722-e4f7-11e9edc05151"
      },
      "execution_count": null,
      "outputs": [
        {
          "output_type": "stream",
          "name": "stdout",
          "text": [
            "Cliques selected: \n",
            "\t 3\n",
            "\t 7\n",
            "\t 12\n",
            "\t 16\n",
            "\t 20\n",
            "Model objective:  5.0\n"
          ]
        }
      ]
    },
    {
      "cell_type": "markdown",
      "source": [
        "Here total number of cliques of same size within the same network is 5"
      ],
      "metadata": {
        "id": "esxhiqDXhEhi"
      }
    },
    {
      "cell_type": "markdown",
      "source": [
        "##Large network"
      ],
      "metadata": {
        "id": "P4cqi43KNq_Y"
      }
    },
    {
      "cell_type": "code",
      "source": [
        "n_locations = 50 # Define array"
      ],
      "metadata": {
        "id": "NLMN6b7LNyzJ"
      },
      "execution_count": null,
      "outputs": []
    },
    {
      "cell_type": "code",
      "source": [
        "model = ConcreteModel()\n",
        "\n",
        "model.select_cliques = Var( range(n_locations) , within = Binary )\n",
        "\n",
        "#Constraints\n",
        "model.covering_constraints = ConstraintList()\n",
        "\n",
        "for location in range(n_locations):\n",
        "  cover_expr = 0\n",
        "  for cover_location in range(n_locations):\n",
        "    if large_network_matrix[location,cover_location] > 0.9:\n",
        "      cover_expr += model.select_cliques[cover_location]\n",
        "  model.covering_constraints.add( cover_expr >= 1 )\n",
        "\n",
        "no_network_selected = 0\n",
        "for location in range(n_locations):\n",
        "  no_network_selected += model.select_cliques[location]\n",
        "\n",
        "# Define objective function\n",
        "model.objective = Objective(\n",
        "    expr = no_network_selected,\n",
        "    sense = minimize #Minimize the function\n",
        ")\n",
        "\n",
        "model.pprint()"
      ],
      "metadata": {
        "colab": {
          "base_uri": "https://localhost:8080/"
        },
        "id": "JvGX7xGgN1el",
        "outputId": "cc132d3b-4b6b-40a4-e867-8a2c72b34779"
      },
      "execution_count": null,
      "outputs": [
        {
          "output_type": "stream",
          "name": "stdout",
          "text": [
            "2 Set Declarations\n",
            "    covering_constraints_index : Size=1, Index=None, Ordered=Insertion\n",
            "        Key  : Dimen : Domain : Size : Members\n",
            "        None :     1 :    Any :   50 : {1, 2, 3, 4, 5, 6, 7, 8, 9, 10, 11, 12, 13, 14, 15, 16, 17, 18, 19, 20, 21, 22, 23, 24, 25, 26, 27, 28, 29, 30, 31, 32, 33, 34, 35, 36, 37, 38, 39, 40, 41, 42, 43, 44, 45, 46, 47, 48, 49, 50}\n",
            "    select_cliques_index : Size=1, Index=None, Ordered=Insertion\n",
            "        Key  : Dimen : Domain : Size : Members\n",
            "        None :     1 :    Any :   50 : {0, 1, 2, 3, 4, 5, 6, 7, 8, 9, 10, 11, 12, 13, 14, 15, 16, 17, 18, 19, 20, 21, 22, 23, 24, 25, 26, 27, 28, 29, 30, 31, 32, 33, 34, 35, 36, 37, 38, 39, 40, 41, 42, 43, 44, 45, 46, 47, 48, 49}\n",
            "\n",
            "1 Var Declarations\n",
            "    select_cliques : Size=50, Index=select_cliques_index\n",
            "        Key : Lower : Value : Upper : Fixed : Stale : Domain\n",
            "          0 :     0 :  None :     1 : False :  True : Binary\n",
            "          1 :     0 :  None :     1 : False :  True : Binary\n",
            "          2 :     0 :  None :     1 : False :  True : Binary\n",
            "          3 :     0 :  None :     1 : False :  True : Binary\n",
            "          4 :     0 :  None :     1 : False :  True : Binary\n",
            "          5 :     0 :  None :     1 : False :  True : Binary\n",
            "          6 :     0 :  None :     1 : False :  True : Binary\n",
            "          7 :     0 :  None :     1 : False :  True : Binary\n",
            "          8 :     0 :  None :     1 : False :  True : Binary\n",
            "          9 :     0 :  None :     1 : False :  True : Binary\n",
            "         10 :     0 :  None :     1 : False :  True : Binary\n",
            "         11 :     0 :  None :     1 : False :  True : Binary\n",
            "         12 :     0 :  None :     1 : False :  True : Binary\n",
            "         13 :     0 :  None :     1 : False :  True : Binary\n",
            "         14 :     0 :  None :     1 : False :  True : Binary\n",
            "         15 :     0 :  None :     1 : False :  True : Binary\n",
            "         16 :     0 :  None :     1 : False :  True : Binary\n",
            "         17 :     0 :  None :     1 : False :  True : Binary\n",
            "         18 :     0 :  None :     1 : False :  True : Binary\n",
            "         19 :     0 :  None :     1 : False :  True : Binary\n",
            "         20 :     0 :  None :     1 : False :  True : Binary\n",
            "         21 :     0 :  None :     1 : False :  True : Binary\n",
            "         22 :     0 :  None :     1 : False :  True : Binary\n",
            "         23 :     0 :  None :     1 : False :  True : Binary\n",
            "         24 :     0 :  None :     1 : False :  True : Binary\n",
            "         25 :     0 :  None :     1 : False :  True : Binary\n",
            "         26 :     0 :  None :     1 : False :  True : Binary\n",
            "         27 :     0 :  None :     1 : False :  True : Binary\n",
            "         28 :     0 :  None :     1 : False :  True : Binary\n",
            "         29 :     0 :  None :     1 : False :  True : Binary\n",
            "         30 :     0 :  None :     1 : False :  True : Binary\n",
            "         31 :     0 :  None :     1 : False :  True : Binary\n",
            "         32 :     0 :  None :     1 : False :  True : Binary\n",
            "         33 :     0 :  None :     1 : False :  True : Binary\n",
            "         34 :     0 :  None :     1 : False :  True : Binary\n",
            "         35 :     0 :  None :     1 : False :  True : Binary\n",
            "         36 :     0 :  None :     1 : False :  True : Binary\n",
            "         37 :     0 :  None :     1 : False :  True : Binary\n",
            "         38 :     0 :  None :     1 : False :  True : Binary\n",
            "         39 :     0 :  None :     1 : False :  True : Binary\n",
            "         40 :     0 :  None :     1 : False :  True : Binary\n",
            "         41 :     0 :  None :     1 : False :  True : Binary\n",
            "         42 :     0 :  None :     1 : False :  True : Binary\n",
            "         43 :     0 :  None :     1 : False :  True : Binary\n",
            "         44 :     0 :  None :     1 : False :  True : Binary\n",
            "         45 :     0 :  None :     1 : False :  True : Binary\n",
            "         46 :     0 :  None :     1 : False :  True : Binary\n",
            "         47 :     0 :  None :     1 : False :  True : Binary\n",
            "         48 :     0 :  None :     1 : False :  True : Binary\n",
            "         49 :     0 :  None :     1 : False :  True : Binary\n",
            "\n",
            "1 Objective Declarations\n",
            "    objective : Size=1, Index=None, Active=True\n",
            "        Key  : Active : Sense    : Expression\n",
            "        None :   True : minimize : select_cliques[0] + select_cliques[1] + select_cliques[2] + select_cliques[3] + select_cliques[4] + select_cliques[5] + select_cliques[6] + select_cliques[7] + select_cliques[8] + select_cliques[9] + select_cliques[10] + select_cliques[11] + select_cliques[12] + select_cliques[13] + select_cliques[14] + select_cliques[15] + select_cliques[16] + select_cliques[17] + select_cliques[18] + select_cliques[19] + select_cliques[20] + select_cliques[21] + select_cliques[22] + select_cliques[23] + select_cliques[24] + select_cliques[25] + select_cliques[26] + select_cliques[27] + select_cliques[28] + select_cliques[29] + select_cliques[30] + select_cliques[31] + select_cliques[32] + select_cliques[33] + select_cliques[34] + select_cliques[35] + select_cliques[36] + select_cliques[37] + select_cliques[38] + select_cliques[39] + select_cliques[40] + select_cliques[41] + select_cliques[42] + select_cliques[43] + select_cliques[44] + select_cliques[45] + select_cliques[46] + select_cliques[47] + select_cliques[48] + select_cliques[49]\n",
            "\n",
            "1 Constraint Declarations\n",
            "    covering_constraints : Size=50, Index=covering_constraints_index, Active=True\n",
            "        Key : Lower : Body                                                                                                                                                                                       : Upper : Active\n",
            "          1 :   1.0 :                                                                    select_cliques[0] + select_cliques[1] + select_cliques[2] + select_cliques[4] + select_cliques[24] + select_cliques[46] :  +Inf :   True\n",
            "          2 :   1.0 :                                                                                       select_cliques[0] + select_cliques[1] + select_cliques[15] + select_cliques[23] + select_cliques[25] :  +Inf :   True\n",
            "          3 :   1.0 :                                                                                                              select_cliques[0] + select_cliques[2] + select_cliques[3] + select_cliques[4] :  +Inf :   True\n",
            "          4 :   1.0 :                                                                                                                                  select_cliques[2] + select_cliques[3] + select_cliques[4] :  +Inf :   True\n",
            "          5 :   1.0 :                                                                                                              select_cliques[0] + select_cliques[2] + select_cliques[3] + select_cliques[4] :  +Inf :   True\n",
            "          6 :   1.0 :                                                                                      select_cliques[5] + select_cliques[21] + select_cliques[22] + select_cliques[31] + select_cliques[38] :  +Inf :   True\n",
            "          7 :   1.0 :                                                                                                              select_cliques[6] + select_cliques[7] + select_cliques[8] + select_cliques[9] :  +Inf :   True\n",
            "          8 :   1.0 :                                                                                                              select_cliques[6] + select_cliques[7] + select_cliques[8] + select_cliques[9] :  +Inf :   True\n",
            "          9 :   1.0 :                                                                                        select_cliques[6] + select_cliques[7] + select_cliques[8] + select_cliques[25] + select_cliques[28] :  +Inf :   True\n",
            "         10 :   1.0 :                                                                                                             select_cliques[6] + select_cliques[7] + select_cliques[9] + select_cliques[20] :  +Inf :   True\n",
            "         11 :   1.0 :                                                                select_cliques[10] + select_cliques[11] + select_cliques[12] + select_cliques[21] + select_cliques[32] + select_cliques[45] :  +Inf :   True\n",
            "         12 :   1.0 : select_cliques[10] + select_cliques[11] + select_cliques[12] + select_cliques[14] + select_cliques[16] + select_cliques[17] + select_cliques[25] + select_cliques[26] + select_cliques[46] :  +Inf :   True\n",
            "         13 :   1.0 :                                                                                     select_cliques[10] + select_cliques[11] + select_cliques[12] + select_cliques[13] + select_cliques[14] :  +Inf :   True\n",
            "         14 :   1.0 :                                                                                                                               select_cliques[12] + select_cliques[13] + select_cliques[14] :  +Inf :   True\n",
            "         15 :   1.0 :                                                                                                          select_cliques[11] + select_cliques[12] + select_cliques[13] + select_cliques[14] :  +Inf :   True\n",
            "         16 :   1.0 :                                            select_cliques[1] + select_cliques[15] + select_cliques[18] + select_cliques[25] + select_cliques[26] + select_cliques[41] + select_cliques[47] :  +Inf :   True\n",
            "         17 :   1.0 :                                                                                     select_cliques[11] + select_cliques[16] + select_cliques[18] + select_cliques[19] + select_cliques[21] :  +Inf :   True\n",
            "         18 :   1.0 :                                                                                                                               select_cliques[11] + select_cliques[17] + select_cliques[19] :  +Inf :   True\n",
            "         19 :   1.0 :                                                                                     select_cliques[15] + select_cliques[16] + select_cliques[18] + select_cliques[30] + select_cliques[35] :  +Inf :   True\n",
            "         20 :   1.0 :                                                                                     select_cliques[16] + select_cliques[17] + select_cliques[19] + select_cliques[25] + select_cliques[31] :  +Inf :   True\n",
            "         21 :   1.0 :                                                                                      select_cliques[9] + select_cliques[20] + select_cliques[21] + select_cliques[24] + select_cliques[43] :  +Inf :   True\n",
            "         22 :   1.0 :                       select_cliques[5] + select_cliques[10] + select_cliques[16] + select_cliques[20] + select_cliques[21] + select_cliques[23] + select_cliques[24] + select_cliques[41] :  +Inf :   True\n",
            "         23 :   1.0 :                                                                                      select_cliques[5] + select_cliques[22] + select_cliques[23] + select_cliques[24] + select_cliques[37] :  +Inf :   True\n",
            "         24 :   1.0 :                                                                                      select_cliques[1] + select_cliques[21] + select_cliques[22] + select_cliques[23] + select_cliques[24] :  +Inf :   True\n",
            "         25 :   1.0 :  select_cliques[0] + select_cliques[20] + select_cliques[21] + select_cliques[22] + select_cliques[23] + select_cliques[24] + select_cliques[30] + select_cliques[37] + select_cliques[46] :  +Inf :   True\n",
            "         26 :   1.0 :                                             select_cliques[1] + select_cliques[8] + select_cliques[11] + select_cliques[15] + select_cliques[19] + select_cliques[25] + select_cliques[27] :  +Inf :   True\n",
            "         27 :   1.0 :                                                                                     select_cliques[11] + select_cliques[15] + select_cliques[26] + select_cliques[28] + select_cliques[29] :  +Inf :   True\n",
            "         28 :   1.0 :                                                                                                          select_cliques[25] + select_cliques[27] + select_cliques[28] + select_cliques[29] :  +Inf :   True\n",
            "         29 :   1.0 :                                                                                                           select_cliques[8] + select_cliques[26] + select_cliques[27] + select_cliques[28] :  +Inf :   True\n",
            "         30 :   1.0 :                                                                                                                               select_cliques[26] + select_cliques[27] + select_cliques[29] :  +Inf :   True\n",
            "         31 :   1.0 :                                                                                     select_cliques[18] + select_cliques[24] + select_cliques[30] + select_cliques[31] + select_cliques[40] :  +Inf :   True\n",
            "         32 :   1.0 :                                                                 select_cliques[5] + select_cliques[19] + select_cliques[30] + select_cliques[31] + select_cliques[32] + select_cliques[33] :  +Inf :   True\n",
            "         33 :   1.0 :                                                                                     select_cliques[10] + select_cliques[31] + select_cliques[32] + select_cliques[33] + select_cliques[34] :  +Inf :   True\n",
            "         34 :   1.0 :                                                                                                          select_cliques[31] + select_cliques[32] + select_cliques[33] + select_cliques[34] :  +Inf :   True\n",
            "         35 :   1.0 :                                                                                                                               select_cliques[32] + select_cliques[33] + select_cliques[34] :  +Inf :   True\n",
            "         36 :   1.0 :                                                                select_cliques[18] + select_cliques[35] + select_cliques[36] + select_cliques[37] + select_cliques[38] + select_cliques[39] :  +Inf :   True\n",
            "         37 :   1.0 :                                                                                     select_cliques[35] + select_cliques[36] + select_cliques[37] + select_cliques[38] + select_cliques[39] :  +Inf :   True\n",
            "         38 :   1.0 :                                                                                     select_cliques[22] + select_cliques[24] + select_cliques[35] + select_cliques[36] + select_cliques[37] :  +Inf :   True\n",
            "         39 :   1.0 :                                                                                      select_cliques[5] + select_cliques[35] + select_cliques[36] + select_cliques[38] + select_cliques[39] :  +Inf :   True\n",
            "         40 :   1.0 :                                                                                                          select_cliques[35] + select_cliques[36] + select_cliques[38] + select_cliques[39] :  +Inf :   True\n",
            "         41 :   1.0 :                                                                select_cliques[30] + select_cliques[40] + select_cliques[41] + select_cliques[42] + select_cliques[43] + select_cliques[44] :  +Inf :   True\n",
            "         42 :   1.0 :                                                                select_cliques[15] + select_cliques[21] + select_cliques[40] + select_cliques[41] + select_cliques[42] + select_cliques[47] :  +Inf :   True\n",
            "         43 :   1.0 :                                                                                     select_cliques[40] + select_cliques[41] + select_cliques[42] + select_cliques[43] + select_cliques[44] :  +Inf :   True\n",
            "         44 :   1.0 :                                                                                     select_cliques[20] + select_cliques[40] + select_cliques[42] + select_cliques[43] + select_cliques[44] :  +Inf :   True\n",
            "         45 :   1.0 :                                                                                                          select_cliques[40] + select_cliques[42] + select_cliques[43] + select_cliques[44] :  +Inf :   True\n",
            "         46 :   1.0 :                                                                                     select_cliques[10] + select_cliques[45] + select_cliques[46] + select_cliques[48] + select_cliques[49] :  +Inf :   True\n",
            "         47 :   1.0 :                                                                 select_cliques[0] + select_cliques[11] + select_cliques[24] + select_cliques[45] + select_cliques[46] + select_cliques[49] :  +Inf :   True\n",
            "         48 :   1.0 :                                                                                     select_cliques[15] + select_cliques[41] + select_cliques[47] + select_cliques[48] + select_cliques[49] :  +Inf :   True\n",
            "         49 :   1.0 :                                                                                                          select_cliques[45] + select_cliques[47] + select_cliques[48] + select_cliques[49] :  +Inf :   True\n",
            "         50 :   1.0 :                                                                                     select_cliques[45] + select_cliques[46] + select_cliques[47] + select_cliques[48] + select_cliques[49] :  +Inf :   True\n",
            "\n",
            "5 Declarations: select_cliques_index select_cliques covering_constraints_index covering_constraints objective\n"
          ]
        }
      ]
    },
    {
      "cell_type": "code",
      "source": [
        "opt = SolverFactory('cbc')\n",
        "opt_success = opt.solve(model,tee=False,timelimit=60)"
      ],
      "metadata": {
        "id": "6yw00sy6OSh4"
      },
      "execution_count": null,
      "outputs": []
    },
    {
      "cell_type": "code",
      "source": [
        "print(\"Cliques selected: \")\n",
        "for location in range(n_locations):\n",
        "  if value(model.select_cliques[location]) > 0.9:\n",
        "    print(\"\\t\", location + 1)\n",
        "print(\"Model objective: \", value(model.objective))"
      ],
      "metadata": {
        "colab": {
          "base_uri": "https://localhost:8080/"
        },
        "id": "D9HoXlODOYVR",
        "outputId": "1d835208-34fe-42fb-f7db-c7b58d58996b"
      },
      "execution_count": null,
      "outputs": [
        {
          "output_type": "stream",
          "name": "stdout",
          "text": [
            "Cliques selected: \n",
            "\t 5\n",
            "\t 8\n",
            "\t 13\n",
            "\t 16\n",
            "\t 20\n",
            "\t 25\n",
            "\t 28\n",
            "\t 35\n",
            "\t 39\n",
            "\t 44\n",
            "\t 46\n",
            "Model objective:  11.0\n"
          ]
        }
      ]
    },
    {
      "cell_type": "markdown",
      "source": [
        "Total number of cliques of same size within large network is 11"
      ],
      "metadata": {
        "id": "pqsRjOKyh19z"
      }
    },
    {
      "cell_type": "markdown",
      "source": [
        "# 2 (A)"
      ],
      "metadata": {
        "id": "WW0KI-S0UbFK"
      }
    },
    {
      "cell_type": "code",
      "source": [
        "# import modules\n",
        "\n",
        "%matplotlib inline\n",
        "from pylab import *\n",
        "\n",
        "import shutil\n",
        "import sys\n",
        "import os.path\n",
        "\n",
        "if not shutil.which(\"pyomo\"):\n",
        "    !pip install -q pyomo\n",
        "    assert(shutil.which(\"pyomo\"))\n",
        "\n",
        "if not (shutil.which(\"ipopt\") or os.path.isfile(\"ipopt\")):\n",
        "    if \"google.colab\" in sys.modules:\n",
        "        !wget -N -q \"https://ampl.com/dl/open/ipopt/ipopt-linux64.zip\"\n",
        "        !unzip -o -q ipopt-linux64\n",
        "        #!apt-get install -y -qq glpk-utils\n",
        "    else:\n",
        "        try:\n",
        "            !conda install -c conda-forge ipopt\n",
        "        except:\n",
        "            pass\n",
        "\n",
        "assert(shutil.which(\"ipopt\") or os.path.isfile(\"ipopt\"))\n",
        "\n",
        "from pyomo.environ import *"
      ],
      "metadata": {
        "id": "ZeH2QbPXjB70"
      },
      "execution_count": null,
      "outputs": []
    },
    {
      "cell_type": "markdown",
      "source": [
        "##Small network"
      ],
      "metadata": {
        "id": "nm4d60u9dQLD"
      }
    },
    {
      "cell_type": "code",
      "source": [
        "#Number of indexes in small network\n",
        "small = small_network_matrix.shape[0]"
      ],
      "metadata": {
        "id": "xZ6_4aMFcdi7"
      },
      "execution_count": null,
      "outputs": []
    },
    {
      "cell_type": "code",
      "source": [
        "# define concrete model\n",
        "model = ConcreteModel()\n",
        "model.select_peopleindex = Var( range(small), within = Binary)"
      ],
      "metadata": {
        "id": "6KxAqfITeFzc"
      },
      "execution_count": null,
      "outputs": []
    },
    {
      "cell_type": "code",
      "source": [
        "# Constraints\n",
        "model.covering_constraints = ConstraintList()\n",
        "for people in range(small):\n",
        "  cover_expr = 0\n",
        "  for cover_connection in range(small):\n",
        "    if small_network_matrix [people, cover_connection] > 0.9:\n",
        "      cover_expr += model.select_peopleindex[cover_connection]\n",
        "  model.covering_constraints.add( cover_expr >= 1 )\n",
        "freetrails = 0\n",
        "for people in range(small):\n",
        "  freetrails += model.select_peopleindex[people]\n",
        "\n",
        "# Define objective function\n",
        "model.objective = Objective(\n",
        "  expr = freetrails,\n",
        "  sense = minimize\n",
        ")"
      ],
      "metadata": {
        "id": "owhYPLl4cdmJ"
      },
      "execution_count": null,
      "outputs": []
    },
    {
      "cell_type": "code",
      "source": [
        "# print model\n",
        "model.pprint()"
      ],
      "metadata": {
        "colab": {
          "base_uri": "https://localhost:8080/"
        },
        "id": "_VCgb2YMd74k",
        "outputId": "2372517d-65bd-4e4b-d4a0-458fdec365a9"
      },
      "execution_count": null,
      "outputs": [
        {
          "output_type": "stream",
          "name": "stdout",
          "text": [
            "2 Set Declarations\n",
            "    covering_constraints_index : Size=1, Index=None, Ordered=Insertion\n",
            "        Key  : Dimen : Domain : Size : Members\n",
            "        None :     1 :    Any :   20 : {1, 2, 3, 4, 5, 6, 7, 8, 9, 10, 11, 12, 13, 14, 15, 16, 17, 18, 19, 20}\n",
            "    select_peopleindex_index : Size=1, Index=None, Ordered=Insertion\n",
            "        Key  : Dimen : Domain : Size : Members\n",
            "        None :     1 :    Any :   20 : {0, 1, 2, 3, 4, 5, 6, 7, 8, 9, 10, 11, 12, 13, 14, 15, 16, 17, 18, 19}\n",
            "\n",
            "1 Var Declarations\n",
            "    select_peopleindex : Size=20, Index=select_peopleindex_index\n",
            "        Key : Lower : Value : Upper : Fixed : Stale : Domain\n",
            "          0 :     0 :  None :     1 : False :  True : Binary\n",
            "          1 :     0 :  None :     1 : False :  True : Binary\n",
            "          2 :     0 :  None :     1 : False :  True : Binary\n",
            "          3 :     0 :  None :     1 : False :  True : Binary\n",
            "          4 :     0 :  None :     1 : False :  True : Binary\n",
            "          5 :     0 :  None :     1 : False :  True : Binary\n",
            "          6 :     0 :  None :     1 : False :  True : Binary\n",
            "          7 :     0 :  None :     1 : False :  True : Binary\n",
            "          8 :     0 :  None :     1 : False :  True : Binary\n",
            "          9 :     0 :  None :     1 : False :  True : Binary\n",
            "         10 :     0 :  None :     1 : False :  True : Binary\n",
            "         11 :     0 :  None :     1 : False :  True : Binary\n",
            "         12 :     0 :  None :     1 : False :  True : Binary\n",
            "         13 :     0 :  None :     1 : False :  True : Binary\n",
            "         14 :     0 :  None :     1 : False :  True : Binary\n",
            "         15 :     0 :  None :     1 : False :  True : Binary\n",
            "         16 :     0 :  None :     1 : False :  True : Binary\n",
            "         17 :     0 :  None :     1 : False :  True : Binary\n",
            "         18 :     0 :  None :     1 : False :  True : Binary\n",
            "         19 :     0 :  None :     1 : False :  True : Binary\n",
            "\n",
            "1 Objective Declarations\n",
            "    objective : Size=1, Index=None, Active=True\n",
            "        Key  : Active : Sense    : Expression\n",
            "        None :   True : minimize : select_peopleindex[0] + select_peopleindex[1] + select_peopleindex[2] + select_peopleindex[3] + select_peopleindex[4] + select_peopleindex[5] + select_peopleindex[6] + select_peopleindex[7] + select_peopleindex[8] + select_peopleindex[9] + select_peopleindex[10] + select_peopleindex[11] + select_peopleindex[12] + select_peopleindex[13] + select_peopleindex[14] + select_peopleindex[15] + select_peopleindex[16] + select_peopleindex[17] + select_peopleindex[18] + select_peopleindex[19]\n",
            "\n",
            "1 Constraint Declarations\n",
            "    covering_constraints : Size=20, Index=covering_constraints_index, Active=True\n",
            "        Key : Lower : Body                                                                                                                                            : Upper : Active\n",
            "          1 :   1.0 :                                                   select_peopleindex[0] + select_peopleindex[1] + select_peopleindex[2] + select_peopleindex[8] :  +Inf :   True\n",
            "          2 :   1.0 :                                                   select_peopleindex[0] + select_peopleindex[1] + select_peopleindex[2] + select_peopleindex[9] :  +Inf :   True\n",
            "          3 :   1.0 :                                                   select_peopleindex[0] + select_peopleindex[1] + select_peopleindex[2] + select_peopleindex[3] :  +Inf :   True\n",
            "          4 :   1.0 :                                                                          select_peopleindex[2] + select_peopleindex[3] + select_peopleindex[16] :  +Inf :   True\n",
            "          5 :   1.0 :                                                   select_peopleindex[4] + select_peopleindex[5] + select_peopleindex[6] + select_peopleindex[9] :  +Inf :   True\n",
            "          6 :   1.0 :                                                   select_peopleindex[4] + select_peopleindex[5] + select_peopleindex[6] + select_peopleindex[8] :  +Inf :   True\n",
            "          7 :   1.0 :                                                   select_peopleindex[4] + select_peopleindex[5] + select_peopleindex[6] + select_peopleindex[7] :  +Inf :   True\n",
            "          8 :   1.0 :                                                                           select_peopleindex[6] + select_peopleindex[7] + select_peopleindex[8] :  +Inf :   True\n",
            "          9 :   1.0 :  select_peopleindex[0] + select_peopleindex[5] + select_peopleindex[7] + select_peopleindex[8] + select_peopleindex[9] + select_peopleindex[11] :  +Inf :   True\n",
            "         10 :   1.0 : select_peopleindex[1] + select_peopleindex[4] + select_peopleindex[8] + select_peopleindex[9] + select_peopleindex[10] + select_peopleindex[11] :  +Inf :   True\n",
            "         11 :   1.0 :                                                                         select_peopleindex[9] + select_peopleindex[10] + select_peopleindex[11] :  +Inf :   True\n",
            "         12 :   1.0 :                                                 select_peopleindex[8] + select_peopleindex[9] + select_peopleindex[10] + select_peopleindex[11] :  +Inf :   True\n",
            "         13 :   1.0 :                      select_peopleindex[12] + select_peopleindex[13] + select_peopleindex[15] + select_peopleindex[17] + select_peopleindex[19] :  +Inf :   True\n",
            "         14 :   1.0 :                                               select_peopleindex[12] + select_peopleindex[13] + select_peopleindex[15] + select_peopleindex[17] :  +Inf :   True\n",
            "         15 :   1.0 :                                                                                                 select_peopleindex[14] + select_peopleindex[15] :  +Inf :   True\n",
            "         16 :   1.0 :                                               select_peopleindex[12] + select_peopleindex[13] + select_peopleindex[14] + select_peopleindex[15] :  +Inf :   True\n",
            "         17 :   1.0 :                                                select_peopleindex[3] + select_peopleindex[16] + select_peopleindex[18] + select_peopleindex[19] :  +Inf :   True\n",
            "         18 :   1.0 :                                               select_peopleindex[12] + select_peopleindex[13] + select_peopleindex[17] + select_peopleindex[19] :  +Inf :   True\n",
            "         19 :   1.0 :                                                                        select_peopleindex[16] + select_peopleindex[18] + select_peopleindex[19] :  +Inf :   True\n",
            "         20 :   1.0 :                      select_peopleindex[12] + select_peopleindex[16] + select_peopleindex[17] + select_peopleindex[18] + select_peopleindex[19] :  +Inf :   True\n",
            "\n",
            "5 Declarations: select_peopleindex_index select_peopleindex covering_constraints_index covering_constraints objective\n"
          ]
        }
      ]
    },
    {
      "cell_type": "code",
      "source": [
        "# Solver\n",
        "opt = SolverFactory('cbc')\n",
        "opt_success = opt.solve(model,tee=False,timelimit=60)"
      ],
      "metadata": {
        "id": "yuQT6EJCmzVh"
      },
      "execution_count": null,
      "outputs": []
    },
    {
      "cell_type": "code",
      "source": [
        "# Print output of profile indexes to be targeted\n",
        "print(\"profile index to be targeted: \")\n",
        "for i in range(small):\n",
        "  if value(model.select_peopleindex[i]) > 0.9:\n",
        "    print(\"\\t\", i + 1)\n",
        "print(\"Model objective: \", value(model.objective))"
      ],
      "metadata": {
        "colab": {
          "base_uri": "https://localhost:8080/"
        },
        "id": "o_Sx3VNad760",
        "outputId": "c38e2f7c-b0ae-480a-ea46-41e481b6cfff"
      },
      "execution_count": null,
      "outputs": [
        {
          "output_type": "stream",
          "name": "stdout",
          "text": [
            "profile index to be targeted: \n",
            "\t 3\n",
            "\t 7\n",
            "\t 12\n",
            "\t 16\n",
            "\t 20\n",
            "Model objective:  5.0\n"
          ]
        }
      ]
    },
    {
      "cell_type": "markdown",
      "source": [
        "##Large network"
      ],
      "metadata": {
        "id": "Ct3Vc5sQdT6m"
      }
    },
    {
      "cell_type": "code",
      "source": [
        "#Number of indexes\n",
        "large = large_network_matrix.shape[0]"
      ],
      "metadata": {
        "id": "V6kgAwalUpiQ"
      },
      "execution_count": null,
      "outputs": []
    },
    {
      "cell_type": "code",
      "source": [
        "# define model\n",
        "model = ConcreteModel()\n",
        "model.select_peopleindex = Var( range(large), within = Binary)"
      ],
      "metadata": {
        "id": "Dg8O6UDudbYb"
      },
      "execution_count": null,
      "outputs": []
    },
    {
      "cell_type": "code",
      "source": [
        "# constraints\n",
        "model.covering_constraints = ConstraintList()\n",
        "for people in range(large):\n",
        "  cover_expr = 0\n",
        "  for cover_connection in range(large):\n",
        "    if large_network_matrix [people, cover_connection] > 0.9:\n",
        "      cover_expr += model.select_peopleindex[cover_connection]\n",
        "  model.covering_constraints.add( cover_expr >= 1 )\n",
        "freetrails = 0\n",
        "for people in range(large):\n",
        "  freetrails += model.select_peopleindex[people]\n",
        "\n",
        "# Define objective function\n",
        "model.objective = Objective(\n",
        "  expr = freetrails,\n",
        "  sense = minimize\n",
        ")"
      ],
      "metadata": {
        "id": "GZdLE8KYdbax"
      },
      "execution_count": null,
      "outputs": []
    },
    {
      "cell_type": "code",
      "source": [
        "#Print model\n",
        "model.pprint()"
      ],
      "metadata": {
        "colab": {
          "base_uri": "https://localhost:8080/"
        },
        "id": "ZvX2CbdbnGsf",
        "outputId": "69bcd329-a6f9-4806-ff92-ec2dc32c47ab"
      },
      "execution_count": null,
      "outputs": [
        {
          "output_type": "stream",
          "name": "stdout",
          "text": [
            "2 Set Declarations\n",
            "    covering_constraints_index : Size=1, Index=None, Ordered=Insertion\n",
            "        Key  : Dimen : Domain : Size : Members\n",
            "        None :     1 :    Any :   50 : {1, 2, 3, 4, 5, 6, 7, 8, 9, 10, 11, 12, 13, 14, 15, 16, 17, 18, 19, 20, 21, 22, 23, 24, 25, 26, 27, 28, 29, 30, 31, 32, 33, 34, 35, 36, 37, 38, 39, 40, 41, 42, 43, 44, 45, 46, 47, 48, 49, 50}\n",
            "    select_peopleindex_index : Size=1, Index=None, Ordered=Insertion\n",
            "        Key  : Dimen : Domain : Size : Members\n",
            "        None :     1 :    Any :   50 : {0, 1, 2, 3, 4, 5, 6, 7, 8, 9, 10, 11, 12, 13, 14, 15, 16, 17, 18, 19, 20, 21, 22, 23, 24, 25, 26, 27, 28, 29, 30, 31, 32, 33, 34, 35, 36, 37, 38, 39, 40, 41, 42, 43, 44, 45, 46, 47, 48, 49}\n",
            "\n",
            "1 Var Declarations\n",
            "    select_peopleindex : Size=50, Index=select_peopleindex_index\n",
            "        Key : Lower : Value : Upper : Fixed : Stale : Domain\n",
            "          0 :     0 :  None :     1 : False :  True : Binary\n",
            "          1 :     0 :  None :     1 : False :  True : Binary\n",
            "          2 :     0 :  None :     1 : False :  True : Binary\n",
            "          3 :     0 :  None :     1 : False :  True : Binary\n",
            "          4 :     0 :  None :     1 : False :  True : Binary\n",
            "          5 :     0 :  None :     1 : False :  True : Binary\n",
            "          6 :     0 :  None :     1 : False :  True : Binary\n",
            "          7 :     0 :  None :     1 : False :  True : Binary\n",
            "          8 :     0 :  None :     1 : False :  True : Binary\n",
            "          9 :     0 :  None :     1 : False :  True : Binary\n",
            "         10 :     0 :  None :     1 : False :  True : Binary\n",
            "         11 :     0 :  None :     1 : False :  True : Binary\n",
            "         12 :     0 :  None :     1 : False :  True : Binary\n",
            "         13 :     0 :  None :     1 : False :  True : Binary\n",
            "         14 :     0 :  None :     1 : False :  True : Binary\n",
            "         15 :     0 :  None :     1 : False :  True : Binary\n",
            "         16 :     0 :  None :     1 : False :  True : Binary\n",
            "         17 :     0 :  None :     1 : False :  True : Binary\n",
            "         18 :     0 :  None :     1 : False :  True : Binary\n",
            "         19 :     0 :  None :     1 : False :  True : Binary\n",
            "         20 :     0 :  None :     1 : False :  True : Binary\n",
            "         21 :     0 :  None :     1 : False :  True : Binary\n",
            "         22 :     0 :  None :     1 : False :  True : Binary\n",
            "         23 :     0 :  None :     1 : False :  True : Binary\n",
            "         24 :     0 :  None :     1 : False :  True : Binary\n",
            "         25 :     0 :  None :     1 : False :  True : Binary\n",
            "         26 :     0 :  None :     1 : False :  True : Binary\n",
            "         27 :     0 :  None :     1 : False :  True : Binary\n",
            "         28 :     0 :  None :     1 : False :  True : Binary\n",
            "         29 :     0 :  None :     1 : False :  True : Binary\n",
            "         30 :     0 :  None :     1 : False :  True : Binary\n",
            "         31 :     0 :  None :     1 : False :  True : Binary\n",
            "         32 :     0 :  None :     1 : False :  True : Binary\n",
            "         33 :     0 :  None :     1 : False :  True : Binary\n",
            "         34 :     0 :  None :     1 : False :  True : Binary\n",
            "         35 :     0 :  None :     1 : False :  True : Binary\n",
            "         36 :     0 :  None :     1 : False :  True : Binary\n",
            "         37 :     0 :  None :     1 : False :  True : Binary\n",
            "         38 :     0 :  None :     1 : False :  True : Binary\n",
            "         39 :     0 :  None :     1 : False :  True : Binary\n",
            "         40 :     0 :  None :     1 : False :  True : Binary\n",
            "         41 :     0 :  None :     1 : False :  True : Binary\n",
            "         42 :     0 :  None :     1 : False :  True : Binary\n",
            "         43 :     0 :  None :     1 : False :  True : Binary\n",
            "         44 :     0 :  None :     1 : False :  True : Binary\n",
            "         45 :     0 :  None :     1 : False :  True : Binary\n",
            "         46 :     0 :  None :     1 : False :  True : Binary\n",
            "         47 :     0 :  None :     1 : False :  True : Binary\n",
            "         48 :     0 :  None :     1 : False :  True : Binary\n",
            "         49 :     0 :  None :     1 : False :  True : Binary\n",
            "\n",
            "1 Objective Declarations\n",
            "    objective : Size=1, Index=None, Active=True\n",
            "        Key  : Active : Sense    : Expression\n",
            "        None :   True : minimize : select_peopleindex[0] + select_peopleindex[1] + select_peopleindex[2] + select_peopleindex[3] + select_peopleindex[4] + select_peopleindex[5] + select_peopleindex[6] + select_peopleindex[7] + select_peopleindex[8] + select_peopleindex[9] + select_peopleindex[10] + select_peopleindex[11] + select_peopleindex[12] + select_peopleindex[13] + select_peopleindex[14] + select_peopleindex[15] + select_peopleindex[16] + select_peopleindex[17] + select_peopleindex[18] + select_peopleindex[19] + select_peopleindex[20] + select_peopleindex[21] + select_peopleindex[22] + select_peopleindex[23] + select_peopleindex[24] + select_peopleindex[25] + select_peopleindex[26] + select_peopleindex[27] + select_peopleindex[28] + select_peopleindex[29] + select_peopleindex[30] + select_peopleindex[31] + select_peopleindex[32] + select_peopleindex[33] + select_peopleindex[34] + select_peopleindex[35] + select_peopleindex[36] + select_peopleindex[37] + select_peopleindex[38] + select_peopleindex[39] + select_peopleindex[40] + select_peopleindex[41] + select_peopleindex[42] + select_peopleindex[43] + select_peopleindex[44] + select_peopleindex[45] + select_peopleindex[46] + select_peopleindex[47] + select_peopleindex[48] + select_peopleindex[49]\n",
            "\n",
            "1 Constraint Declarations\n",
            "    covering_constraints : Size=50, Index=covering_constraints_index, Active=True\n",
            "        Key : Lower : Body                                                                                                                                                                                                                           : Upper : Active\n",
            "          1 :   1.0 :                                                                                select_peopleindex[0] + select_peopleindex[1] + select_peopleindex[2] + select_peopleindex[4] + select_peopleindex[24] + select_peopleindex[46] :  +Inf :   True\n",
            "          2 :   1.0 :                                                                                                       select_peopleindex[0] + select_peopleindex[1] + select_peopleindex[15] + select_peopleindex[23] + select_peopleindex[25] :  +Inf :   True\n",
            "          3 :   1.0 :                                                                                                                                  select_peopleindex[0] + select_peopleindex[2] + select_peopleindex[3] + select_peopleindex[4] :  +Inf :   True\n",
            "          4 :   1.0 :                                                                                                                                                          select_peopleindex[2] + select_peopleindex[3] + select_peopleindex[4] :  +Inf :   True\n",
            "          5 :   1.0 :                                                                                                                                  select_peopleindex[0] + select_peopleindex[2] + select_peopleindex[3] + select_peopleindex[4] :  +Inf :   True\n",
            "          6 :   1.0 :                                                                                                      select_peopleindex[5] + select_peopleindex[21] + select_peopleindex[22] + select_peopleindex[31] + select_peopleindex[38] :  +Inf :   True\n",
            "          7 :   1.0 :                                                                                                                                  select_peopleindex[6] + select_peopleindex[7] + select_peopleindex[8] + select_peopleindex[9] :  +Inf :   True\n",
            "          8 :   1.0 :                                                                                                                                  select_peopleindex[6] + select_peopleindex[7] + select_peopleindex[8] + select_peopleindex[9] :  +Inf :   True\n",
            "          9 :   1.0 :                                                                                                        select_peopleindex[6] + select_peopleindex[7] + select_peopleindex[8] + select_peopleindex[25] + select_peopleindex[28] :  +Inf :   True\n",
            "         10 :   1.0 :                                                                                                                                 select_peopleindex[6] + select_peopleindex[7] + select_peopleindex[9] + select_peopleindex[20] :  +Inf :   True\n",
            "         11 :   1.0 :                                                                            select_peopleindex[10] + select_peopleindex[11] + select_peopleindex[12] + select_peopleindex[21] + select_peopleindex[32] + select_peopleindex[45] :  +Inf :   True\n",
            "         12 :   1.0 : select_peopleindex[10] + select_peopleindex[11] + select_peopleindex[12] + select_peopleindex[14] + select_peopleindex[16] + select_peopleindex[17] + select_peopleindex[25] + select_peopleindex[26] + select_peopleindex[46] :  +Inf :   True\n",
            "         13 :   1.0 :                                                                                                     select_peopleindex[10] + select_peopleindex[11] + select_peopleindex[12] + select_peopleindex[13] + select_peopleindex[14] :  +Inf :   True\n",
            "         14 :   1.0 :                                                                                                                                                       select_peopleindex[12] + select_peopleindex[13] + select_peopleindex[14] :  +Inf :   True\n",
            "         15 :   1.0 :                                                                                                                              select_peopleindex[11] + select_peopleindex[12] + select_peopleindex[13] + select_peopleindex[14] :  +Inf :   True\n",
            "         16 :   1.0 :                                                    select_peopleindex[1] + select_peopleindex[15] + select_peopleindex[18] + select_peopleindex[25] + select_peopleindex[26] + select_peopleindex[41] + select_peopleindex[47] :  +Inf :   True\n",
            "         17 :   1.0 :                                                                                                     select_peopleindex[11] + select_peopleindex[16] + select_peopleindex[18] + select_peopleindex[19] + select_peopleindex[21] :  +Inf :   True\n",
            "         18 :   1.0 :                                                                                                                                                       select_peopleindex[11] + select_peopleindex[17] + select_peopleindex[19] :  +Inf :   True\n",
            "         19 :   1.0 :                                                                                                     select_peopleindex[15] + select_peopleindex[16] + select_peopleindex[18] + select_peopleindex[30] + select_peopleindex[35] :  +Inf :   True\n",
            "         20 :   1.0 :                                                                                                     select_peopleindex[16] + select_peopleindex[17] + select_peopleindex[19] + select_peopleindex[25] + select_peopleindex[31] :  +Inf :   True\n",
            "         21 :   1.0 :                                                                                                      select_peopleindex[9] + select_peopleindex[20] + select_peopleindex[21] + select_peopleindex[24] + select_peopleindex[43] :  +Inf :   True\n",
            "         22 :   1.0 :                           select_peopleindex[5] + select_peopleindex[10] + select_peopleindex[16] + select_peopleindex[20] + select_peopleindex[21] + select_peopleindex[23] + select_peopleindex[24] + select_peopleindex[41] :  +Inf :   True\n",
            "         23 :   1.0 :                                                                                                      select_peopleindex[5] + select_peopleindex[22] + select_peopleindex[23] + select_peopleindex[24] + select_peopleindex[37] :  +Inf :   True\n",
            "         24 :   1.0 :                                                                                                      select_peopleindex[1] + select_peopleindex[21] + select_peopleindex[22] + select_peopleindex[23] + select_peopleindex[24] :  +Inf :   True\n",
            "         25 :   1.0 :  select_peopleindex[0] + select_peopleindex[20] + select_peopleindex[21] + select_peopleindex[22] + select_peopleindex[23] + select_peopleindex[24] + select_peopleindex[30] + select_peopleindex[37] + select_peopleindex[46] :  +Inf :   True\n",
            "         26 :   1.0 :                                                     select_peopleindex[1] + select_peopleindex[8] + select_peopleindex[11] + select_peopleindex[15] + select_peopleindex[19] + select_peopleindex[25] + select_peopleindex[27] :  +Inf :   True\n",
            "         27 :   1.0 :                                                                                                     select_peopleindex[11] + select_peopleindex[15] + select_peopleindex[26] + select_peopleindex[28] + select_peopleindex[29] :  +Inf :   True\n",
            "         28 :   1.0 :                                                                                                                              select_peopleindex[25] + select_peopleindex[27] + select_peopleindex[28] + select_peopleindex[29] :  +Inf :   True\n",
            "         29 :   1.0 :                                                                                                                               select_peopleindex[8] + select_peopleindex[26] + select_peopleindex[27] + select_peopleindex[28] :  +Inf :   True\n",
            "         30 :   1.0 :                                                                                                                                                       select_peopleindex[26] + select_peopleindex[27] + select_peopleindex[29] :  +Inf :   True\n",
            "         31 :   1.0 :                                                                                                     select_peopleindex[18] + select_peopleindex[24] + select_peopleindex[30] + select_peopleindex[31] + select_peopleindex[40] :  +Inf :   True\n",
            "         32 :   1.0 :                                                                             select_peopleindex[5] + select_peopleindex[19] + select_peopleindex[30] + select_peopleindex[31] + select_peopleindex[32] + select_peopleindex[33] :  +Inf :   True\n",
            "         33 :   1.0 :                                                                                                     select_peopleindex[10] + select_peopleindex[31] + select_peopleindex[32] + select_peopleindex[33] + select_peopleindex[34] :  +Inf :   True\n",
            "         34 :   1.0 :                                                                                                                              select_peopleindex[31] + select_peopleindex[32] + select_peopleindex[33] + select_peopleindex[34] :  +Inf :   True\n",
            "         35 :   1.0 :                                                                                                                                                       select_peopleindex[32] + select_peopleindex[33] + select_peopleindex[34] :  +Inf :   True\n",
            "         36 :   1.0 :                                                                            select_peopleindex[18] + select_peopleindex[35] + select_peopleindex[36] + select_peopleindex[37] + select_peopleindex[38] + select_peopleindex[39] :  +Inf :   True\n",
            "         37 :   1.0 :                                                                                                     select_peopleindex[35] + select_peopleindex[36] + select_peopleindex[37] + select_peopleindex[38] + select_peopleindex[39] :  +Inf :   True\n",
            "         38 :   1.0 :                                                                                                     select_peopleindex[22] + select_peopleindex[24] + select_peopleindex[35] + select_peopleindex[36] + select_peopleindex[37] :  +Inf :   True\n",
            "         39 :   1.0 :                                                                                                      select_peopleindex[5] + select_peopleindex[35] + select_peopleindex[36] + select_peopleindex[38] + select_peopleindex[39] :  +Inf :   True\n",
            "         40 :   1.0 :                                                                                                                              select_peopleindex[35] + select_peopleindex[36] + select_peopleindex[38] + select_peopleindex[39] :  +Inf :   True\n",
            "         41 :   1.0 :                                                                            select_peopleindex[30] + select_peopleindex[40] + select_peopleindex[41] + select_peopleindex[42] + select_peopleindex[43] + select_peopleindex[44] :  +Inf :   True\n",
            "         42 :   1.0 :                                                                            select_peopleindex[15] + select_peopleindex[21] + select_peopleindex[40] + select_peopleindex[41] + select_peopleindex[42] + select_peopleindex[47] :  +Inf :   True\n",
            "         43 :   1.0 :                                                                                                     select_peopleindex[40] + select_peopleindex[41] + select_peopleindex[42] + select_peopleindex[43] + select_peopleindex[44] :  +Inf :   True\n",
            "         44 :   1.0 :                                                                                                     select_peopleindex[20] + select_peopleindex[40] + select_peopleindex[42] + select_peopleindex[43] + select_peopleindex[44] :  +Inf :   True\n",
            "         45 :   1.0 :                                                                                                                              select_peopleindex[40] + select_peopleindex[42] + select_peopleindex[43] + select_peopleindex[44] :  +Inf :   True\n",
            "         46 :   1.0 :                                                                                                     select_peopleindex[10] + select_peopleindex[45] + select_peopleindex[46] + select_peopleindex[48] + select_peopleindex[49] :  +Inf :   True\n",
            "         47 :   1.0 :                                                                             select_peopleindex[0] + select_peopleindex[11] + select_peopleindex[24] + select_peopleindex[45] + select_peopleindex[46] + select_peopleindex[49] :  +Inf :   True\n",
            "         48 :   1.0 :                                                                                                     select_peopleindex[15] + select_peopleindex[41] + select_peopleindex[47] + select_peopleindex[48] + select_peopleindex[49] :  +Inf :   True\n",
            "         49 :   1.0 :                                                                                                                              select_peopleindex[45] + select_peopleindex[47] + select_peopleindex[48] + select_peopleindex[49] :  +Inf :   True\n",
            "         50 :   1.0 :                                                                                                     select_peopleindex[45] + select_peopleindex[46] + select_peopleindex[47] + select_peopleindex[48] + select_peopleindex[49] :  +Inf :   True\n",
            "\n",
            "5 Declarations: select_peopleindex_index select_peopleindex covering_constraints_index covering_constraints objective\n"
          ]
        }
      ]
    },
    {
      "cell_type": "code",
      "source": [
        "#Solver function\n",
        "\n",
        "opt = SolverFactory('cbc')\n",
        "opt_success = opt.solve(model,tee=False,timelimit=60)"
      ],
      "metadata": {
        "id": "dd3_reGanDmJ"
      },
      "execution_count": null,
      "outputs": []
    },
    {
      "cell_type": "code",
      "source": [
        "print(\"person to be targeted: \")\n",
        "for i in range(large):\n",
        "  if value(model.select_peopleindex[i]) > 0.9:\n",
        "    print(\"\\t\", i + 1)\n",
        "print(\"Model objective: \", value(model.objective))"
      ],
      "metadata": {
        "id": "5q6uP_hMdbh3",
        "colab": {
          "base_uri": "https://localhost:8080/"
        },
        "outputId": "73dd77b5-2c67-4227-fb40-f8c3dc2e6da1"
      },
      "execution_count": null,
      "outputs": [
        {
          "output_type": "stream",
          "name": "stdout",
          "text": [
            "person to be targeted: \n",
            "\t 5\n",
            "\t 8\n",
            "\t 13\n",
            "\t 16\n",
            "\t 20\n",
            "\t 25\n",
            "\t 28\n",
            "\t 35\n",
            "\t 39\n",
            "\t 44\n",
            "\t 46\n",
            "Model objective:  11.0\n"
          ]
        }
      ]
    },
    {
      "cell_type": "markdown",
      "source": [
        "# 2 (B)"
      ],
      "metadata": {
        "id": "vfRK50DVP16D"
      }
    },
    {
      "cell_type": "markdown",
      "source": [
        "##Small network"
      ],
      "metadata": {
        "id": "MtGOO6tfVD_k"
      }
    },
    {
      "cell_type": "code",
      "source": [
        "# Store number of indexes in n for small networks\n",
        "n = small_network_matrix.shape[0]"
      ],
      "metadata": {
        "id": "Ydg7Xkd3R0Iz"
      },
      "execution_count": null,
      "outputs": []
    },
    {
      "cell_type": "code",
      "source": [
        "# Define concrete model\n",
        "model = ConcreteModel()\n",
        "model.select_people = Var( range(n), within = Binary)"
      ],
      "metadata": {
        "id": "n2W0J36Zn2bt"
      },
      "execution_count": null,
      "outputs": []
    },
    {
      "cell_type": "code",
      "source": [
        "# Problem constraints\n",
        "model.covering_constraints = ConstraintList()\n",
        "cover_expr = 0\n",
        "for people in range (n):\n",
        "  for connections in range (n):\n",
        "    cover_expr += model.select_people[people] *small_network_matrix[people, connections]\n",
        "model.maximum_trial_constraint = ConstraintList()\n",
        "no_people_selected = 0\n",
        "for people in range (n):\n",
        "  no_people_selected += model.select_people[people]\n",
        "model.maximum_trial_constraint.add(no_people_selected <= 2)\n",
        "model.objective = Objective(\n",
        "  expr = cover_expr,\n",
        "  sense = maximize\n",
        ")"
      ],
      "metadata": {
        "id": "i1yqlnsGQBE3"
      },
      "execution_count": null,
      "outputs": []
    },
    {
      "cell_type": "code",
      "source": [
        "#Print model function\n",
        "model.pprint()"
      ],
      "metadata": {
        "id": "71mN-2MiTEDl",
        "outputId": "3c5cbd1c-b601-44b3-a016-c85f11bb9363",
        "colab": {
          "base_uri": "https://localhost:8080/"
        }
      },
      "execution_count": null,
      "outputs": [
        {
          "output_type": "stream",
          "name": "stdout",
          "text": [
            "3 Set Declarations\n",
            "    covering_constraints_index : Size=1, Index=None, Ordered=Insertion\n",
            "        Key  : Dimen : Domain : Size : Members\n",
            "        None :     1 :    Any :    0 :      {}\n",
            "    maximum_trial_constraint_index : Size=1, Index=None, Ordered=Insertion\n",
            "        Key  : Dimen : Domain : Size : Members\n",
            "        None :     1 :    Any :    1 :    {1,}\n",
            "    select_people_index : Size=1, Index=None, Ordered=Insertion\n",
            "        Key  : Dimen : Domain : Size : Members\n",
            "        None :     1 :    Any :   20 : {0, 1, 2, 3, 4, 5, 6, 7, 8, 9, 10, 11, 12, 13, 14, 15, 16, 17, 18, 19}\n",
            "\n",
            "1 Var Declarations\n",
            "    select_people : Size=20, Index=select_people_index\n",
            "        Key : Lower : Value : Upper : Fixed : Stale : Domain\n",
            "          0 :     0 :  None :     1 : False :  True : Binary\n",
            "          1 :     0 :  None :     1 : False :  True : Binary\n",
            "          2 :     0 :  None :     1 : False :  True : Binary\n",
            "          3 :     0 :  None :     1 : False :  True : Binary\n",
            "          4 :     0 :  None :     1 : False :  True : Binary\n",
            "          5 :     0 :  None :     1 : False :  True : Binary\n",
            "          6 :     0 :  None :     1 : False :  True : Binary\n",
            "          7 :     0 :  None :     1 : False :  True : Binary\n",
            "          8 :     0 :  None :     1 : False :  True : Binary\n",
            "          9 :     0 :  None :     1 : False :  True : Binary\n",
            "         10 :     0 :  None :     1 : False :  True : Binary\n",
            "         11 :     0 :  None :     1 : False :  True : Binary\n",
            "         12 :     0 :  None :     1 : False :  True : Binary\n",
            "         13 :     0 :  None :     1 : False :  True : Binary\n",
            "         14 :     0 :  None :     1 : False :  True : Binary\n",
            "         15 :     0 :  None :     1 : False :  True : Binary\n",
            "         16 :     0 :  None :     1 : False :  True : Binary\n",
            "         17 :     0 :  None :     1 : False :  True : Binary\n",
            "         18 :     0 :  None :     1 : False :  True : Binary\n",
            "         19 :     0 :  None :     1 : False :  True : Binary\n",
            "\n",
            "1 Objective Declarations\n",
            "    objective : Size=1, Index=None, Active=True\n",
            "        Key  : Active : Sense    : Expression\n",
            "        None :   True : maximize : select_people[0] + select_people[0] + select_people[0] + select_people[0] + select_people[1] + select_people[1] + select_people[1] + select_people[1] + select_people[2] + select_people[2] + select_people[2] + select_people[2] + select_people[3] + select_people[3] + select_people[3] + select_people[4] + select_people[4] + select_people[4] + select_people[4] + select_people[5] + select_people[5] + select_people[5] + select_people[5] + select_people[6] + select_people[6] + select_people[6] + select_people[6] + select_people[7] + select_people[7] + select_people[7] + select_people[8] + select_people[8] + select_people[8] + select_people[8] + select_people[8] + select_people[8] + select_people[9] + select_people[9] + select_people[9] + select_people[9] + select_people[9] + select_people[9] + select_people[10] + select_people[10] + select_people[10] + select_people[11] + select_people[11] + select_people[11] + select_people[11] + select_people[12] + select_people[12] + select_people[12] + select_people[12] + select_people[12] + select_people[13] + select_people[13] + select_people[13] + select_people[13] + select_people[14] + select_people[14] + select_people[15] + select_people[15] + select_people[15] + select_people[15] + select_people[16] + select_people[16] + select_people[16] + select_people[16] + select_people[17] + select_people[17] + select_people[17] + select_people[17] + select_people[18] + select_people[18] + select_people[18] + select_people[19] + select_people[19] + select_people[19] + select_people[19] + select_people[19]\n",
            "\n",
            "2 Constraint Declarations\n",
            "    covering_constraints : Size=0, Index=covering_constraints_index, Active=True\n",
            "        Key : Lower : Body : Upper : Active\n",
            "    maximum_trial_constraint : Size=1, Index=maximum_trial_constraint_index, Active=True\n",
            "        Key : Lower : Body                                                                                                                                                                                                                                                                                                                                                                                                : Upper : Active\n",
            "          1 :  -Inf : select_people[0] + select_people[1] + select_people[2] + select_people[3] + select_people[4] + select_people[5] + select_people[6] + select_people[7] + select_people[8] + select_people[9] + select_people[10] + select_people[11] + select_people[12] + select_people[13] + select_people[14] + select_people[15] + select_people[16] + select_people[17] + select_people[18] + select_people[19] :   2.0 :   True\n",
            "\n",
            "7 Declarations: select_people_index select_people covering_constraints_index covering_constraints maximum_trial_constraint_index maximum_trial_constraint objective\n"
          ]
        }
      ]
    },
    {
      "cell_type": "code",
      "source": [
        "# Solver function\n",
        "opt = SolverFactory('cbc')\n",
        "opt_success = opt.solve(model,tee=False,timelimit=60)"
      ],
      "metadata": {
        "id": "GTgZ7X6rnyRe"
      },
      "execution_count": null,
      "outputs": []
    },
    {
      "cell_type": "code",
      "source": [
        "#Print output\n",
        "print(\"selected: \")\n",
        "for people in range(n):\n",
        "   if value(model.select_people [people]) > 0.9:\n",
        "    print(\"\\t\", people + 1)\n",
        "print(\"Model objective: \", value(model.objective))"
      ],
      "metadata": {
        "id": "VeYs4AdbQDF0",
        "outputId": "e0232893-690b-4a90-c8c0-cc1d1e4d66f5",
        "colab": {
          "base_uri": "https://localhost:8080/"
        }
      },
      "execution_count": null,
      "outputs": [
        {
          "output_type": "stream",
          "name": "stdout",
          "text": [
            "selected: \n",
            "\t 9\n",
            "\t 10\n",
            "Model objective:  12.0\n"
          ]
        }
      ]
    },
    {
      "cell_type": "code",
      "source": [],
      "metadata": {
        "id": "jdqvFNanQDmn"
      },
      "execution_count": null,
      "outputs": []
    },
    {
      "cell_type": "markdown",
      "source": [
        "## Large network"
      ],
      "metadata": {
        "id": "eYxeDp5JVOfj"
      }
    },
    {
      "cell_type": "code",
      "source": [
        "# Store number of indexes in n for large networks\n",
        "n_large = large_network_matrix.shape[0]"
      ],
      "metadata": {
        "id": "5kkyD-1mZgcy"
      },
      "execution_count": null,
      "outputs": []
    },
    {
      "cell_type": "code",
      "source": [
        "# Define concrete model\n",
        "model = ConcreteModel()\n",
        "model.select_people = Var( range(n_large), within = Binary)"
      ],
      "metadata": {
        "id": "oJrcZ8dmZjIP"
      },
      "execution_count": null,
      "outputs": []
    },
    {
      "cell_type": "code",
      "source": [
        "model.covering_constraints = ConstraintList()\n",
        "cover_expr = 0\n",
        "for people in range (n_large):\n",
        "  for connections in range (n_large):\n",
        "    cover_expr += model.select_people[people] *large_network_matrix[people, connections]\n",
        "model.max_trial_constraint = ConstraintList()\n",
        "number_of_people_selected = 0\n",
        "for people in range (n_large):\n",
        "  number_of_people_selected += model.select_people[people]\n",
        "model.max_trial_constraint.add(number_of_people_selected <= 2)\n",
        "model.objective = Objective(\n",
        "  expr = cover_expr,\n",
        "  sense = maximize\n",
        ")"
      ],
      "metadata": {
        "id": "fUKDC6czZm7G"
      },
      "execution_count": null,
      "outputs": []
    },
    {
      "cell_type": "code",
      "source": [
        "# Print model\n",
        "model.pprint()"
      ],
      "metadata": {
        "id": "L3-sKttkZ1T8",
        "colab": {
          "base_uri": "https://localhost:8080/"
        },
        "outputId": "897b4bfe-bebf-4fc9-a4a7-59bc925084b7"
      },
      "execution_count": null,
      "outputs": [
        {
          "output_type": "stream",
          "name": "stdout",
          "text": [
            "3 Set Declarations\n",
            "    covering_constraints_index : Size=1, Index=None, Ordered=Insertion\n",
            "        Key  : Dimen : Domain : Size : Members\n",
            "        None :     1 :    Any :    0 :      {}\n",
            "    max_trial_constraint_index : Size=1, Index=None, Ordered=Insertion\n",
            "        Key  : Dimen : Domain : Size : Members\n",
            "        None :     1 :    Any :    1 :    {1,}\n",
            "    select_people_index : Size=1, Index=None, Ordered=Insertion\n",
            "        Key  : Dimen : Domain : Size : Members\n",
            "        None :     1 :    Any :   50 : {0, 1, 2, 3, 4, 5, 6, 7, 8, 9, 10, 11, 12, 13, 14, 15, 16, 17, 18, 19, 20, 21, 22, 23, 24, 25, 26, 27, 28, 29, 30, 31, 32, 33, 34, 35, 36, 37, 38, 39, 40, 41, 42, 43, 44, 45, 46, 47, 48, 49}\n",
            "\n",
            "1 Var Declarations\n",
            "    select_people : Size=50, Index=select_people_index\n",
            "        Key : Lower : Value : Upper : Fixed : Stale : Domain\n",
            "          0 :     0 :  None :     1 : False :  True : Binary\n",
            "          1 :     0 :  None :     1 : False :  True : Binary\n",
            "          2 :     0 :  None :     1 : False :  True : Binary\n",
            "          3 :     0 :  None :     1 : False :  True : Binary\n",
            "          4 :     0 :  None :     1 : False :  True : Binary\n",
            "          5 :     0 :  None :     1 : False :  True : Binary\n",
            "          6 :     0 :  None :     1 : False :  True : Binary\n",
            "          7 :     0 :  None :     1 : False :  True : Binary\n",
            "          8 :     0 :  None :     1 : False :  True : Binary\n",
            "          9 :     0 :  None :     1 : False :  True : Binary\n",
            "         10 :     0 :  None :     1 : False :  True : Binary\n",
            "         11 :     0 :  None :     1 : False :  True : Binary\n",
            "         12 :     0 :  None :     1 : False :  True : Binary\n",
            "         13 :     0 :  None :     1 : False :  True : Binary\n",
            "         14 :     0 :  None :     1 : False :  True : Binary\n",
            "         15 :     0 :  None :     1 : False :  True : Binary\n",
            "         16 :     0 :  None :     1 : False :  True : Binary\n",
            "         17 :     0 :  None :     1 : False :  True : Binary\n",
            "         18 :     0 :  None :     1 : False :  True : Binary\n",
            "         19 :     0 :  None :     1 : False :  True : Binary\n",
            "         20 :     0 :  None :     1 : False :  True : Binary\n",
            "         21 :     0 :  None :     1 : False :  True : Binary\n",
            "         22 :     0 :  None :     1 : False :  True : Binary\n",
            "         23 :     0 :  None :     1 : False :  True : Binary\n",
            "         24 :     0 :  None :     1 : False :  True : Binary\n",
            "         25 :     0 :  None :     1 : False :  True : Binary\n",
            "         26 :     0 :  None :     1 : False :  True : Binary\n",
            "         27 :     0 :  None :     1 : False :  True : Binary\n",
            "         28 :     0 :  None :     1 : False :  True : Binary\n",
            "         29 :     0 :  None :     1 : False :  True : Binary\n",
            "         30 :     0 :  None :     1 : False :  True : Binary\n",
            "         31 :     0 :  None :     1 : False :  True : Binary\n",
            "         32 :     0 :  None :     1 : False :  True : Binary\n",
            "         33 :     0 :  None :     1 : False :  True : Binary\n",
            "         34 :     0 :  None :     1 : False :  True : Binary\n",
            "         35 :     0 :  None :     1 : False :  True : Binary\n",
            "         36 :     0 :  None :     1 : False :  True : Binary\n",
            "         37 :     0 :  None :     1 : False :  True : Binary\n",
            "         38 :     0 :  None :     1 : False :  True : Binary\n",
            "         39 :     0 :  None :     1 : False :  True : Binary\n",
            "         40 :     0 :  None :     1 : False :  True : Binary\n",
            "         41 :     0 :  None :     1 : False :  True : Binary\n",
            "         42 :     0 :  None :     1 : False :  True : Binary\n",
            "         43 :     0 :  None :     1 : False :  True : Binary\n",
            "         44 :     0 :  None :     1 : False :  True : Binary\n",
            "         45 :     0 :  None :     1 : False :  True : Binary\n",
            "         46 :     0 :  None :     1 : False :  True : Binary\n",
            "         47 :     0 :  None :     1 : False :  True : Binary\n",
            "         48 :     0 :  None :     1 : False :  True : Binary\n",
            "         49 :     0 :  None :     1 : False :  True : Binary\n",
            "\n",
            "1 Objective Declarations\n",
            "    objective : Size=1, Index=None, Active=True\n",
            "        Key  : Active : Sense    : Expression\n",
            "        None :   True : maximize : select_people[0] + select_people[0] + select_people[0] + select_people[0] + select_people[0] + select_people[0] + select_people[1] + select_people[1] + select_people[1] + select_people[1] + select_people[1] + select_people[2] + select_people[2] + select_people[2] + select_people[2] + select_people[3] + select_people[3] + select_people[3] + select_people[4] + select_people[4] + select_people[4] + select_people[4] + select_people[5] + select_people[5] + select_people[5] + select_people[5] + select_people[5] + select_people[6] + select_people[6] + select_people[6] + select_people[6] + select_people[7] + select_people[7] + select_people[7] + select_people[7] + select_people[8] + select_people[8] + select_people[8] + select_people[8] + select_people[8] + select_people[9] + select_people[9] + select_people[9] + select_people[9] + select_people[10] + select_people[10] + select_people[10] + select_people[10] + select_people[10] + select_people[10] + select_people[11] + select_people[11] + select_people[11] + select_people[11] + select_people[11] + select_people[11] + select_people[11] + select_people[11] + select_people[11] + select_people[12] + select_people[12] + select_people[12] + select_people[12] + select_people[12] + select_people[13] + select_people[13] + select_people[13] + select_people[14] + select_people[14] + select_people[14] + select_people[14] + select_people[15] + select_people[15] + select_people[15] + select_people[15] + select_people[15] + select_people[15] + select_people[15] + select_people[16] + select_people[16] + select_people[16] + select_people[16] + select_people[16] + select_people[17] + select_people[17] + select_people[17] + select_people[18] + select_people[18] + select_people[18] + select_people[18] + select_people[18] + select_people[19] + select_people[19] + select_people[19] + select_people[19] + select_people[19] + select_people[20] + select_people[20] + select_people[20] + select_people[20] + select_people[20] + select_people[21] + select_people[21] + select_people[21] + select_people[21] + select_people[21] + select_people[21] + select_people[21] + select_people[21] + select_people[22] + select_people[22] + select_people[22] + select_people[22] + select_people[22] + select_people[23] + select_people[23] + select_people[23] + select_people[23] + select_people[23] + select_people[24] + select_people[24] + select_people[24] + select_people[24] + select_people[24] + select_people[24] + select_people[24] + select_people[24] + select_people[24] + select_people[25] + select_people[25] + select_people[25] + select_people[25] + select_people[25] + select_people[25] + select_people[25] + select_people[26] + select_people[26] + select_people[26] + select_people[26] + select_people[26] + select_people[27] + select_people[27] + select_people[27] + select_people[27] + select_people[28] + select_people[28] + select_people[28] + select_people[28] + select_people[29] + select_people[29] + select_people[29] + select_people[30] + select_people[30] + select_people[30] + select_people[30] + select_people[30] + select_people[31] + select_people[31] + select_people[31] + select_people[31] + select_people[31] + select_people[31] + select_people[32] + select_people[32] + select_people[32] + select_people[32] + select_people[32] + select_people[33] + select_people[33] + select_people[33] + select_people[33] + select_people[34] + select_people[34] + select_people[34] + select_people[35] + select_people[35] + select_people[35] + select_people[35] + select_people[35] + select_people[35] + select_people[36] + select_people[36] + select_people[36] + select_people[36] + select_people[36] + select_people[37] + select_people[37] + select_people[37] + select_people[37] + select_people[37] + select_people[38] + select_people[38] + select_people[38] + select_people[38] + select_people[38] + select_people[39] + select_people[39] + select_people[39] + select_people[39] + select_people[40] + select_people[40] + select_people[40] + select_people[40] + select_people[40] + select_people[40] + select_people[41] + select_people[41] + select_people[41] + select_people[41] + select_people[41] + select_people[41] + select_people[42] + select_people[42] + select_people[42] + select_people[42] + select_people[42] + select_people[43] + select_people[43] + select_people[43] + select_people[43] + select_people[43] + select_people[44] + select_people[44] + select_people[44] + select_people[44] + select_people[45] + select_people[45] + select_people[45] + select_people[45] + select_people[45] + select_people[46] + select_people[46] + select_people[46] + select_people[46] + select_people[46] + select_people[46] + select_people[47] + select_people[47] + select_people[47] + select_people[47] + select_people[47] + select_people[48] + select_people[48] + select_people[48] + select_people[48] + select_people[49] + select_people[49] + select_people[49] + select_people[49] + select_people[49]\n",
            "\n",
            "2 Constraint Declarations\n",
            "    covering_constraints : Size=0, Index=covering_constraints_index, Active=True\n",
            "        Key : Lower : Body : Upper : Active\n",
            "    max_trial_constraint : Size=1, Index=max_trial_constraint_index, Active=True\n",
            "        Key : Lower : Body                                                                                                                                                                                                                                                                                                                                                                                                                                                                                                                                                                                                                                                                                                                                                                                                                                                                                                                                                                                                                        : Upper : Active\n",
            "          1 :  -Inf : select_people[0] + select_people[1] + select_people[2] + select_people[3] + select_people[4] + select_people[5] + select_people[6] + select_people[7] + select_people[8] + select_people[9] + select_people[10] + select_people[11] + select_people[12] + select_people[13] + select_people[14] + select_people[15] + select_people[16] + select_people[17] + select_people[18] + select_people[19] + select_people[20] + select_people[21] + select_people[22] + select_people[23] + select_people[24] + select_people[25] + select_people[26] + select_people[27] + select_people[28] + select_people[29] + select_people[30] + select_people[31] + select_people[32] + select_people[33] + select_people[34] + select_people[35] + select_people[36] + select_people[37] + select_people[38] + select_people[39] + select_people[40] + select_people[41] + select_people[42] + select_people[43] + select_people[44] + select_people[45] + select_people[46] + select_people[47] + select_people[48] + select_people[49] :   2.0 :   True\n",
            "\n",
            "7 Declarations: select_people_index select_people covering_constraints_index covering_constraints max_trial_constraint_index max_trial_constraint objective\n"
          ]
        }
      ]
    },
    {
      "cell_type": "code",
      "source": [
        "# solver fuunction\n",
        "opt = SolverFactory('cbc')\n",
        "opt_success = opt.solve(model,tee=False,timelimit=60)"
      ],
      "metadata": {
        "id": "144KqYLNneBa"
      },
      "execution_count": null,
      "outputs": []
    },
    {
      "cell_type": "code",
      "source": [
        "#Print output\n",
        "print(\"selected: \")\n",
        "for p in range(n_large):\n",
        "   if value(model.select_people [p]) > 0.9:\n",
        "    print(\"\\t\", p + 1)\n",
        "print(\"Model objective: \", value(model.objective))"
      ],
      "metadata": {
        "id": "G7y9eVGWaidZ",
        "colab": {
          "base_uri": "https://localhost:8080/"
        },
        "outputId": "295f29bb-818d-4181-a3a6-a9f4e88c28c9"
      },
      "execution_count": null,
      "outputs": [
        {
          "output_type": "stream",
          "name": "stdout",
          "text": [
            "selected: \n",
            "\t 12\n",
            "\t 25\n",
            "Model objective:  18.0\n"
          ]
        }
      ]
    },
    {
      "cell_type": "code",
      "source": [],
      "metadata": {
        "id": "bR9j3fk2hS6M"
      },
      "execution_count": null,
      "outputs": []
    }
  ]
}